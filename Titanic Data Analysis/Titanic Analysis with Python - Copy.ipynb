{
 "cells": [
  {
   "cell_type": "markdown",
   "metadata": {
    "collapsed": true
   },
   "source": [
    "# Titanic Analysis With Python "
   ]
  },
  {
   "cell_type": "markdown",
   "metadata": {},
   "source": [
    "The aim of this project is using python to analyse a data set containing information on the Titanic and then communicating \n",
    "\n",
    "findings as well as I can using only Python and Matplotlib without the NumPy and Pandas libraries."
   ]
  },
  {
   "cell_type": "markdown",
   "metadata": {
    "collapsed": true
   },
   "source": [
    "# Importing The DataSet "
   ]
  },
  {
   "cell_type": "code",
   "execution_count": null,
   "metadata": {},
   "outputs": [],
   "source": [
    "##Importing the csv file from location on storage into a python list\n",
    "\n",
    "import unicodecsv\n",
    "\n",
    "with open ('titanic_data.csv','rb') as f:   #Open the csv file as a readable binary attached to the variable f\n",
    "    reader = unicodecsv.DictReader(f)       #Using the UNICODECSV library, read the file into a One time reader\n",
    "    titanic_data = list(reader)             #Read the info from the reader as a list into the variable 'titanic_data'"
   ]
  },
  {
   "cell_type": "code",
   "execution_count": 61,
   "metadata": {},
   "outputs": [
    {
     "data": {
      "text/plain": [
       "[OrderedDict([('PassengerId', '1'),\n",
       "              ('Survived', '0'),\n",
       "              ('Pclass', '3'),\n",
       "              ('Name', 'Braund, Mr. Owen Harris'),\n",
       "              ('Sex', 'male'),\n",
       "              ('Age', '22'),\n",
       "              ('SibSp', '1'),\n",
       "              ('Parch', '0'),\n",
       "              ('Ticket', 'A/5 21171'),\n",
       "              ('Fare', '7.25'),\n",
       "              ('Cabin', ''),\n",
       "              ('Embarked', 'S')]),\n",
       " OrderedDict([('PassengerId', '2'),\n",
       "              ('Survived', '1'),\n",
       "              ('Pclass', '1'),\n",
       "              ('Name', 'Cumings, Mrs. John Bradley (Florence Briggs Thayer)'),\n",
       "              ('Sex', 'female'),\n",
       "              ('Age', '38'),\n",
       "              ('SibSp', '1'),\n",
       "              ('Parch', '0'),\n",
       "              ('Ticket', 'PC 17599'),\n",
       "              ('Fare', '71.2833'),\n",
       "              ('Cabin', 'C85'),\n",
       "              ('Embarked', 'C')])]"
      ]
     },
     "execution_count": 61,
     "metadata": {},
     "output_type": "execute_result"
    }
   ],
   "source": [
    "titanic_data[0:2]           ##Checking on a slice of the data in the list "
   ]
  },
  {
   "cell_type": "markdown",
   "metadata": {},
   "source": [
    "# QUESTIONS, EXPECTATIONS AND PROPOSED ANALYSIS"
   ]
  },
  {
   "cell_type": "markdown",
   "metadata": {},
   "source": [
    "Inspecting the data on Excel Spreadsheets, I have come up with quite a few intriguing questions I propose to answer.\n",
    "\n",
    "These questions are:\n",
    "\n",
    "A: Spotting survivability rates by age and sex\n",
    "\n",
    "1) I'm interested in seeing how survival varied by age. I am also interested in calculating these totals by categories. Categories are within the age ranges of:\n",
    "      - A child is rated as 12 years and below.\n",
    "      - Men and women are rated as above 21.\n",
    "      - Adolescents are between 12 and 21.\n",
    "      - Males and Females are as designated by the data.\n",
    "      - Elderly is an age class above years of age.\n",
    "\n",
    "2) The survivors data totalled for the above categories as well as:\n",
    "      - Total number of survivors         ----\n",
    "      - Total number of male survivors       ----\n",
    "      - Total number of female survivors       ----\n",
    "\n",
    "3) The ages and the means for those same categories.\n",
    "      - Mean age of passengers       ----\n",
    "      - Mean age of survivors       ----\n",
    "      - Mean age of male passengers        ----\n",
    "      - Mean age of male survivors       ----\n",
    "      - Mean age of female survivors       ----\n",
    "      - Mean age of female passengers        ---- \n",
    "      - Mean age of female survivors       ----\n",
    "      - Mean number of child and adolescents passengers \n",
    "      - Mean number of child and adolescents survivors \n",
    "\n",
    "---->Noted: I think a histogram/stacked bar plot might be best for displaying the above data (1-3).\n",
    "\n",
    "B: Searching other factors that affecting survivability\n",
    "\n",
    "4) Exploring the Relationships between factors that affect survivability:\n",
    "\n",
    "      - Sex and survivability              (Sex is designated as M, F by the data)\n",
    "      - Ticket Class and survivability     (Ticket class is divided into 1st, 2nd and 3rd Class)\n",
    "      - Passenger Fare and survivability   \n",
    "      - Age and survivability\n",
    "      - Cabin number and survivability\n",
    "      - Port of Embarkation and survivability  (Ports of Embarkation are C = Cherbourg, Q = Queenstown, S = Southampton)\n",
    "     \n",
    "---->Noted: I think a scatter plot might be best for examining the above data.\n",
    "\n",
    "5) Also searching through these possible relationships might be interesting:\n",
    "      \n",
    "      Fare and Ticket Class and survivability on size\n",
    "      Attempting investigating data for Families on the titanic.\n",
    "      Age, Ticket Fare and no of siblings reported\n",
    "\n",
    "---->Noted: I think a bubble plot might be best for examining the above data.\n",
    "\n",
    "6) What price of ticket determines what class one is put into."
   ]
  },
  {
   "cell_type": "markdown",
   "metadata": {},
   "source": [
    "# CLEANING THE DATA"
   ]
  },
  {
   "cell_type": "code",
   "execution_count": 62,
   "metadata": {},
   "outputs": [
    {
     "name": "stdout",
     "output_type": "stream",
     "text": [
      "Total Passengers present:  891\n",
      "PassengerId missing fields:  0\n",
      "Survived missing fields:  0\n",
      "Pclass missing fields:  0\n",
      "Name missing fields:  0\n",
      "Sex missing fields:  0\n",
      "Age missing fields:  177\n",
      "SibSp missing fields:  0\n",
      "Parch missing fields:  0\n",
      "Ticket missing fields:  0\n",
      "Fare missing fields:  0\n",
      "Cabin missing fields:  687\n",
      "Embarked missing fields:  2\n"
     ]
    }
   ],
   "source": [
    "## Writing a function to check for columns with missing data in the function\n",
    "\n",
    "def has_missing_data(data, field):\n",
    "    empty = set()               \n",
    "    for passenger in data:      ##Iterates through passenger data and checks for the fields to spot if empty\n",
    "        check = passenger[field] \n",
    "        if check == '':\n",
    "            empty.add(passenger['PassengerId']) #Returns a list of Passenger ID's with the missing fields\n",
    "    return empty\n",
    "\n",
    "print('Total Passengers present: ', len(titanic_data))\n",
    "print('PassengerId missing fields: ', len(has_missing_data(titanic_data, 'PassengerId')))\n",
    "print('Survived missing fields: ', len(has_missing_data(titanic_data, 'Survived')))\n",
    "print('Pclass missing fields: ', len(has_missing_data(titanic_data, 'Pclass')))\n",
    "print('Name missing fields: ', len(has_missing_data(titanic_data, 'Name')))\n",
    "print('Sex missing fields: ', len(has_missing_data(titanic_data, 'Sex')))\n",
    "print('Age missing fields: ', len(has_missing_data(titanic_data, 'Age')))\n",
    "print('SibSp missing fields: ', len(has_missing_data(titanic_data, 'SibSp')))\n",
    "print('Parch missing fields: ', len(has_missing_data(titanic_data, 'Parch')))\n",
    "print('Ticket missing fields: ', len(has_missing_data(titanic_data, 'Ticket')))\n",
    "print('Fare missing fields: ', len(has_missing_data(titanic_data, 'Fare')))\n",
    "print('Cabin missing fields: ', len(has_missing_data(titanic_data, 'Cabin')))\n",
    "print('Embarked missing fields: ', len(has_missing_data(titanic_data, 'Embarked')))"
   ]
  },
  {
   "cell_type": "markdown",
   "metadata": {},
   "source": [
    "###### From the results: \n",
    "177 passengers are missing age information, 687 passengers are missing Cabin data and 2 passengers are missing Embarked Data"
   ]
  },
  {
   "cell_type": "code",
   "execution_count": 63,
   "metadata": {
    "collapsed": true
   },
   "outputs": [],
   "source": [
    "#Cleaning Data on the dataset of empty values from Age, Cabin and Embarked\n",
    "##Write functions to convert data types\n",
    "\n",
    "\n",
    "def parse_element(element):       ##Checks for empty strings and fills with none          \n",
    "    if element == '':\n",
    "        return None\n",
    "    else:\n",
    "        return element\n",
    "    \n",
    "def parse_age(age):       ##Checks for empty strings and fills with none          \n",
    "    if age == '':\n",
    "        return None \n",
    "    else:\n",
    "        return float(age)     ##convert age to integers\n",
    "\n",
    "        \n",
    "for passenger in titanic_data:      #Converting data rows to convenient types and sorting empty data \n",
    "    passenger['Age'] = (parse_age(passenger['Age']))#Decision to use float over int was due to fractional ages in the dataset\n",
    "    passenger['Cabin'] = (parse_element(passenger['Cabin']))\n",
    "    passenger['Embarked'] = (parse_element(passenger['Embarked']))\n",
    "    passenger['SibSp'] = int(passenger['SibSp'])   \n",
    "    passenger['Parch'] = int(passenger['Parch'])\n",
    "    passenger['Fare'] = float(passenger['Fare'])\n",
    "    passenger['Sur'] = float(passenger['Fare'])\n"
   ]
  },
  {
   "cell_type": "code",
   "execution_count": 64,
   "metadata": {
    "collapsed": true
   },
   "outputs": [],
   "source": [
    "missing_embarked = has_missing_data(titanic_data, 'Embarked')\n",
    "for passenger in titanic_data:\n",
    "    if passenger['PassengerId'] in missing_embarked:\n",
    "        print (passenger)"
   ]
  },
  {
   "cell_type": "markdown",
   "metadata": {
    "collapsed": true
   },
   "source": [
    "# Investigating The Data"
   ]
  },
  {
   "cell_type": "markdown",
   "metadata": {
    "collapsed": true
   },
   "source": [
    "### Investigating the First two Questions "
   ]
  },
  {
   "cell_type": "code",
   "execution_count": 67,
   "metadata": {},
   "outputs": [
    {
     "name": "stdout",
     "output_type": "stream",
     "text": [
      "Populating the interactive namespace from numpy and matplotlib\n"
     ]
    }
   ],
   "source": [
    "##GROUPING THE DATA BY ACCOUNT KEYS\n",
    "%pylab inline\n",
    "\n",
    "import matplotlib.pyplot as plt\n",
    "\n",
    "import numpy as np\n",
    "\n",
    "import seaborn as sns\n",
    "\n",
    "from collections import defaultdict\n",
    "\n",
    "##WRITING A FUNCTION TO GROUP DATA BY INPUT\n",
    "\n",
    "def group_data(data, field):               #Takes in data and a field name with which to group the data\n",
    "    grouped_data = defaultdict(list)    #Makes a default dictionary that outputs a list when \n",
    "    for passenger in data:\n",
    "        key = passenger[field]          #sets the field as the dictionary key\n",
    "        grouped_data[key].append(passenger) \n",
    "    return grouped_data\n",
    "\n",
    "\n",
    "##WRITING A FUNCTION TO SUM UP GROUPED DATA\n",
    "\n",
    "def sum_grouped_items(grouped_data, field):\n",
    "    summed_data = {}\n",
    "    for key, data_points in grouped_data.items():\n",
    "        total = 0.0\n",
    "        for data_point in data_points:\n",
    "            if data_point[field] != None:\n",
    "                total += data_point[field]\n",
    "                summed_data[key] = total\n",
    "    return summed_data\n",
    "\n",
    "\n",
    "def sum_grouped_items(grouped_data, field):\n",
    "    listed_data = []\n",
    "    for key, data_points in grouped_data.items():\n",
    "        total = 0\n",
    "        for data_point in data_points:\n",
    "            total += data_point[field]\n",
    "        summed_data[key] = total\n",
    "    return listed_data\n",
    "\n",
    "##WRITING A FUNCTION TO ARRANGE A FIELD OF DATA INTO A LIST FROM UNGROUPED DATA\n",
    "def list_data(data, field):\n",
    "    listed = []\n",
    "    for passenger in data:\n",
    "        if passenger[field] != None:\n",
    "            listed.append(passenger[field])\n",
    "    return listed\n",
    "\n",
    "\n",
    "def describe_data(data, bin_size):\n",
    "    print ('Size: ', len(data))\n",
    "    print ('Mean: ',np.mean(data))\n",
    "    print ('Standard Deviation: ',np.std(data))\n",
    "    print ('Median: ',np.median(data))\n",
    "    print ('Minimum: ',np.min(data))\n",
    "    print ('Maximum: ',np.max(data))\n",
    "    plt.hist(data, bins=bin_size)"
   ]
  },
  {
   "cell_type": "code",
   "execution_count": 68,
   "metadata": {},
   "outputs": [
    {
     "data": {
      "text/plain": [
       "[OrderedDict([('PassengerId', '1'),\n",
       "              ('Survived', '0'),\n",
       "              ('Pclass', '3'),\n",
       "              ('Name', 'Braund, Mr. Owen Harris'),\n",
       "              ('Sex', 'male'),\n",
       "              ('Age', 22.0),\n",
       "              ('SibSp', 1),\n",
       "              ('Parch', 0),\n",
       "              ('Ticket', 'A/5 21171'),\n",
       "              ('Fare', 7.25),\n",
       "              ('Cabin', None),\n",
       "              ('Embarked', 'S'),\n",
       "              ('Sur', 7.25)])]"
      ]
     },
     "execution_count": 68,
     "metadata": {},
     "output_type": "execute_result"
    }
   ],
   "source": [
    "##Grouping the passengers by ID\n",
    "\n",
    "passengers_by_id = group_data(titanic_data, 'PassengerId')\n",
    "passengers_by_id['1']"
   ]
  },
  {
   "cell_type": "code",
   "execution_count": 69,
   "metadata": {},
   "outputs": [
    {
     "name": "stdout",
     "output_type": "stream",
     "text": [
      "Size:  714\n",
      "Mean:  29.6991176471\n",
      "Standard Deviation:  14.5163211508\n",
      "Median:  28.0\n",
      "Minimum:  0.42\n",
      "Maximum:  80.0\n"
     ]
    },
    {
     "data": {
      "image/png": "[encoded data removed]",
      "text/plain": [
       "<matplotlib.figure.Figure at 0x292a5fbf240>"
      ]
     },
     "metadata": {},
     "output_type": "display_data"
    }
   ],
   "source": [
    "##TAKING THE AGES FROM THE TITANIC DATA BY AGE AND PLOTTING A HISTOGRAM\n",
    "\n",
    "ages = list_data(titanic_data, 'Age')\n",
    "        \n",
    "sns.set(style='darkgrid',font='sans-serif',font_scale=1.2)\n",
    "plt.xlabel('Distribution of ages on the Titanic')\n",
    "describe_data(ages,28)"
   ]
  },
  {
   "cell_type": "markdown",
   "metadata": {},
   "source": [
    "The average age seemed to be about 29 with most passengers between 20 and 25.\n",
    "\n",
    "The mean and median seem to be fairly positioned around the same area with a higher mean.\n",
    "\n",
    "The oldest passenger was 80 and the youngest is 5 months old."
   ]
  },
  {
   "cell_type": "markdown",
   "metadata": {
    "collapsed": true
   },
   "source": [
    "## Investigating Survivor Data vs Non Survivor Data"
   ]
  },
  {
   "cell_type": "code",
   "execution_count": 70,
   "metadata": {
    "collapsed": true
   },
   "outputs": [],
   "source": [
    "#Splitting off the data for survivors and non_survivors from the titanic dataset\n",
    "\n",
    "passengers_by_survivorship = group_data(titanic_data, 'Survived')\n",
    "survivor_data = passengers_by_survivorship['1']\n",
    "non_survivor_data = passengers_by_survivorship['0']"
   ]
  },
  {
   "cell_type": "code",
   "execution_count": 71,
   "metadata": {},
   "outputs": [
    {
     "data": {
      "text/plain": [
       "[<matplotlib.lines.Line2D at 0x292a5db3c50>]"
      ]
     },
     "execution_count": 71,
     "metadata": {},
     "output_type": "execute_result"
    },
    {
     "data": {
      "image/png": "[encoded data removed]",
      "text/plain": [
       "<matplotlib.figure.Figure at 0x292a5da3978>"
      ]
     },
     "metadata": {},
     "output_type": "display_data"
    }
   ],
   "source": [
    "plot(non_survivor_age_list, color='red')"
   ]
  },
  {
   "cell_type": "code",
   "execution_count": 72,
   "metadata": {},
   "outputs": [
    {
     "name": "stdout",
     "output_type": "stream",
     "text": [
      "Size:  290\n",
      "Mean:  28.3436896552\n",
      "Standard Deviation:  14.9251522203\n",
      "Median:  28.0\n",
      "Minimum:  0.42\n",
      "Maximum:  80.0\n"
     ]
    },
    {
     "data": {
      "image/png": "[encoded data removed]",
      "text/plain": [
       "<matplotlib.figure.Figure at 0x292a5f15908>"
      ]
     },
     "metadata": {},
     "output_type": "display_data"
    }
   ],
   "source": [
    "##SURVIVOR DATA BY AGE\n",
    "\n",
    "sns.set(style='darkgrid',font='sans-serif',font_scale=1.2)\n",
    "plt.xlabel('Age of Survivors on the Titanic')\n",
    "survivor_age_list = list_data(survivor_data,'Age')\n",
    "describe_data(survivor_age_list, 28)"
   ]
  },
  {
   "cell_type": "markdown",
   "metadata": {},
   "source": [
    "We can easily see the data on survivors:\n",
    "\n",
    "About 290 people survived the sinking of the titanic with 424 people dead.\n",
    "\n",
    "The average age of survivors seemed to be about 28 with most passengers between 30 and 35.\n",
    "For non-survivors however, the mean age seemed to be about 30.\n",
    "\n",
    "While survivors and non-survivors seemed to have the most daeths and surviors between 20 and 30, non-survivors seemed to peak on the side of early twenties while survivors peaked on the othe side. Of particular note is infant mortality with about a third of children between the ages of 0 and 3 being saved.\n",
    "\n",
    "The oldest passenger was 80 and the youngest is 5 months old."
   ]
  },
  {
   "cell_type": "code",
   "execution_count": 73,
   "metadata": {},
   "outputs": [
    {
     "name": "stdout",
     "output_type": "stream",
     "text": [
      "Size:  197\n",
      "Mean:  28.847715736\n",
      "Standard Deviation:  14.1390495865\n",
      "Median:  28.0\n",
      "Minimum:  0.75\n",
      "Maximum:  63.0\n"
     ]
    },
    {
     "data": {
      "image/png": "[encoded data removed]",
      "text/plain": [
       "<matplotlib.figure.Figure at 0x292a5d32b70>"
      ]
     },
     "metadata": {},
     "output_type": "display_data"
    }
   ],
   "source": [
    "### Separating survivors by sex\n",
    "\n",
    "male_survivors = []\n",
    "female_survivors = []\n",
    "for passenger in survivor_data:\n",
    "    if passenger['Sex'] == 'male':\n",
    "        male_survivors.append(passenger)\n",
    "    elif passenger['Sex'] == 'female':\n",
    "        female_survivors.append(passenger)\n",
    "\n",
    "describe_data(list_data(female_survivors, 'Age'),20)"
   ]
  },
  {
   "cell_type": "code",
   "execution_count": 74,
   "metadata": {},
   "outputs": [
    {
     "name": "stdout",
     "output_type": "stream",
     "text": [
      "Size:  424\n",
      "Mean:  30.6261792453\n",
      "Standard Deviation:  14.1553876178\n",
      "Median:  28.0\n",
      "Minimum:  1.0\n",
      "Maximum:  74.0\n"
     ]
    },
    {
     "data": {
      "image/png": "[encoded data removed]",
      "text/plain": [
       "<matplotlib.figure.Figure at 0x292a5e3d630>"
      ]
     },
     "metadata": {},
     "output_type": "display_data"
    }
   ],
   "source": [
    "##NON_SURVIVOR DATA BY AGE\n",
    "\n",
    "sns.set(style='darkgrid',font='sans-serif',font_scale=1.2)\n",
    "plt.xlabel('Age of Non_survivors on the Titanic')\n",
    "non_survivor_age_list = list_data(non_survivor_data,'Age')\n",
    "describe_data(non_survivor_age_list, 28)"
   ]
  },
  {
   "cell_type": "code",
   "execution_count": 75,
   "metadata": {},
   "outputs": [
    {
     "name": "stdout",
     "output_type": "stream",
     "text": [
      "Size:  197\n",
      "Mean:  28.847715736\n",
      "Standard Deviation:  14.1390495865\n",
      "Median:  28.0\n",
      "Minimum:  0.75\n",
      "Maximum:  63.0\n"
     ]
    },
    {
     "data": {
      "image/png": "[encoded data removed]",
      "text/plain": [
       "<matplotlib.figure.Figure at 0x292a61b5d68>"
      ]
     },
     "metadata": {},
     "output_type": "display_data"
    }
   ],
   "source": [
    "##DESCRPTION OF FEMALE SURVIVORS\n",
    "\n",
    "describe_data(list_data(female_survivors, 'Age'),20)"
   ]
  },
  {
   "cell_type": "markdown",
   "metadata": {},
   "source": [
    "There are 93 male passengers compared to 197 female passengers"
   ]
  },
  {
   "cell_type": "code",
   "execution_count": 76,
   "metadata": {},
   "outputs": [
    {
     "name": "stdout",
     "output_type": "stream",
     "text": [
      "Size:  93\n",
      "Mean:  27.2760215054\n",
      "Standard Deviation:  16.4158276718\n",
      "Median:  28.0\n",
      "Minimum:  0.42\n",
      "Maximum:  80.0\n"
     ]
    },
    {
     "data": {
      "image/png": "[encoded data removed]",
      "text/plain": [
       "<matplotlib.figure.Figure at 0x292a62be7b8>"
      ]
     },
     "metadata": {},
     "output_type": "display_data"
    }
   ],
   "source": [
    "##DESCRPTION OF MALE SURVIVORS\n",
    "\n",
    "describe_data(list_data(male_survivors, 'Age'),20)"
   ]
  },
  {
   "cell_type": "code",
   "execution_count": 77,
   "metadata": {},
   "outputs": [
    {
     "data": {
      "text/plain": [
       "<Container object of 8 artists>"
      ]
     },
     "execution_count": 77,
     "metadata": {},
     "output_type": "execute_result"
    },
    {
     "data": {
      "image/png": "[encoded data removed]",
      "text/plain": [
       "<matplotlib.figure.Figure at 0x292a7384c18>"
      ]
     },
     "metadata": {},
     "output_type": "display_data"
    }
   ],
   "source": [
    "y = [3, 10, 7, 5, 3, 4.5, 6, 8.1]\n",
    "N = len(y)\n",
    "x = range(N)\n",
    "width = 0.25\n",
    "plt.bar(x, y, width, color=\"blue\")"
   ]
  },
  {
   "cell_type": "markdown",
   "metadata": {
    "collapsed": true
   },
   "source": [
    "### Categorizing Data Into Groups"
   ]
  },
  {
   "cell_type": "code",
   "execution_count": 78,
   "metadata": {},
   "outputs": [
    {
     "data": {
      "text/plain": [
       "dict_keys([22.0, 38.0, 26.0, 35.0, None, 54.0, 2.0, 27.0, 14.0, 4.0, 58.0, 20.0, 39.0, 55.0, 31.0, 34.0, 15.0, 28.0, 8.0, 19.0, 40.0, 66.0, 42.0, 21.0, 18.0, 3.0, 7.0, 49.0, 29.0, 65.0, 28.5, 5.0, 11.0, 45.0, 17.0, 32.0, 16.0, 25.0, 0.83, 30.0, 33.0, 23.0, 24.0, 46.0, 59.0, 71.0, 37.0, 47.0, 14.5, 70.5, 32.5, 12.0, 9.0, 36.5, 51.0, 55.5, 40.5, 44.0, 1.0, 61.0, 56.0, 50.0, 36.0, 45.5, 20.5, 62.0, 41.0, 52.0, 63.0, 23.5, 0.92, 43.0, 60.0, 10.0, 64.0, 13.0, 48.0, 0.75, 53.0, 57.0, 80.0, 70.0, 24.5, 6.0, 0.67, 30.5, 0.42, 34.5, 74.0])"
      ]
     },
     "execution_count": 78,
     "metadata": {},
     "output_type": "execute_result"
    }
   ],
   "source": [
    "##Grouping the passengers by age\n",
    "\n",
    "passengers_by_age = group_data(titanic_data, 'Age')\n",
    "passengers_by_age.keys()"
   ]
  },
  {
   "cell_type": "markdown",
   "metadata": {
    "collapsed": true
   },
   "source": [
    "## Exploring other relationships that affect Survivability"
   ]
  },
  {
   "cell_type": "markdown",
   "metadata": {},
   "source": [
    "AGE AND FARE BY SEX"
   ]
  },
  {
   "cell_type": "code",
   "execution_count": 113,
   "metadata": {},
   "outputs": [
    {
     "data": {
      "text/plain": [
       "<matplotlib.collections.PathCollection at 0x292a818dd68>"
      ]
     },
     "execution_count": 113,
     "metadata": {},
     "output_type": "execute_result"
    },
    {
     "data": {
      "image/png": "[encoded data removed]",
      "text/plain": [
       "<matplotlib.figure.Figure at 0x292a80466d8>"
      ]
     },
     "metadata": {},
     "output_type": "display_data"
    }
   ],
   "source": [
    "##RELATIONSHIP BETWEEN FARE AND AGE IN SURVIVORS\n",
    "\n",
    "def object_list(data, field1, field2, check):\n",
    "    survivor_list=[]\n",
    "    for person in data:\n",
    "        if person[field1] != None:\n",
    "            survivor_list.append(float(person[field2])) #fare and age\n",
    "    return survivor_list\n",
    "\n",
    "\n",
    "new_survivor=[]\n",
    "survivor_fare = object_list(survivor_data, 'Age', 'Fare', 0)\n",
    "survivor_siblings = object_list(survivor_data, 'Age', 'SibSp', 0)\n",
    "\n",
    "for survivor in survivor_siblings:\n",
    "    new_survivor.append(survivor * 50)\n",
    "    \n",
    "scatter(survivor_age_list,survivor_fare, s= new_survivor)"
   ]
  },
  {
   "cell_type": "code",
   "execution_count": 114,
   "metadata": {},
   "outputs": [
    {
     "name": "stdout",
     "output_type": "stream",
     "text": [
      "Size:  342\n",
      "Mean:  48.3954076023\n",
      "Standard Deviation:  66.4995628092\n",
      "Median:  26.0\n",
      "Minimum:  0.0\n",
      "Maximum:  512.3292\n"
     ]
    },
    {
     "data": {
      "image/png": "[encoded data removed]",
      "text/plain": [
       "<matplotlib.figure.Figure at 0x292a802f978>"
      ]
     },
     "metadata": {},
     "output_type": "display_data"
    }
   ],
   "source": [
    "survivor_fare_list = list_data(survivor_data,'Fare')\n",
    "describe_data(survivor_fare_list, 28)"
   ]
  },
  {
   "cell_type": "code",
   "execution_count": 94,
   "metadata": {},
   "outputs": [
    {
     "data": {
      "text/plain": [
       "<matplotlib.collections.PathCollection at 0x292a7ce6cf8>"
      ]
     },
     "execution_count": 94,
     "metadata": {},
     "output_type": "execute_result"
    },
    {
     "data": {
      "image/png": "[encoded data removed]",
      "text/plain": [
       "<matplotlib.figure.Figure at 0x292a72ef3c8>"
      ]
     },
     "metadata": {},
     "output_type": "display_data"
    }
   ],
   "source": [
    "##RELATIONSHIP BETWEEN FARE AND AGE IN WOMEN\n",
    "\n",
    "female_survivor_fare = object_list(female_survivors, 'Age', 'Fare', None)\n",
    "scatter(list_data(female_survivors, 'Age'),female_survivor_fare)\n"
   ]
  },
  {
   "cell_type": "code",
   "execution_count": null,
   "metadata": {
    "collapsed": true
   },
   "outputs": [],
   "source": []
  },
  {
   "cell_type": "code",
   "execution_count": null,
   "metadata": {},
   "outputs": [],
   "source": [
    "passengers_by_name = group_data(titanic_data, 'Survived')\n"
   ]
  },
  {
   "cell_type": "code",
   "execution_count": null,
   "metadata": {},
   "outputs": [],
   "source": []
  },
  {
   "cell_type": "code",
   "execution_count": null,
   "metadata": {},
   "outputs": [],
   "source": []
  }
 ],
 "metadata": {
  "kernelspec": {
   "display_name": "Python 3",
   "language": "python",
   "name": "python3"
  },
  "language_info": {
   "codemirror_mode": {
    "name": "ipython",
    "version": 3
   },
   "file_extension": ".py",
   "mimetype": "text/x-python",
   "name": "python",
   "nbconvert_exporter": "python",
   "pygments_lexer": "ipython3",
   "version": "3.6.1"
  }
 },
 "nbformat": 4,
 "nbformat_minor": 2
}
