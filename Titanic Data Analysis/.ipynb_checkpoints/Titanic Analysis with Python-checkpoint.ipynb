{
 "cells": [
  {
   "cell_type": "markdown",
   "metadata": {
    "collapsed": true
   },
   "source": [
    "# Titanic Analysis With Python "
   ]
  },
  {
   "cell_type": "markdown",
   "metadata": {},
   "source": [
    "The aim of this project is using python to analyse a data set containing information on the Titanic and then communicating \n",
    "\n",
    "findings as well as I can using only Python and Matplotlib without the NumPy and Pandas libraries."
   ]
  },
  {
   "cell_type": "markdown",
   "metadata": {
    "collapsed": true
   },
   "source": [
    "# Importing The DataSet "
   ]
  },
  {
   "cell_type": "code",
   "execution_count": 266,
   "metadata": {
    "collapsed": true
   },
   "outputs": [],
   "source": [
    "##Importing the csv file from location on storage into a python list\n",
    "\n",
    "import unicodecsv\n",
    "\n",
    "with open ('titanic_data.csv','rb') as f:   #Open the csv file as a readable binary attached to the variable f\n",
    "    reader = unicodecsv.DictReader(f)       #Using the UNICODECSV library, read the file into a One time reader\n",
    "    titanic_data = list(reader)             #Read the info from the reader as a list into the variable 'titanic_data'"
   ]
  },
  {
   "cell_type": "code",
   "execution_count": 267,
   "metadata": {},
   "outputs": [
    {
     "data": {
      "text/plain": [
       "[OrderedDict([('PassengerId', '1'),\n",
       "              ('Survived', '0'),\n",
       "              ('Pclass', '3'),\n",
       "              ('Name', 'Braund, Mr. Owen Harris'),\n",
       "              ('Sex', 'male'),\n",
       "              ('Age', '22'),\n",
       "              ('SibSp', '1'),\n",
       "              ('Parch', '0'),\n",
       "              ('Ticket', 'A/5 21171'),\n",
       "              ('Fare', '7.25'),\n",
       "              ('Cabin', ''),\n",
       "              ('Embarked', 'S')]),\n",
       " OrderedDict([('PassengerId', '2'),\n",
       "              ('Survived', '1'),\n",
       "              ('Pclass', '1'),\n",
       "              ('Name', 'Cumings, Mrs. John Bradley (Florence Briggs Thayer)'),\n",
       "              ('Sex', 'female'),\n",
       "              ('Age', '38'),\n",
       "              ('SibSp', '1'),\n",
       "              ('Parch', '0'),\n",
       "              ('Ticket', 'PC 17599'),\n",
       "              ('Fare', '71.2833'),\n",
       "              ('Cabin', 'C85'),\n",
       "              ('Embarked', 'C')])]"
      ]
     },
     "execution_count": 267,
     "metadata": {},
     "output_type": "execute_result"
    }
   ],
   "source": [
    "titanic_data[0:2]           ##Checking on a slice of the data in the list "
   ]
  },
  {
   "cell_type": "markdown",
   "metadata": {},
   "source": [
    "# QUESTIONS, EXPECTATIONS AND PROPOSED ANALYSIS"
   ]
  },
  {
   "cell_type": "markdown",
   "metadata": {},
   "source": [
    "Inspecting the data on Excel Spreadsheets, I have come up with quite a few intriguing questions I propose to answer.\n",
    "\n",
    "These questions are:\n",
    "\n",
    "A: Spotting survivability rates by age and sex\n",
    "\n",
    "1) I'm interested in seeing how survival varied by age. I am also interested in calculating these totals by categories. Categories are within the age ranges of:\n",
    "      - A child is rated as 12 years and below.\n",
    "      - Men and women are rated as above 21.\n",
    "      - Adolescents are between 12 and 21.\n",
    "      - Elderly is an age class above years of age.\n",
    "\n",
    "2) The survivors data totalled for the above categories as well as:\n",
    "      - Total number of survivors         ----\n",
    "      - Total number of male survivors       ----\n",
    "      - Total number of female survivors       ----\n",
    "\n",
    "3) The ages and the means for those same categories.\n",
    "      - Mean age of passengers       ----\n",
    "      - Mean age of survivors       ----\n",
    "      - Mean age of male passengers        ----\n",
    "      - Mean age of male survivors       ----\n",
    "      - Mean age of female survivors       ----\n",
    "      - Mean age of female passengers        ---- \n",
    "      - Mean age of female survivors       ----\n",
    "      - Mean number of child and adolescents passengers \n",
    "      - Mean number of child and adolescents survivors \n",
    "\n",
    "---->Noted: I think a histogram/stacked bar plot/bar plot might be best for displaying the above data (1-3).\n",
    "\n",
    "B: Searching other factors that affecting survivability\n",
    "\n",
    "4) Exploring the Relationships between factors that affect survivability:\n",
    "\n",
    "      - Sex and survivability              (Sex is designated as M, F by the data)\n",
    "      - Ticket Class and survivability     (Ticket class is divided into 1st, 2nd and 3rd Class)\n",
    "      - Passenger Fare and survivability   \n",
    "      - Age and survivability\n",
    "      - Cabin number and survivability\n",
    "      - Port of Embarkation and survivability  (Ports of Embarkation are C = Cherbourg, Q = Queenstown, S = Southampton)\n",
    "     \n",
    "---->Noted: I think a scatter plot might be best for examining the above data.\n",
    "\n",
    "5) Also searching through these possible relationships might be interesting:\n",
    "      \n",
    "      Fare and Ticket Class and survivability on size\n",
    "      Attempting investigating data for Families on the titanic.\n",
    "      Age, Ticket Fare and no of siblings reported\n",
    "\n",
    "---->Noted: I think a bubble plot might be best for examining the above data.\n",
    "\n",
    "6) What price of ticket determines what class one is put into."
   ]
  },
  {
   "cell_type": "markdown",
   "metadata": {},
   "source": [
    "# CLEANING THE DATA"
   ]
  },
  {
   "cell_type": "code",
   "execution_count": 268,
   "metadata": {},
   "outputs": [
    {
     "name": "stdout",
     "output_type": "stream",
     "text": [
      "Total Passengers present:  891\n",
      "PassengerId missing fields:  0\n",
      "Survived missing fields:  0\n",
      "Pclass missing fields:  0\n",
      "Name missing fields:  0\n",
      "Sex missing fields:  0\n",
      "Age missing fields:  177\n",
      "SibSp missing fields:  0\n",
      "Parch missing fields:  0\n",
      "Ticket missing fields:  0\n",
      "Fare missing fields:  0\n",
      "Cabin missing fields:  687\n",
      "Embarked missing fields:  2\n"
     ]
    }
   ],
   "source": [
    "## Writing a function to check for columns with missing data in the function\n",
    "\n",
    "def has_missing_data(data, field):\n",
    "    empty = set()               \n",
    "    for passenger in data:      ##Iterates through passenger data and checks for the fields to spot if empty\n",
    "        check = passenger[field] \n",
    "        if check == '':\n",
    "            empty.add(passenger['PassengerId']) #Returns a list of Passenger ID's with the missing fields\n",
    "    return empty\n",
    "\n",
    "print('Total Passengers present: ', len(titanic_data))\n",
    "print('PassengerId missing fields: ', len(has_missing_data(titanic_data, 'PassengerId')))\n",
    "print('Survived missing fields: ', len(has_missing_data(titanic_data, 'Survived')))\n",
    "print('Pclass missing fields: ', len(has_missing_data(titanic_data, 'Pclass')))\n",
    "print('Name missing fields: ', len(has_missing_data(titanic_data, 'Name')))\n",
    "print('Sex missing fields: ', len(has_missing_data(titanic_data, 'Sex')))\n",
    "print('Age missing fields: ', len(has_missing_data(titanic_data, 'Age')))\n",
    "print('SibSp missing fields: ', len(has_missing_data(titanic_data, 'SibSp')))\n",
    "print('Parch missing fields: ', len(has_missing_data(titanic_data, 'Parch')))\n",
    "print('Ticket missing fields: ', len(has_missing_data(titanic_data, 'Ticket')))\n",
    "print('Fare missing fields: ', len(has_missing_data(titanic_data, 'Fare')))\n",
    "print('Cabin missing fields: ', len(has_missing_data(titanic_data, 'Cabin')))\n",
    "print('Embarked missing fields: ', len(has_missing_data(titanic_data, 'Embarked')))"
   ]
  },
  {
   "cell_type": "markdown",
   "metadata": {},
   "source": [
    "###### From the results: \n",
    "177 passengers are missing age information, 687 passengers are missing Cabin data and 2 passengers are missing Embarked Data"
   ]
  },
  {
   "cell_type": "code",
   "execution_count": 269,
   "metadata": {
    "collapsed": true
   },
   "outputs": [],
   "source": [
    "#Cleaning Data on the dataset of empty values from Age, Cabin and Embarked\n",
    "##Write functions to convert data types\n",
    "\n",
    "\n",
    "def parse_element(element):       ##Checks for empty strings and fills with none          \n",
    "    if element == '':\n",
    "        return None\n",
    "    else:\n",
    "        return element\n",
    "    \n",
    "def parse_age(age):       ##Checks for empty strings and fills with none          \n",
    "    if age == '':\n",
    "        return None \n",
    "    else:\n",
    "        return float(age)     ##convert age to integers\n",
    "\n",
    "        \n",
    "for passenger in titanic_data:      #Converting data rows to convenient types and sorting empty data \n",
    "    passenger['Age'] = (parse_age(passenger['Age']))#Decision to use float over int was due to fractional ages in the dataset\n",
    "    passenger['Cabin'] = (parse_element(passenger['Cabin']))\n",
    "    passenger['Embarked'] = (parse_element(passenger['Embarked']))\n",
    "    passenger['SibSp'] = int(passenger['SibSp'])   \n",
    "    passenger['Parch'] = int(passenger['Parch'])\n",
    "    passenger['Fare'] = float(passenger['Fare'])\n",
    "    passenger['Sur'] = float(passenger['Fare'])\n"
   ]
  },
  {
   "cell_type": "code",
   "execution_count": 270,
   "metadata": {
    "collapsed": true
   },
   "outputs": [],
   "source": [
    "missing_embarked = has_missing_data(titanic_data, 'Embarked')\n",
    "for passenger in titanic_data:\n",
    "    if passenger['PassengerId'] in missing_embarked:\n",
    "        print (passenger)"
   ]
  },
  {
   "cell_type": "markdown",
   "metadata": {
    "collapsed": true
   },
   "source": [
    "# Investigating The Data"
   ]
  },
  {
   "cell_type": "markdown",
   "metadata": {
    "collapsed": true
   },
   "source": [
    "### Investigating the First two Questions "
   ]
  },
  {
   "cell_type": "code",
   "execution_count": 274,
   "metadata": {},
   "outputs": [
    {
     "name": "stdout",
     "output_type": "stream",
     "text": [
      "Populating the interactive namespace from numpy and matplotlib\n"
     ]
    }
   ],
   "source": [
    "##GROUPING THE DATA BY ACCOUNT KEYS\n",
    "%pylab inline\n",
    "\n",
    "import matplotlib.pyplot as plt\n",
    "\n",
    "import numpy as np\n",
    "\n",
    "import seaborn as sns\n",
    "\n",
    "from collections import defaultdict\n",
    "\n",
    "##WRITING A FUNCTION TO GROUP DATA BY INPUT\n",
    "\n",
    "def group_data(data, field):               #Takes in data and a field name with which to group the data\n",
    "    grouped_data = defaultdict(list)    #Makes a default dictionary that outputs a list when \n",
    "    for passenger in data:\n",
    "        key = passenger[field]          #sets the field as the dictionary key\n",
    "        grouped_data[key].append(passenger) \n",
    "    return grouped_data\n",
    "\n",
    "\n",
    "##WRITING A FUNCTION TO SUM UP GROUPED DATA\n",
    "\n",
    "def sum_group_items_by_element(grouped_data, field):    ##Gives the total of a particlar element in a category in a group\n",
    "    summed_data = {}\n",
    "    for key, data_points in grouped_data.items():\n",
    "        total = 0.0\n",
    "        for data_point in data_points:\n",
    "            if data_point[field] != None:\n",
    "                total += data_point[field]\n",
    "                summed_data[key] = total         ##returns a dictionary\n",
    "    return summed_data\n",
    "\n",
    "\n",
    "def sum_grouped_items(grouped_data):    ##Gives the total of items by category in a group\n",
    "    summed_data = {}\n",
    "    for key, data_points in grouped_data.items():\n",
    "        total = 0\n",
    "        for data_point in data_points: \n",
    "            summed_data[key] = len(data_points)\n",
    "    return summed_data                          ##Returns as a dictionary\n",
    "\n",
    "##WRITING A FUNCTION TO ARRANGE A FIELD OF DATA INTO A LIST FROM UNGROUPED DATA\n",
    "\n",
    "def list_data(data, field):            ##Lists the items from a particular field in a dataset\n",
    "    listed = []\n",
    "    for passenger in data:\n",
    "        if passenger[field] != None:\n",
    "            listed.append(passenger[field])\n",
    "    return listed                          ##returns a list\n",
    "\n",
    "\n",
    "def describe_data(data, bin_y_data, plot):\n",
    "    print ('Size: ', len(data))\n",
    "    print ('Mean: ',np.mean(data))\n",
    "    print ('Standard Deviation: ',np.std(data))\n",
    "    print ('Median: ',np.median(data))\n",
    "    print ('Minimum: ',np.min(data))\n",
    "    print ('Maximum: ',np.max(data))\n",
    "    if plot == 'hist':\n",
    "        plt.hist(data, bins=bin_y_data)\n",
    "    elif plot == 'bar':\n",
    "        plt.bar(data, bin_y_data)\n",
    "    \n",
    "    \n",
    "##Writing FUNCTIONS TO SCALE THE OBJECT\n",
    "\n",
    "def scale_by_factor(data, factor):                  ##Scale a data set by a certain factor\n",
    "    scaled=[]\n",
    "    for survivor in data:\n",
    "        scaled.append(survivor * factor)\n",
    "    return scaled"
   ]
  },
  {
   "cell_type": "code",
   "execution_count": 275,
   "metadata": {},
   "outputs": [
    {
     "data": {
      "text/plain": [
       "[OrderedDict([('PassengerId', '1'),\n",
       "              ('Survived', '0'),\n",
       "              ('Pclass', '3'),\n",
       "              ('Name', 'Braund, Mr. Owen Harris'),\n",
       "              ('Sex', 'male'),\n",
       "              ('Age', 22.0),\n",
       "              ('SibSp', 1),\n",
       "              ('Parch', 0),\n",
       "              ('Ticket', 'A/5 21171'),\n",
       "              ('Fare', 7.25),\n",
       "              ('Cabin', None),\n",
       "              ('Embarked', 'S'),\n",
       "              ('Sur', 7.25)])]"
      ]
     },
     "execution_count": 275,
     "metadata": {},
     "output_type": "execute_result"
    }
   ],
   "source": [
    "##Grouping the passengers by ID\n",
    "\n",
    "passengers_by_id = group_data(titanic_data, 'PassengerId')\n",
    "passengers_by_id['1']"
   ]
  },
  {
   "cell_type": "code",
   "execution_count": 276,
   "metadata": {},
   "outputs": [
    {
     "name": "stdout",
     "output_type": "stream",
     "text": [
      "Size:  714\n",
      "Mean:  29.6991176471\n",
      "Standard Deviation:  14.5163211508\n",
      "Median:  28.0\n",
      "Minimum:  0.42\n",
      "Maximum:  80.0\n"
     ]
    },
    {
     "data": {
      "image/png": "[encoded data removed]",
      "text/plain": [
       "<matplotlib.figure.Figure at 0x23b995c19e8>"
      ]
     },
     "metadata": {},
     "output_type": "display_data"
    }
   ],
   "source": [
    "##TAKING THE AGES FROM THE TITANIC DATA BY AGE AND PLOTTING A HISTOGRAM\n",
    "\n",
    "ages = list_data(titanic_data, 'Age')\n",
    "        \n",
    "sns.set(style='darkgrid',font='sans-serif',font_scale=1.2)\n",
    "plt.xlabel('Distribution of ages on the Titanic')\n",
    "describe_data(ages,28,'hist')"
   ]
  },
  {
   "cell_type": "markdown",
   "metadata": {},
   "source": [
    "The average age seemed to be about 29 with most passengers between 20 and 25.\n",
    "\n",
    "The mean and median seem to be fairly positioned around the same area with a higher mean.\n",
    "\n",
    "The oldest passenger was 80 and the youngest is 5 months old."
   ]
  },
  {
   "cell_type": "markdown",
   "metadata": {
    "collapsed": true
   },
   "source": [
    "## Investigating Survivor Data vs Non Survivor Data"
   ]
  },
  {
   "cell_type": "markdown",
   "metadata": {
    "collapsed": true
   },
   "source": [
    "### One Dimensional Data"
   ]
  },
  {
   "cell_type": "code",
   "execution_count": 286,
   "metadata": {
    "collapsed": true
   },
   "outputs": [],
   "source": [
    "#Splitting off the data for survivors and non_survivors from the titanic dataset\n",
    "\n",
    "passengers_by_survivorship = group_data(titanic_data, 'Survived')\n",
    "survivor_data = passengers_by_survivorship['1']\n",
    "non_survivor_data = passengers_by_survivorship['0']"
   ]
  },
  {
   "cell_type": "code",
   "execution_count": 287,
   "metadata": {},
   "outputs": [
    {
     "name": "stdout",
     "output_type": "stream",
     "text": [
      "Size:  290\n",
      "Mean:  28.3436896552\n",
      "Standard Deviation:  14.9251522203\n",
      "Median:  28.0\n",
      "Minimum:  0.42\n",
      "Maximum:  80.0\n"
     ]
    },
    {
     "data": {
      "image/png": "[encoded data removed]",
      "text/plain": [
       "<matplotlib.figure.Figure at 0x23ba779ec18>"
      ]
     },
     "metadata": {},
     "output_type": "display_data"
    }
   ],
   "source": [
    "##SURVIVOR DATA BY AGE\n",
    "\n",
    "sns.set(style='darkgrid',font='sans-serif',font_scale=1.2)\n",
    "plt.xlabel('Age of Survivors on the Titanic')\n",
    "survivor_age_list = list_data(survivor_data,'Age')\n",
    "describe_data(survivor_age_list, 28, 'hist')"
   ]
  },
  {
   "cell_type": "markdown",
   "metadata": {},
   "source": [
    "We can easily see the data on survivors:\n",
    "\n",
    "About 290 people survived the sinking of the titanic with 424 people dead.\n",
    "\n",
    "We can see that the ages of survivors on the Titanic seems to be relatively younger.\n",
    "\n",
    "The average age of survivors seemed to be about 28 with most passengers between 30 and 35.\n",
    "For non-survivors however, the mean age seemed to be about 30.\n",
    "\n",
    "While survivors and non-survivors seemed to have the most daeths and surviors between 20 and 30, non-survivors seemed to peak on the side of early twenties while survivors peaked on the othe side. Of particular note is infant mortality and that of the elderly with about a third of infants between  0 to 1 being saved, same as thoose of adults. \n",
    "\n",
    "The oldest passenger was 80 and the youngest is 5 months old."
   ]
  },
  {
   "cell_type": "code",
   "execution_count": 288,
   "metadata": {},
   "outputs": [
    {
     "name": "stdout",
     "output_type": "stream",
     "text": [
      "Size:  197\n",
      "Mean:  28.847715736\n",
      "Standard Deviation:  14.1390495865\n",
      "Median:  28.0\n",
      "Minimum:  0.75\n",
      "Maximum:  63.0\n"
     ]
    },
    {
     "data": {
      "image/png": "[encoded data removed]",
      "text/plain": [
       "<matplotlib.figure.Figure at 0x23ba7891f60>"
      ]
     },
     "metadata": {},
     "output_type": "display_data"
    }
   ],
   "source": [
    "### Separating survivors by sex\n",
    "\n",
    "male_survivors = []\n",
    "female_survivors = []\n",
    "for passenger in survivor_data:\n",
    "    if passenger['Sex'] == 'male':\n",
    "        male_survivors.append(passenger)\n",
    "    elif passenger['Sex'] == 'female':\n",
    "        female_survivors.append(passenger)\n",
    "\n",
    "describe_data(list_data(female_survivors, 'Age'),20, 'hist')\n",
    "plt.show()\n"
   ]
  },
  {
   "cell_type": "code",
   "execution_count": 289,
   "metadata": {},
   "outputs": [
    {
     "name": "stdout",
     "output_type": "stream",
     "text": [
      "Size:  197\n",
      "Mean:  28.847715736\n",
      "Standard Deviation:  14.1390495865\n",
      "Median:  28.0\n",
      "Minimum:  0.75\n",
      "Maximum:  63.0\n"
     ]
    },
    {
     "data": {
      "image/png": "[encoded data removed]",
      "text/plain": [
       "<matplotlib.figure.Figure at 0x23b99623f98>"
      ]
     },
     "metadata": {},
     "output_type": "display_data"
    }
   ],
   "source": [
    "### Separating survivors by sex\n",
    "\n",
    "male_survivors = []\n",
    "female_survivors = []\n",
    "for passenger in survivor_data:\n",
    "    if passenger['Sex'] == 'male':\n",
    "        male_survivors.append(passenger)\n",
    "    elif passenger['Sex'] == 'female':\n",
    "        female_survivors.append(passenger)\n",
    "\n",
    "describe_data(list_data(female_survivors, 'Age'),20, 'hist')\n",
    "plt.show()"
   ]
  },
  {
   "cell_type": "code",
   "execution_count": 290,
   "metadata": {},
   "outputs": [
    {
     "name": "stdout",
     "output_type": "stream",
     "text": [
      "Size:  424\n",
      "Mean:  30.6261792453\n",
      "Standard Deviation:  14.1553876178\n",
      "Median:  28.0\n",
      "Minimum:  1.0\n",
      "Maximum:  74.0\n"
     ]
    },
    {
     "data": {
      "image/png": "[encoded data removed]",
      "text/plain": [
       "<matplotlib.figure.Figure at 0x23ba7736b70>"
      ]
     },
     "metadata": {},
     "output_type": "display_data"
    }
   ],
   "source": [
    "##NON_SURVIVOR DATA BY AGE\n",
    "\n",
    "sns.set(style='darkgrid',font='sans-serif',font_scale=1.2)\n",
    "plt.xlabel('Age of Non_survivors on the Titanic')\n",
    "non_survivor_age_list = list_data(non_survivor_data,'Age')\n",
    "describe_data(non_survivor_age_list, 28, 'hist')"
   ]
  },
  {
   "cell_type": "code",
   "execution_count": 291,
   "metadata": {},
   "outputs": [
    {
     "name": "stdout",
     "output_type": "stream",
     "text": [
      "Size:  197\n",
      "Mean:  28.847715736\n",
      "Standard Deviation:  14.1390495865\n",
      "Median:  28.0\n",
      "Minimum:  0.75\n",
      "Maximum:  63.0\n"
     ]
    },
    {
     "data": {
      "image/png": "[encoded data removed]",
      "text/plain": [
       "<matplotlib.figure.Figure at 0x23ba7798a58>"
      ]
     },
     "metadata": {},
     "output_type": "display_data"
    }
   ],
   "source": [
    "##DESCRPTION OF FEMALE SURVIVORS\n",
    "\n",
    "describe_data(list_data(female_survivors, 'Age'),20, 'hist')"
   ]
  },
  {
   "cell_type": "markdown",
   "metadata": {},
   "source": [
    "There are 93 male passengers compared to 197 female passengers"
   ]
  },
  {
   "cell_type": "code",
   "execution_count": 292,
   "metadata": {},
   "outputs": [
    {
     "name": "stdout",
     "output_type": "stream",
     "text": [
      "Size:  93\n",
      "Mean:  27.2760215054\n",
      "Standard Deviation:  16.4158276718\n",
      "Median:  28.0\n",
      "Minimum:  0.42\n",
      "Maximum:  80.0\n"
     ]
    },
    {
     "data": {
      "image/png": "[encoded data removed]",
      "text/plain": [
       "<matplotlib.figure.Figure at 0x23ba7655dd8>"
      ]
     },
     "metadata": {},
     "output_type": "display_data"
    }
   ],
   "source": [
    "##DESCRPTION OF MALE SURVIVORS\n",
    "\n",
    "describe_data(list_data(male_survivors, 'Age'),20,'hist')"
   ]
  },
  {
   "cell_type": "code",
   "execution_count": 293,
   "metadata": {},
   "outputs": [
    {
     "data": {
      "text/plain": [
       "<Container object of 8 artists>"
      ]
     },
     "execution_count": 293,
     "metadata": {},
     "output_type": "execute_result"
    },
    {
     "data": {
      "image/png": "[encoded data removed]",
      "text/plain": [
       "<matplotlib.figure.Figure at 0x23ba79da6d8>"
      ]
     },
     "metadata": {},
     "output_type": "display_data"
    }
   ],
   "source": [
    "y = [3, 10, 7, 5, 3, 4.5, 6, 8.1]\n",
    "N = len(y)\n",
    "x = range(N)\n",
    "width = 0.25\n",
    "plt.bar(x, y, width, color=\"blue\")"
   ]
  },
  {
   "cell_type": "markdown",
   "metadata": {
    "collapsed": true
   },
   "source": [
    "### Categorizing Data Into Groups"
   ]
  },
  {
   "cell_type": "code",
   "execution_count": 285,
   "metadata": {},
   "outputs": [
    {
     "data": {
      "text/plain": [
       "dict_keys([22.0, 38.0, 26.0, 35.0, None, 54.0, 2.0, 27.0, 14.0, 4.0, 58.0, 20.0, 39.0, 55.0, 31.0, 34.0, 15.0, 28.0, 8.0, 19.0, 40.0, 66.0, 42.0, 21.0, 18.0, 3.0, 7.0, 49.0, 29.0, 65.0, 28.5, 5.0, 11.0, 45.0, 17.0, 32.0, 16.0, 25.0, 0.83, 30.0, 33.0, 23.0, 24.0, 46.0, 59.0, 71.0, 37.0, 47.0, 14.5, 70.5, 32.5, 12.0, 9.0, 36.5, 51.0, 55.5, 40.5, 44.0, 1.0, 61.0, 56.0, 50.0, 36.0, 45.5, 20.5, 62.0, 41.0, 52.0, 63.0, 23.5, 0.92, 43.0, 60.0, 10.0, 64.0, 13.0, 48.0, 0.75, 53.0, 57.0, 80.0, 70.0, 24.5, 6.0, 0.67, 30.5, 0.42, 34.5, 74.0])"
      ]
     },
     "execution_count": 285,
     "metadata": {},
     "output_type": "execute_result"
    }
   ],
   "source": [
    "##Grouping the passengers by age\n",
    "\n",
    "passengers_by_age = group_data(titanic_data, 'Age')\n",
    "passengers_by_age.keys()"
   ]
  },
  {
   "cell_type": "markdown",
   "metadata": {
    "collapsed": true
   },
   "source": [
    "## Exploring other relationships that affect Survivability"
   ]
  },
  {
   "cell_type": "markdown",
   "metadata": {},
   "source": [
    "AGE AND FARE BY SEX"
   ]
  },
  {
   "cell_type": "code",
   "execution_count": 202,
   "metadata": {},
   "outputs": [
    {
     "data": {
      "text/plain": [
       "<matplotlib.collections.PathCollection at 0x23b99974438>"
      ]
     },
     "execution_count": 202,
     "metadata": {},
     "output_type": "execute_result"
    },
    {
     "data": {
      "image/png": "[encoded data removed]",
      "text/plain": [
       "<matplotlib.figure.Figure at 0x23b995d7c18>"
      ]
     },
     "metadata": {},
     "output_type": "display_data"
    }
   ],
   "source": [
    "##RELATIONSHIP BETWEEN FARE AND AGE IN SURVIVORS\n",
    "\n",
    "survivor_fare = object_list(survivor_data, 'Age', 'Fare', None)\n",
    "survivor_siblings = object_list(survivor_data, 'Age', 'SibSp', None)\n",
    "\n",
    "scaled_sibling = scale_by_factor(survivor_siblings, 50)\n",
    "    \n",
    "scatter(survivor_age_list,survivor_fare, s= scaled_sibling)"
   ]
  },
  {
   "cell_type": "code",
   "execution_count": 203,
   "metadata": {},
   "outputs": [
    {
     "name": "stdout",
     "output_type": "stream",
     "text": [
      "Size:  342\n",
      "Mean:  48.3954076023\n",
      "Standard Deviation:  66.4995628092\n",
      "Median:  26.0\n",
      "Minimum:  0.0\n",
      "Maximum:  512.3292\n"
     ]
    },
    {
     "data": {
      "image/png": "[encoded data removed]",
      "text/plain": [
       "<matplotlib.figure.Figure at 0x23b999a99e8>"
      ]
     },
     "metadata": {},
     "output_type": "display_data"
    }
   ],
   "source": [
    "survivor_fare_list = list_data(survivor_data,'Fare')\n",
    "describe_data(survivor_fare_list, 28,'hist')"
   ]
  },
  {
   "cell_type": "code",
   "execution_count": 204,
   "metadata": {},
   "outputs": [
    {
     "data": {
      "image/png": "[encoded data removed]",
      "text/plain": [
       "<matplotlib.figure.Figure at 0x23b9972de10>"
      ]
     },
     "metadata": {},
     "output_type": "display_data"
    }
   ],
   "source": [
    "##RELATIONSHIP BETWEEN FARE AND AGE IN WOMEN\n",
    "\n",
    "female_survivor_fare = object_list(female_survivors, 'Age', 'Fare', None)\n",
    "scatter(list_data(female_survivors, 'Age'),female_survivor_fare)\n",
    "plt.show()"
   ]
  },
  {
   "cell_type": "code",
   "execution_count": null,
   "metadata": {
    "collapsed": true
   },
   "outputs": [],
   "source": []
  },
  {
   "cell_type": "code",
   "execution_count": null,
   "metadata": {
    "collapsed": true
   },
   "outputs": [],
   "source": []
  },
  {
   "cell_type": "code",
   "execution_count": 45,
   "metadata": {
    "collapsed": true
   },
   "outputs": [],
   "source": [
    "\n",
    "titanic_names = titanic_data\n",
    "titanic_by_name = defaultdict(list)\n",
    "family = defaultdict(list)\n",
    "for passenger in titanic_names:\n",
    "    passenger['First Name'] = (passenger['Name']).split(',')[0] \n",
    "    key2 = passenger['SibSp']\n",
    "    key = passenger['First Name'] + ' ' + str(key2 + 1)\n",
    "    for i in range(1,9):\n",
    "        if key2 == i:\n",
    "            titanic_by_name[key].append(passenger)"
   ]
  },
  {
   "cell_type": "code",
   "execution_count": 46,
   "metadata": {},
   "outputs": [
    {
     "data": {
      "text/plain": [
       "{'Abbott 2': 2,\n",
       " 'Abelson 2': 2,\n",
       " 'Ahlin 2': 1,\n",
       " 'Allison 2': 3,\n",
       " 'Andersen-Jensen 2': 1,\n",
       " 'Andersson 2': 2,\n",
       " 'Andersson 5': 6,\n",
       " 'Andrews 2': 1,\n",
       " 'Angle 2': 1,\n",
       " 'Appleton 3': 1,\n",
       " 'Arnold-Franchi 2': 2,\n",
       " 'Asplund 2': 1,\n",
       " 'Asplund 5': 3,\n",
       " 'Astor 2': 1,\n",
       " 'Backstrom 2': 1,\n",
       " 'Backstrom 4': 1,\n",
       " 'Baclini 3': 3,\n",
       " 'Beane 2': 2,\n",
       " 'Becker 3': 2,\n",
       " 'Beckwith 2': 2,\n",
       " 'Bishop 2': 2,\n",
       " 'Boulos 2': 1,\n",
       " 'Bourke 2': 2,\n",
       " 'Braund 2': 2,\n",
       " 'Brown 2': 2,\n",
       " 'Bryhl 2': 1,\n",
       " 'Caldwell 2': 1,\n",
       " 'Caram 2': 1,\n",
       " 'Carter 2': 6,\n",
       " 'Cavendish 2': 1,\n",
       " 'Chaffee 2': 1,\n",
       " 'Chambers 2': 2,\n",
       " 'Chapman 2': 1,\n",
       " 'Christy 2': 1,\n",
       " 'Chronopoulos 2': 1,\n",
       " 'Clarke 2': 1,\n",
       " 'Collyer 2': 2,\n",
       " 'Compton 2': 1,\n",
       " 'Coutts 2': 2,\n",
       " 'Crosby 2': 1,\n",
       " 'Cumings 2': 1,\n",
       " 'Danbom 2': 2,\n",
       " 'Davidson 2': 1,\n",
       " 'Davies 2': 1,\n",
       " 'Davies 3': 1,\n",
       " 'Davison 2': 1,\n",
       " 'Dean 2': 2,\n",
       " 'Dick 2': 2,\n",
       " 'Douglas 2': 1,\n",
       " 'Drew 2': 1,\n",
       " 'Duff Gordon 2': 2,\n",
       " 'Duran y More 2': 1,\n",
       " 'Elias 2': 2,\n",
       " 'Eustis 2': 1,\n",
       " 'Faunthorpe 2': 1,\n",
       " 'Ford 2': 2,\n",
       " 'Ford 3': 2,\n",
       " 'Fortune 2': 1,\n",
       " 'Fortune 4': 3,\n",
       " 'Frauenthal 2': 1,\n",
       " 'Frauenthal 3': 1,\n",
       " 'Frolicher-Stehli 2': 1,\n",
       " 'Futrelle 2': 2,\n",
       " 'Gale 2': 1,\n",
       " 'Giles 2': 1,\n",
       " 'Goldenberg 2': 2,\n",
       " 'Goldsmith 2': 2,\n",
       " 'Goodwin 2': 1,\n",
       " 'Goodwin 6': 5,\n",
       " 'Gustafsson 3': 2,\n",
       " 'Hagland 2': 2,\n",
       " 'Hakkarainen 2': 2,\n",
       " 'Hamalainen 2': 1,\n",
       " 'Hansen 2': 1,\n",
       " 'Hansen 3': 1,\n",
       " 'Harder 2': 1,\n",
       " 'Harper 2': 2,\n",
       " 'Harris 2': 2,\n",
       " 'Hart 2': 2,\n",
       " 'Hays 2': 1,\n",
       " 'Herman 2': 2,\n",
       " 'Hickman 3': 3,\n",
       " 'Hocking 2': 1,\n",
       " 'Hocking 3': 1,\n",
       " 'Hogeboom 2': 1,\n",
       " 'Hold 2': 1,\n",
       " 'Holverson 2': 2,\n",
       " 'Hoyt 2': 2,\n",
       " 'Ilmakangas 2': 1,\n",
       " 'Jacobsohn 2': 1,\n",
       " 'Jacobsohn 3': 1,\n",
       " 'Jensen 2': 1,\n",
       " 'Johnson 2': 2,\n",
       " 'Johnston 2': 2,\n",
       " 'Jussila 2': 2,\n",
       " 'Kantor 2': 2,\n",
       " 'Kenyon 2': 1,\n",
       " 'Kiernan 2': 1,\n",
       " 'Kimball 2': 1,\n",
       " 'Kink 3': 1,\n",
       " 'Klasen 2': 1,\n",
       " 'Lahtinen 2': 1,\n",
       " 'Laroche 2': 3,\n",
       " 'Lefebre 4': 4,\n",
       " 'Lennon 2': 1,\n",
       " 'Lindell 2': 1,\n",
       " 'Lindqvist 2': 1,\n",
       " 'Lobb 2': 2,\n",
       " 'Louch 2': 1,\n",
       " 'Mallet 2': 1,\n",
       " 'Marvin 2': 1,\n",
       " 'McCoy 3': 2,\n",
       " 'McNamee 2': 1,\n",
       " 'Meyer 2': 2,\n",
       " 'Minahan 2': 1,\n",
       " 'Minahan 3': 1,\n",
       " 'Moran 2': 2,\n",
       " 'Moubarek 2': 2,\n",
       " 'Murphy 2': 2,\n",
       " 'Nakid 2': 1,\n",
       " 'Nasser 2': 2,\n",
       " 'Navratil 2': 2,\n",
       " 'Newell 2': 2,\n",
       " 'Nicholls 2': 1,\n",
       " 'Nicola-Yarred 2': 2,\n",
       " \"O'Brien 2\": 2,\n",
       " 'Palsson 4': 3,\n",
       " 'Panula 5': 5,\n",
       " 'Pears 2': 2,\n",
       " 'Penasco y Castellana 2': 2,\n",
       " 'Persson 2': 1,\n",
       " 'Peter 2': 1,\n",
       " 'Petterson 2': 1,\n",
       " 'Quick 2': 1,\n",
       " 'Renouf 2': 1,\n",
       " 'Renouf 4': 1,\n",
       " 'Rice 5': 4,\n",
       " 'Richards 2': 2,\n",
       " 'Richards 3': 1,\n",
       " 'Robins 2': 1,\n",
       " 'Rosblom 2': 1,\n",
       " 'Rothschild 2': 1,\n",
       " 'Ryerson 3': 2,\n",
       " 'Sage 9': 7,\n",
       " 'Samaan 3': 1,\n",
       " 'Sandstrom 2': 1,\n",
       " 'Silvey 2': 2,\n",
       " 'Skoog 2': 2,\n",
       " 'Skoog 4': 4,\n",
       " 'Spedden 2': 1,\n",
       " 'Spencer 2': 1,\n",
       " 'Stephenson 2': 1,\n",
       " 'Strom 2': 1,\n",
       " 'Taussig 2': 2,\n",
       " 'Taylor 2': 2,\n",
       " 'Thayer 2': 2,\n",
       " 'Thorneycroft 2': 2,\n",
       " 'Turpin 2': 2,\n",
       " 'Van Impe 2': 2,\n",
       " 'Vander Planke 2': 1,\n",
       " 'Vander Planke 3': 2,\n",
       " 'Warren 2': 1,\n",
       " 'Weisz 2': 1,\n",
       " 'Wells 2': 1,\n",
       " 'West 2': 3,\n",
       " 'Wick 2': 1,\n",
       " 'Wiklund 2': 1,\n",
       " 'Yasbeck 2': 2,\n",
       " 'Zabour 2': 2,\n",
       " 'de Messemaeker 2': 1,\n",
       " 'del Carlo 2': 1}"
      ]
     },
     "execution_count": 46,
     "metadata": {},
     "output_type": "execute_result"
    }
   ],
   "source": [
    "sum_grouped_items(titanic_by_name)"
   ]
  },
  {
   "cell_type": "code",
   "execution_count": 50,
   "metadata": {},
   "outputs": [
    {
     "data": {
      "text/plain": [
       "[OrderedDict([('PassengerId', '160'),\n",
       "              ('Survived', '0'),\n",
       "              ('Pclass', '3'),\n",
       "              ('Name', 'Sage, Master. Thomas Henry'),\n",
       "              ('Sex', 'male'),\n",
       "              ('Age', None),\n",
       "              ('SibSp', 8),\n",
       "              ('Parch', 2),\n",
       "              ('Ticket', 'CA. 2343'),\n",
       "              ('Fare', 69.55),\n",
       "              ('Cabin', None),\n",
       "              ('Embarked', 'S'),\n",
       "              ('Sur', 69.55),\n",
       "              ('First Name', 'Sage')]),\n",
       " OrderedDict([('PassengerId', '181'),\n",
       "              ('Survived', '0'),\n",
       "              ('Pclass', '3'),\n",
       "              ('Name', 'Sage, Miss. Constance Gladys'),\n",
       "              ('Sex', 'female'),\n",
       "              ('Age', None),\n",
       "              ('SibSp', 8),\n",
       "              ('Parch', 2),\n",
       "              ('Ticket', 'CA. 2343'),\n",
       "              ('Fare', 69.55),\n",
       "              ('Cabin', None),\n",
       "              ('Embarked', 'S'),\n",
       "              ('Sur', 69.55),\n",
       "              ('First Name', 'Sage')]),\n",
       " OrderedDict([('PassengerId', '202'),\n",
       "              ('Survived', '0'),\n",
       "              ('Pclass', '3'),\n",
       "              ('Name', 'Sage, Mr. Frederick'),\n",
       "              ('Sex', 'male'),\n",
       "              ('Age', None),\n",
       "              ('SibSp', 8),\n",
       "              ('Parch', 2),\n",
       "              ('Ticket', 'CA. 2343'),\n",
       "              ('Fare', 69.55),\n",
       "              ('Cabin', None),\n",
       "              ('Embarked', 'S'),\n",
       "              ('Sur', 69.55),\n",
       "              ('First Name', 'Sage')]),\n",
       " OrderedDict([('PassengerId', '325'),\n",
       "              ('Survived', '0'),\n",
       "              ('Pclass', '3'),\n",
       "              ('Name', 'Sage, Mr. George John Jr'),\n",
       "              ('Sex', 'male'),\n",
       "              ('Age', None),\n",
       "              ('SibSp', 8),\n",
       "              ('Parch', 2),\n",
       "              ('Ticket', 'CA. 2343'),\n",
       "              ('Fare', 69.55),\n",
       "              ('Cabin', None),\n",
       "              ('Embarked', 'S'),\n",
       "              ('Sur', 69.55),\n",
       "              ('First Name', 'Sage')]),\n",
       " OrderedDict([('PassengerId', '793'),\n",
       "              ('Survived', '0'),\n",
       "              ('Pclass', '3'),\n",
       "              ('Name', 'Sage, Miss. Stella Anna'),\n",
       "              ('Sex', 'female'),\n",
       "              ('Age', None),\n",
       "              ('SibSp', 8),\n",
       "              ('Parch', 2),\n",
       "              ('Ticket', 'CA. 2343'),\n",
       "              ('Fare', 69.55),\n",
       "              ('Cabin', None),\n",
       "              ('Embarked', 'S'),\n",
       "              ('Sur', 69.55),\n",
       "              ('First Name', 'Sage')]),\n",
       " OrderedDict([('PassengerId', '847'),\n",
       "              ('Survived', '0'),\n",
       "              ('Pclass', '3'),\n",
       "              ('Name', 'Sage, Mr. Douglas Bullen'),\n",
       "              ('Sex', 'male'),\n",
       "              ('Age', None),\n",
       "              ('SibSp', 8),\n",
       "              ('Parch', 2),\n",
       "              ('Ticket', 'CA. 2343'),\n",
       "              ('Fare', 69.55),\n",
       "              ('Cabin', None),\n",
       "              ('Embarked', 'S'),\n",
       "              ('Sur', 69.55),\n",
       "              ('First Name', 'Sage')]),\n",
       " OrderedDict([('PassengerId', '864'),\n",
       "              ('Survived', '0'),\n",
       "              ('Pclass', '3'),\n",
       "              ('Name', 'Sage, Miss. Dorothy Edith \"Dolly\"'),\n",
       "              ('Sex', 'female'),\n",
       "              ('Age', None),\n",
       "              ('SibSp', 8),\n",
       "              ('Parch', 2),\n",
       "              ('Ticket', 'CA. 2343'),\n",
       "              ('Fare', 69.55),\n",
       "              ('Cabin', None),\n",
       "              ('Embarked', 'S'),\n",
       "              ('Sur', 69.55),\n",
       "              ('First Name', 'Sage')])]"
      ]
     },
     "execution_count": 50,
     "metadata": {},
     "output_type": "execute_result"
    }
   ],
   "source": [
    "titanic_by_name['Sage 9']"
   ]
  },
  {
   "cell_type": "code",
   "execution_count": null,
   "metadata": {
    "collapsed": true
   },
   "outputs": [],
   "source": [
    "for passenger in titanic_data:\n",
    "    if passenger['Sex'] == 'male':\n",
    "        males.append(passenger)\n",
    "    else:\n",
    "        females.append(passenger)\n",
    "    if passenger['Age'] <= 12:\n",
    "        child.append(passenger)\n",
    "    elif passenger['Age'] >= 13 and passenger['Age'] <21 :\n",
    "        women.append(passenger)\n",
    "     - A child is rated as 12 years and below.\n",
    "    Men and women are rated as above 21.\n",
    "  - Adolescents are between 12 and 21.\n",
    "  - Elderly is an age class above years of age.\n",
    " \n",
    "len(list(survivor_data))\n",
    "len(list(non_survivor_data))\n",
    "len(list_data(female_survivors))\n",
    "len(list_data(male_survivors))"
   ]
  },
  {
   "cell_type": "code",
   "execution_count": null,
   "metadata": {
    "collapsed": true
   },
   "outputs": [],
   "source": []
  },
  {
   "cell_type": "code",
   "execution_count": null,
   "metadata": {
    "collapsed": true
   },
   "outputs": [],
   "source": []
  }
 ],
 "metadata": {
  "kernelspec": {
   "display_name": "Python 3",
   "language": "python",
   "name": "python3"
  },
  "language_info": {
   "codemirror_mode": {
    "name": "ipython",
    "version": 3
   },
   "file_extension": ".py",
   "mimetype": "text/x-python",
   "name": "python",
   "nbconvert_exporter": "python",
   "pygments_lexer": "ipython3",
   "version": "3.6.1"
  }
 },
 "nbformat": 4,
 "nbformat_minor": 2
}
