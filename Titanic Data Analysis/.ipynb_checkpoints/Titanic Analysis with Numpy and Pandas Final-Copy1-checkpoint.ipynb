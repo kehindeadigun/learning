{
 "cells": [
  {
   "cell_type": "markdown",
   "metadata": {
    "collapsed": true
   },
   "source": [
    "# Titanic Analysis With NumPy And Pandas"
   ]
  },
  {
   "cell_type": "markdown",
   "metadata": {},
   "source": [
    "The aim of this project is using Numpy and Pandas to analyse a data set containing information on the Titanic and then communicating findings as well as I can using only Python and it's libraries NumPy and Pandas with and Matplotlib."
   ]
  },
  {
   "cell_type": "markdown",
   "metadata": {},
   "source": [
    "# Data Description"
   ]
  },
  {
   "cell_type": "markdown",
   "metadata": {},
   "source": [
    "This dataset contains demographics and passenger information from 891 of the 2224 passengers and crew on board the Titanic. You can view a description of this dataset on the Kaggle website, where the data was obtained (https://www.kaggle.com/c/titanic/data).\n",
    "\n",
    "survival: Survival (0 = No; 1 = Yes)\n",
    "pclass: Passenger Class (1 = 1st; 2 = 2nd; 3 = 3rd)\n",
    "name: Name\n",
    "sex: Sex\n",
    "age: Age\n",
    "sibsp: Number of Siblings/Spouses Aboard\n",
    "parch: Number of Parents/Children Aboard\n",
    "ticket: Ticket Number\n",
    "fare: Passenger Fare\n",
    "cabin: Cabin\n",
    "embarked: Port of Embarkation (C = Cherbourg; Q = Queenstown; S = Southampton)\n",
    "Special Notes:\n",
    "\n",
    "Pclass is a proxy for socio-economic status (SES) 1st ~ Upper; 2nd ~ Middle; 3rd ~ Lower\n",
    "Age is in Years; Fractional if Age less than One (1) If the Age is Estimated, it is in the form xx.5\n",
    "With respect to the family relation variables (i.e. sibsp and parch) some relations were ignored. The following are the definitions used for sibsp and parch.\n",
    "\n",
    "Sibling: Brother, Sister, Stepbrother, or Stepsister of Passenger Aboard Titanic\n",
    "Spouse: Husband or Wife of Passenger Aboard Titanic (Mistresses and Fiances Ignored)\n",
    "Parent: Mother or Father of Passenger Aboard Titanic\n",
    "Child: Son, Daughter, Stepson, or Stepdaughter of Passenger Aboard Titanic\n",
    "Other family relatives excluded from this study include cousins, nephews/nieces, aunts/uncles, and in-laws. Some children travelled only with a nanny, therefore parch=0 for them. As well, some travelled with very close friends or neighbors in a village, however, the definitions do not support such relations."
   ]
  },
  {
   "cell_type": "markdown",
   "metadata": {
    "collapsed": true
   },
   "source": [
    "# Importing The DataSet "
   ]
  },
  {
   "cell_type": "code",
   "execution_count": 1,
   "metadata": {},
   "outputs": [
    {
     "data": {
      "text/html": [
       "<div>\n",
       "<style>\n",
       "    .dataframe thead tr:only-child th {\n",
       "        text-align: right;\n",
       "    }\n",
       "\n",
       "    .dataframe thead th {\n",
       "        text-align: left;\n",
       "    }\n",
       "\n",
       "    .dataframe tbody tr th {\n",
       "        vertical-align: top;\n",
       "    }\n",
       "</style>\n",
       "<table border=\"1\" class=\"dataframe\">\n",
       "  <thead>\n",
       "    <tr style=\"text-align: right;\">\n",
       "      <th></th>\n",
       "      <th>PassengerId</th>\n",
       "      <th>Survived</th>\n",
       "      <th>Pclass</th>\n",
       "      <th>Name</th>\n",
       "      <th>Sex</th>\n",
       "      <th>Age</th>\n",
       "      <th>SibSp</th>\n",
       "      <th>Parch</th>\n",
       "      <th>Ticket</th>\n",
       "      <th>Fare</th>\n",
       "      <th>Cabin</th>\n",
       "      <th>Embarked</th>\n",
       "    </tr>\n",
       "  </thead>\n",
       "  <tbody>\n",
       "    <tr>\n",
       "      <th>0</th>\n",
       "      <td>1</td>\n",
       "      <td>0</td>\n",
       "      <td>3</td>\n",
       "      <td>Braund, Mr. Owen Harris</td>\n",
       "      <td>male</td>\n",
       "      <td>22.0</td>\n",
       "      <td>1</td>\n",
       "      <td>0</td>\n",
       "      <td>A/5 21171</td>\n",
       "      <td>7.2500</td>\n",
       "      <td>NaN</td>\n",
       "      <td>S</td>\n",
       "    </tr>\n",
       "    <tr>\n",
       "      <th>1</th>\n",
       "      <td>2</td>\n",
       "      <td>1</td>\n",
       "      <td>1</td>\n",
       "      <td>Cumings, Mrs. John Bradley (Florence Briggs Th...</td>\n",
       "      <td>female</td>\n",
       "      <td>38.0</td>\n",
       "      <td>1</td>\n",
       "      <td>0</td>\n",
       "      <td>PC 17599</td>\n",
       "      <td>71.2833</td>\n",
       "      <td>C85</td>\n",
       "      <td>C</td>\n",
       "    </tr>\n",
       "    <tr>\n",
       "      <th>2</th>\n",
       "      <td>3</td>\n",
       "      <td>1</td>\n",
       "      <td>3</td>\n",
       "      <td>Heikkinen, Miss. Laina</td>\n",
       "      <td>female</td>\n",
       "      <td>26.0</td>\n",
       "      <td>0</td>\n",
       "      <td>0</td>\n",
       "      <td>STON/O2. 3101282</td>\n",
       "      <td>7.9250</td>\n",
       "      <td>NaN</td>\n",
       "      <td>S</td>\n",
       "    </tr>\n",
       "    <tr>\n",
       "      <th>3</th>\n",
       "      <td>4</td>\n",
       "      <td>1</td>\n",
       "      <td>1</td>\n",
       "      <td>Futrelle, Mrs. Jacques Heath (Lily May Peel)</td>\n",
       "      <td>female</td>\n",
       "      <td>35.0</td>\n",
       "      <td>1</td>\n",
       "      <td>0</td>\n",
       "      <td>113803</td>\n",
       "      <td>53.1000</td>\n",
       "      <td>C123</td>\n",
       "      <td>S</td>\n",
       "    </tr>\n",
       "    <tr>\n",
       "      <th>4</th>\n",
       "      <td>5</td>\n",
       "      <td>0</td>\n",
       "      <td>3</td>\n",
       "      <td>Allen, Mr. William Henry</td>\n",
       "      <td>male</td>\n",
       "      <td>35.0</td>\n",
       "      <td>0</td>\n",
       "      <td>0</td>\n",
       "      <td>373450</td>\n",
       "      <td>8.0500</td>\n",
       "      <td>NaN</td>\n",
       "      <td>S</td>\n",
       "    </tr>\n",
       "  </tbody>\n",
       "</table>\n",
       "</div>"
      ],
      "text/plain": [
       "   PassengerId  Survived  Pclass  \\\n",
       "0            1         0       3   \n",
       "1            2         1       1   \n",
       "2            3         1       3   \n",
       "3            4         1       1   \n",
       "4            5         0       3   \n",
       "\n",
       "                                                Name     Sex   Age  SibSp  \\\n",
       "0                            Braund, Mr. Owen Harris    male  22.0      1   \n",
       "1  Cumings, Mrs. John Bradley (Florence Briggs Th...  female  38.0      1   \n",
       "2                             Heikkinen, Miss. Laina  female  26.0      0   \n",
       "3       Futrelle, Mrs. Jacques Heath (Lily May Peel)  female  35.0      1   \n",
       "4                           Allen, Mr. William Henry    male  35.0      0   \n",
       "\n",
       "   Parch            Ticket     Fare Cabin Embarked  \n",
       "0      0         A/5 21171   7.2500   NaN        S  \n",
       "1      0          PC 17599  71.2833   C85        C  \n",
       "2      0  STON/O2. 3101282   7.9250   NaN        S  \n",
       "3      0            113803  53.1000  C123        S  \n",
       "4      0            373450   8.0500   NaN        S  "
      ]
     },
     "execution_count": 1,
     "metadata": {},
     "output_type": "execute_result"
    }
   ],
   "source": [
    "##Importing the csv file from location on storage into a pandas data frame\n",
    "\n",
    "import numpy as np\n",
    "import pandas as pd\n",
    "\n",
    "titanic_df = pd.read_csv('titanic_data.csv')  #Read the csv file as a pandas dataframe\n",
    "titanic_df.head()"
   ]
  },
  {
   "cell_type": "code",
   "execution_count": 2,
   "metadata": {},
   "outputs": [
    {
     "data": {
      "text/plain": [
       "891"
      ]
     },
     "execution_count": 2,
     "metadata": {},
     "output_type": "execute_result"
    }
   ],
   "source": [
    "len(titanic_df['Ticket'].unique())           ##Checking on a slice of the data in the list  \n",
    "len(titanic_df) - len(titanic_df['Ticket'].unique()) \n",
    "len(titanic_df)"
   ]
  },
  {
   "cell_type": "markdown",
   "metadata": {},
   "source": [
    "# QUESTIONS"
   ]
  },
  {
   "cell_type": "markdown",
   "metadata": {},
   "source": [
    "Inspecting the data on Excel Spreadsheets, I have come up with quite a few intriguing questions I propose to answer.\n",
    "\n",
    "These questions are:\n",
    "\n",
    "1) I'm interested in seeing how survival varied by age. \n",
    "   - I am also interested in calculating these totals by categories. Did Women, Children, Men and The Elderly have a greater chance of surviving?\n",
    "   - b) Did Age in general affect survivability? And how, if so?\n",
    "\n",
    "     \n",
    "2) Exploring the Relationships between factors that might affect survivability:\n",
    "\n",
    "   - Sex and survivability. How did the female fare sex compared to males. \n",
    "   - Ticket Class and survivability     (Ticket class is divided into 1st, 2nd and 3rd Class)\n",
    "   - Passenger Fare and survivability   \n",
    "   - Port of Embarkation and survivability  (Ports of Embarkation are C = Cherbourg, Q = Queenstown, S = Southampton)\n",
    "     \n",
    "3) Also searching through these possible relationships might be interesting:\n",
    "      \n",
    "   - Fare and Ticket Class and survivability on size\n",
    "   - Attempting investigating data for Families on the titanic.\n",
    "   - Age, Ticket Fare and no of siblings reported\n",
    "\n",
    "4) What price of ticket determines what class one is put into. If class affected survivability, could we therefore say that ones fate was sealed as soon as one paid for tickets?"
   ]
  },
  {
   "cell_type": "markdown",
   "metadata": {},
   "source": [
    "# CLEANING THE DATA"
   ]
  },
  {
   "cell_type": "code",
   "execution_count": 3,
   "metadata": {},
   "outputs": [
    {
     "name": "stdout",
     "output_type": "stream",
     "text": [
      "891\n"
     ]
    },
    {
     "data": {
      "text/plain": [
       "PassengerId      0\n",
       "Survived         0\n",
       "Pclass           0\n",
       "Name             0\n",
       "Sex              0\n",
       "Age            177\n",
       "SibSp            0\n",
       "Parch            0\n",
       "Ticket           0\n",
       "Fare             0\n",
       "Cabin          687\n",
       "Embarked         2\n",
       "dtype: int64"
      ]
     },
     "execution_count": 3,
     "metadata": {},
     "output_type": "execute_result"
    }
   ],
   "source": [
    "print (titanic_df['PassengerId'].count())\n",
    "\n",
    "titanic_df.isnull().sum() ##Checks the dataframe fields for empty data points and sums up the number by field"
   ]
  },
  {
   "cell_type": "markdown",
   "metadata": {},
   "source": [
    "From the results:\n",
    "177 passengers are missing age information, 687 passengers are missing Cabin data and 2 passengers are missing Embarked Data\n",
    "\n",
    "As age is one of the fields we propose to analyze, we have to consider a method of either clearing out the null data or replacing such. I decided to replace missing age data with the mean of the data with the suspection that perhaps the missing factors may not in fact be Randomly misssing.\n",
    "\n",
    "Cabin data is not under investigation and so, ignoring it will have no negative effects.\n",
    "\n",
    "For the two parts of Embarked data we will substitute with the mode.\n",
    "\n",
    "One thing to also consider is reducing the data frame by cleaning out the columns not under investigation.\n",
    "\n",
    "If we are to investigate data by family then we must consider how families are displayed on the data. Perhaps those with the same first name, ticket number and sibsp number. Then including a column combining this data together might work for this purpose only might be appropriate. "
   ]
  },
  {
   "cell_type": "code",
   "execution_count": 4,
   "metadata": {},
   "outputs": [
    {
     "data": {
      "text/html": [
       "<div>\n",
       "<style>\n",
       "    .dataframe thead tr:only-child th {\n",
       "        text-align: right;\n",
       "    }\n",
       "\n",
       "    .dataframe thead th {\n",
       "        text-align: left;\n",
       "    }\n",
       "\n",
       "    .dataframe tbody tr th {\n",
       "        vertical-align: top;\n",
       "    }\n",
       "</style>\n",
       "<table border=\"1\" class=\"dataframe\">\n",
       "  <thead>\n",
       "    <tr style=\"text-align: right;\">\n",
       "      <th></th>\n",
       "      <th>PassengerId</th>\n",
       "      <th>Survived</th>\n",
       "      <th>Pclass</th>\n",
       "      <th>Name</th>\n",
       "      <th>Sex</th>\n",
       "      <th>Age</th>\n",
       "      <th>SibSp</th>\n",
       "      <th>Parch</th>\n",
       "      <th>Ticket</th>\n",
       "      <th>Fare</th>\n",
       "      <th>Cabin</th>\n",
       "      <th>Embarked</th>\n",
       "      <th>Family Name</th>\n",
       "      <th>Family Key</th>\n",
       "    </tr>\n",
       "  </thead>\n",
       "  <tbody>\n",
       "    <tr>\n",
       "      <th>0</th>\n",
       "      <td>1</td>\n",
       "      <td>0</td>\n",
       "      <td>3</td>\n",
       "      <td>Braund, Mr. Owen Harris</td>\n",
       "      <td>male</td>\n",
       "      <td>22.0</td>\n",
       "      <td>1</td>\n",
       "      <td>0</td>\n",
       "      <td>A/5 21171</td>\n",
       "      <td>7.2500</td>\n",
       "      <td>NaN</td>\n",
       "      <td>S</td>\n",
       "      <td>Braund</td>\n",
       "      <td>BraundA/5 21171</td>\n",
       "    </tr>\n",
       "    <tr>\n",
       "      <th>1</th>\n",
       "      <td>2</td>\n",
       "      <td>1</td>\n",
       "      <td>1</td>\n",
       "      <td>Cumings, Mrs. John Bradley (Florence Briggs Th...</td>\n",
       "      <td>female</td>\n",
       "      <td>38.0</td>\n",
       "      <td>1</td>\n",
       "      <td>0</td>\n",
       "      <td>PC 17599</td>\n",
       "      <td>71.2833</td>\n",
       "      <td>C85</td>\n",
       "      <td>C</td>\n",
       "      <td>Cumings</td>\n",
       "      <td>CumingsPC 17599</td>\n",
       "    </tr>\n",
       "    <tr>\n",
       "      <th>2</th>\n",
       "      <td>3</td>\n",
       "      <td>1</td>\n",
       "      <td>3</td>\n",
       "      <td>Heikkinen, Miss. Laina</td>\n",
       "      <td>female</td>\n",
       "      <td>26.0</td>\n",
       "      <td>0</td>\n",
       "      <td>0</td>\n",
       "      <td>STON/O2. 3101282</td>\n",
       "      <td>7.9250</td>\n",
       "      <td>NaN</td>\n",
       "      <td>S</td>\n",
       "      <td>Heikkinen</td>\n",
       "      <td>HeikkinenSTON/O2. 3101282</td>\n",
       "    </tr>\n",
       "    <tr>\n",
       "      <th>3</th>\n",
       "      <td>4</td>\n",
       "      <td>1</td>\n",
       "      <td>1</td>\n",
       "      <td>Futrelle, Mrs. Jacques Heath (Lily May Peel)</td>\n",
       "      <td>female</td>\n",
       "      <td>35.0</td>\n",
       "      <td>1</td>\n",
       "      <td>0</td>\n",
       "      <td>113803</td>\n",
       "      <td>53.1000</td>\n",
       "      <td>C123</td>\n",
       "      <td>S</td>\n",
       "      <td>Futrelle</td>\n",
       "      <td>Futrelle113803</td>\n",
       "    </tr>\n",
       "    <tr>\n",
       "      <th>4</th>\n",
       "      <td>5</td>\n",
       "      <td>0</td>\n",
       "      <td>3</td>\n",
       "      <td>Allen, Mr. William Henry</td>\n",
       "      <td>male</td>\n",
       "      <td>35.0</td>\n",
       "      <td>0</td>\n",
       "      <td>0</td>\n",
       "      <td>373450</td>\n",
       "      <td>8.0500</td>\n",
       "      <td>NaN</td>\n",
       "      <td>S</td>\n",
       "      <td>Allen</td>\n",
       "      <td>Allen373450</td>\n",
       "    </tr>\n",
       "  </tbody>\n",
       "</table>\n",
       "</div>"
      ],
      "text/plain": [
       "   PassengerId  Survived  Pclass  \\\n",
       "0            1         0       3   \n",
       "1            2         1       1   \n",
       "2            3         1       3   \n",
       "3            4         1       1   \n",
       "4            5         0       3   \n",
       "\n",
       "                                                Name     Sex   Age  SibSp  \\\n",
       "0                            Braund, Mr. Owen Harris    male  22.0      1   \n",
       "1  Cumings, Mrs. John Bradley (Florence Briggs Th...  female  38.0      1   \n",
       "2                             Heikkinen, Miss. Laina  female  26.0      0   \n",
       "3       Futrelle, Mrs. Jacques Heath (Lily May Peel)  female  35.0      1   \n",
       "4                           Allen, Mr. William Henry    male  35.0      0   \n",
       "\n",
       "   Parch            Ticket     Fare Cabin Embarked Family Name  \\\n",
       "0      0         A/5 21171   7.2500   NaN        S      Braund   \n",
       "1      0          PC 17599  71.2833   C85        C     Cumings   \n",
       "2      0  STON/O2. 3101282   7.9250   NaN        S   Heikkinen   \n",
       "3      0            113803  53.1000  C123        S    Futrelle   \n",
       "4      0            373450   8.0500   NaN        S       Allen   \n",
       "\n",
       "                  Family Key  \n",
       "0            BraundA/5 21171  \n",
       "1            CumingsPC 17599  \n",
       "2  HeikkinenSTON/O2. 3101282  \n",
       "3             Futrelle113803  \n",
       "4                Allen373450  "
      ]
     },
     "execution_count": 4,
     "metadata": {},
     "output_type": "execute_result"
    }
   ],
   "source": [
    "def split_name(data):  #Splits the passengers name and returns only the first name (at index in the split list)\n",
    "    return data.split(',')[0]\n",
    "\n",
    "#titanic_first_names.rename(columns={'SibSp':'Family Key', 'Name':'Family Name'}, inplace = True)\n",
    "#titanic_df = titanic_df.merge(titanic_first_names, on = 'PassengerId', how = 'left',)\n",
    "\n",
    "##Creating a hash key for family members by combining their ticket number and family name\n",
    "\n",
    "titanic_df['Family Name'] = titanic_df['Name'].apply(split_name)\n",
    "\n",
    "titanic_df['Family Key'] = titanic_df['Family Name'] + titanic_df['Ticket']\n",
    "\n",
    "titanic_df.head()"
   ]
  },
  {
   "cell_type": "code",
   "execution_count": 5,
   "metadata": {},
   "outputs": [
    {
     "name": "stdout",
     "output_type": "stream",
     "text": [
      "There are about 210 people travelling together.\n",
      "\n",
      "There are at most 224 families.\n",
      "\n",
      "There are at least 152 families.\n"
     ]
    }
   ],
   "source": [
    "## df.duplicated Returns the number of Entries that are not duplicated and we sum those up\n",
    "\n",
    "print ('There are about {} people travelling together.'.format(len(titanic_df) - len(titanic_df['Ticket'].unique())))\n",
    "print ('\\nThere are at most {} families.'.format(titanic_df.duplicated('Family Name').sum()))\n",
    "print ('\\nThere are at least {} families.'.format(titanic_df.duplicated('Family Key').sum()))"
   ]
  },
  {
   "cell_type": "markdown",
   "metadata": {},
   "source": [
    "We have a maximum of 224 families because some families, individuals or both will of course share the same last name. Bringing in the family Key reduces the number to about 152"
   ]
  },
  {
   "cell_type": "code",
   "execution_count": 8,
   "metadata": {},
   "outputs": [
    {
     "data": {
      "text/html": [
       "<div>\n",
       "<style>\n",
       "    .dataframe thead tr:only-child th {\n",
       "        text-align: right;\n",
       "    }\n",
       "\n",
       "    .dataframe thead th {\n",
       "        text-align: left;\n",
       "    }\n",
       "\n",
       "    .dataframe tbody tr th {\n",
       "        vertical-align: top;\n",
       "    }\n",
       "</style>\n",
       "<table border=\"1\" class=\"dataframe\">\n",
       "  <thead>\n",
       "    <tr style=\"text-align: right;\">\n",
       "      <th></th>\n",
       "      <th>Survived</th>\n",
       "      <th>Pclass</th>\n",
       "      <th>Sex</th>\n",
       "      <th>Age</th>\n",
       "      <th>SibSp</th>\n",
       "      <th>Parch</th>\n",
       "      <th>Fare</th>\n",
       "      <th>Embarked</th>\n",
       "      <th>Family Name</th>\n",
       "      <th>Family Key</th>\n",
       "    </tr>\n",
       "  </thead>\n",
       "  <tbody>\n",
       "    <tr>\n",
       "      <th>0</th>\n",
       "      <td>0</td>\n",
       "      <td>3</td>\n",
       "      <td>male</td>\n",
       "      <td>22.0</td>\n",
       "      <td>1</td>\n",
       "      <td>0</td>\n",
       "      <td>7.2500</td>\n",
       "      <td>S</td>\n",
       "      <td>Braund</td>\n",
       "      <td>BraundA/5 21171</td>\n",
       "    </tr>\n",
       "    <tr>\n",
       "      <th>1</th>\n",
       "      <td>1</td>\n",
       "      <td>1</td>\n",
       "      <td>female</td>\n",
       "      <td>38.0</td>\n",
       "      <td>1</td>\n",
       "      <td>0</td>\n",
       "      <td>71.2833</td>\n",
       "      <td>C</td>\n",
       "      <td>Cumings</td>\n",
       "      <td>CumingsPC 17599</td>\n",
       "    </tr>\n",
       "    <tr>\n",
       "      <th>2</th>\n",
       "      <td>1</td>\n",
       "      <td>3</td>\n",
       "      <td>female</td>\n",
       "      <td>26.0</td>\n",
       "      <td>0</td>\n",
       "      <td>0</td>\n",
       "      <td>7.9250</td>\n",
       "      <td>S</td>\n",
       "      <td>Heikkinen</td>\n",
       "      <td>HeikkinenSTON/O2. 3101282</td>\n",
       "    </tr>\n",
       "    <tr>\n",
       "      <th>3</th>\n",
       "      <td>1</td>\n",
       "      <td>1</td>\n",
       "      <td>female</td>\n",
       "      <td>35.0</td>\n",
       "      <td>1</td>\n",
       "      <td>0</td>\n",
       "      <td>53.1000</td>\n",
       "      <td>S</td>\n",
       "      <td>Futrelle</td>\n",
       "      <td>Futrelle113803</td>\n",
       "    </tr>\n",
       "    <tr>\n",
       "      <th>4</th>\n",
       "      <td>0</td>\n",
       "      <td>3</td>\n",
       "      <td>male</td>\n",
       "      <td>35.0</td>\n",
       "      <td>0</td>\n",
       "      <td>0</td>\n",
       "      <td>8.0500</td>\n",
       "      <td>S</td>\n",
       "      <td>Allen</td>\n",
       "      <td>Allen373450</td>\n",
       "    </tr>\n",
       "  </tbody>\n",
       "</table>\n",
       "</div>"
      ],
      "text/plain": [
       "   Survived  Pclass     Sex   Age  SibSp  Parch     Fare Embarked Family Name  \\\n",
       "0         0       3    male  22.0      1      0   7.2500        S      Braund   \n",
       "1         1       1  female  38.0      1      0  71.2833        C     Cumings   \n",
       "2         1       3  female  26.0      0      0   7.9250        S   Heikkinen   \n",
       "3         1       1  female  35.0      1      0  53.1000        S    Futrelle   \n",
       "4         0       3    male  35.0      0      0   8.0500        S       Allen   \n",
       "\n",
       "                  Family Key  \n",
       "0            BraundA/5 21171  \n",
       "1            CumingsPC 17599  \n",
       "2  HeikkinenSTON/O2. 3101282  \n",
       "3             Futrelle113803  \n",
       "4                Allen373450  "
      ]
     },
     "execution_count": 8,
     "metadata": {},
     "output_type": "execute_result"
    }
   ],
   "source": [
    "##Dropping unused columns in the dataframe\n",
    "\n",
    "titanic_data = titanic_df.drop(['Name','PassengerId', 'Ticket', 'Cabin'], axis=1)\n",
    "\n",
    "titanic_data.head()"
   ]
  },
  {
   "cell_type": "code",
   "execution_count": 9,
   "metadata": {
    "collapsed": true
   },
   "outputs": [],
   "source": [
    "##Replacing missing age data with the mean\n",
    "\n",
    "titanic_df['Embarked'] = titanic_df['Embarked'].replace(np.nan, titanic_df['Embarked'].mode)"
   ]
  },
  {
   "cell_type": "markdown",
   "metadata": {
    "collapsed": true
   },
   "source": [
    "# Investigating The Data and Visualization"
   ]
  },
  {
   "cell_type": "code",
   "execution_count": 30,
   "metadata": {
    "collapsed": true
   },
   "outputs": [],
   "source": [
    "%matplotlib inline\n",
    "\n",
    "import matplotlib.pyplot as plt\n",
    "\n",
    "import seaborn as sns"
   ]
  },
  {
   "cell_type": "markdown",
   "metadata": {
    "collapsed": true
   },
   "source": [
    "## Question 1"
   ]
  },
  {
   "cell_type": "markdown",
   "metadata": {
    "collapsed": true
   },
   "source": [
    "### A) Did Women, Children and the Elderly have a better chance of survival?"
   ]
  },
  {
   "cell_type": "markdown",
   "metadata": {
    "collapsed": true
   },
   "source": [
    "To investigate this question, we split the ages into categories where:\n",
    "\n",
    "- Children          Ages below 18\n",
    "                                                            \n",
    "- Middle Aged Men    Men with ages between 31 & 49\n",
    "                              \n",
    "- Middle Aged Women  Women with ages between 31 & 49            \n",
    "                              \n",
    "- Young Men         Men between ages 17 & 31\n",
    "                  \n",
    "- Young Women       Women between ages 17 & 31\n",
    "\n",
    "- Elderly           Ages above 49     "
   ]
  },
  {
   "cell_type": "code",
   "execution_count": 470,
   "metadata": {},
   "outputs": [],
   "source": [
    "#titanic_data[(titanic_data['Sex'] == 'female') & (titanic_data['Age'] > 17) & (titanic_data['Age'] < 31)].head()"
   ]
  },
  {
   "cell_type": "code",
   "execution_count": 504,
   "metadata": {
    "collapsed": true
   },
   "outputs": [],
   "source": [
    "##Categorizing the data by age into four groups\n",
    "##Elders: Older than 50, \n",
    "\n",
    "titanic_data_age = titanic_data.copy()\n",
    "\n",
    "##Selects data where sex is female and age range is between 18 and 30. Adds that data to a new column 'Age Group'.\n",
    "##Sets property for all rows to 'Young Women'.\n",
    "\n",
    "titanic_data_age.loc[ \\\n",
    "    ((titanic_data_age['Sex'] == 'female') & (titanic_data_age['Age'] > 17) & (titanic_data_age['Age'] < 31)),\\\n",
    "                     'Age Group'] = 'Young Women'\n",
    "\n",
    "titanic_data_age.loc[ \\\n",
    "    ((titanic_data_age['Sex'] == 'male') & (titanic_data_age['Age'] > 17) & (titanic_data_age['Age'] < 35)),\\\n",
    "                             'Age Group'] = 'Young Men'\n",
    "\n",
    "titanic_data_age.loc[ \\\n",
    "    ((titanic_data_age['Sex'] == 'male') & (titanic_data_age['Age'] >= 35) & (titanic_data_age['Age'] <= 49)),\\\n",
    "                             'Age Group'] = 'Middle Age Men'\n",
    "\n",
    "titanic_data_age.loc[ \\\n",
    "    ((titanic_data_age['Sex'] == 'female') & (titanic_data_age['Age'] >= 31 ) & (titanic_data_age['Age'] <= 49)),\\\n",
    "                     'Age Group'] = 'Middle Age Women'\n",
    "\n",
    "titanic_data_age.loc[(titanic_data_age['Age'] < 18),'Age Group'] = 'Children'\n",
    "\n",
    "titanic_data_age.loc[(titanic_data_age['Age'] > 49),'Age Group'] = 'Elderly'"
   ]
  },
  {
   "cell_type": "code",
   "execution_count": 598,
   "metadata": {},
   "outputs": [
    {
     "name": "stdout",
     "output_type": "stream",
     "text": [
      "52 113 61\n"
     ]
    },
    {
     "data": {
      "text/plain": [
       "41"
      ]
     },
     "execution_count": 598,
     "metadata": {},
     "output_type": "execute_result"
    }
   ],
   "source": [
    "groups = titanic_data_age.dropna().groupby(['Age Group', 'Survived']).size()\n",
    "\n",
    "#round(((groups['Children'] / len(titanic_data_age['Age Group']=='Children'))*100),3)\n",
    "#print(groups[titles[0]])\n",
    "#print(groups[titles[0]],':', len(titanic_data[titanic_data_age['Age Group']=='Young Men']))\n",
    "i=0\n",
    "print(groups['Children',0],\n",
    "groups['Children'].sum(),\n",
    "groups['Children',1])\n",
    "\n",
    "groups[titles[i],1]"
   ]
  },
  {
   "cell_type": "code",
   "execution_count": 629,
   "metadata": {},
   "outputs": [
    {
     "name": "stdout",
     "output_type": "stream",
     "text": [
      "Age Group         Survived\n",
      "Children          0            52\n",
      "                  1            61\n",
      "Elderly           0            47\n",
      "                  1            26\n",
      "Middle Age Men    0            80\n",
      "                  1            22\n",
      "Middle Age Women  0            17\n",
      "                  1            62\n",
      "Young Men         0           200\n",
      "                  1            41\n",
      "Young Women       0            28\n",
      "                  1            76\n",
      "dtype: int64\n"
     ]
    },
    {
     "data": {
      "image/png": "[encoded data removed]",
      "text/plain": [
       "<matplotlib.figure.Figure at 0x23647bce860>"
      ]
     },
     "metadata": {},
     "output_type": "display_data"
    }
   ],
   "source": [
    "# Grouping the values as by Age Group and Survival\n",
    "groups = titanic_data_age.dropna().groupby(['Age Group','Survived']).size()\n",
    "print (groups)\n",
    "\n",
    "sns.set(style='darkgrid',font='sans-serif',font_scale=1.2)\n",
    "\n",
    "          # Graph to compare survival count between Age Groups\n",
    "graph = sns.factorplot('Survived', col='Age Group', data=titanic_data_age, kind='count', size=4, aspect=.8)\n",
    "\n",
    "\n",
    "graph.set_axis_labels('Survivorship', 'Number of Passengers') # Setting the labels for the plot\n",
    "graph.set_xticklabels(['Deceased', 'Alive'])\n",
    "\n",
    "        #We set the title for each plot according to the listed titles \n",
    "titles = ['Young Men','Middle Age Women','Young Women','Middle Age Men','Elderly','Children']\n",
    "                 #tit=list(titanic_data_age['Age Group'].unique())\n",
    "\n",
    "\n",
    "for i,ax in enumerate(graph.axes.flat):\n",
    "    ax.set_title(titles[i], fontdict = {'fontsize': 15})\n",
    "    percentage_survival = round((  (groups[titles[i],1] / groups[titles[i]].sum() )*100) ,1) #calclating the % survival by group\n",
    "    percentage_deceased = round((  (groups[titles[i],0] / groups[titles[i]].sum() )*100) ,1)#calclating the % deceased by group\n",
    "    ax.text(0.8, 5, str(percentage_survival)+'%',   color='white', fontdict = {'fontsize': 13})\n",
    "    ax.text(-0.17, 5, str(percentage_deceased)+'%',   color='white', fontdict = {'fontsize': 13})    "
   ]
  },
  {
   "cell_type": "markdown",
   "metadata": {},
   "source": [
    "### NOTES:"
   ]
  },
  {
   "cell_type": "markdown",
   "metadata": {},
   "source": [
    "It seems that Women and Children generally seem to have a higher survivability rate with 'Middle Age Women' and 'Young Women' on top with survival rates in the 70's. Men and generally people above 50 seemed to fare badly.\n",
    "\n",
    "It might be interesting to investigate data on children in particular to see exactly what age range survives better."
   ]
  },
  {
   "cell_type": "markdown",
   "metadata": {
    "collapsed": true
   },
   "source": [
    "### b) Did Age in general affect survivability? And how if so?"
   ]
  },
  {
   "cell_type": "markdown",
   "metadata": {
    "collapsed": true
   },
   "source": [
    "We can look at this by considering:\n",
    "- The age distribution of survivors compared to non-survivors as well as the overall data.\n",
    "- Compare survivor age data to non-survivor"
   ]
  },
  {
   "cell_type": "code",
   "execution_count": 630,
   "metadata": {},
   "outputs": [
    {
     "name": "stdout",
     "output_type": "stream",
     "text": [
      "Passengers with Age data:  714\n",
      "Mean Age:  29.69911764705882\n",
      "Youngest Passenger:  29.69911764705882\n",
      "Oldest Passenger:  80.0\n",
      "Most Recurent Ages:  0    24.0\n",
      "dtype: float64\n"
     ]
    },
    {
     "data": {
      "image/png": "[encoded data removed]",
      "text/plain": [
       "<matplotlib.figure.Figure at 0x236520dee48>"
      ]
     },
     "metadata": {},
     "output_type": "display_data"
    }
   ],
   "source": [
    "##TAKING THE AGES FROM THE TITANIC DATA BY AGE AND PLOTTING A HISTOGRAM\n",
    "\n",
    "survivor_ages = titanic_data_age[['Age', 'Survived']].copy()\n",
    "survivor_ages = survivor_ages[survivor_ages['Survived']==1]\n",
    "\n",
    "non_survivor_ages = titanic_data_age[['Age', 'Survived']].copy()\n",
    "non_survivor_ages = non_survivor_ages[non_survivor_ages['Survived']==0]\n",
    "\n",
    "sns.set(style='darkgrid',font='sans-serif',font_scale=1.2)\n",
    "\n",
    "fig,axes = plt.subplots(figsize=(19,6),nrows=1,ncols=3)\n",
    "\n",
    "ax1 = sns.distplot(titanic_data_age['Age'].dropna(), bins=30, ax=axes[0], kde=True)\n",
    "\n",
    "ax2 = sns.distplot(survivor_ages['Age'].dropna(), bins=30, ax=axes[1])\n",
    "\n",
    "ax3 = sns.distplot(non_survivor_ages['Age'].dropna(), bins=30, ax=axes[2])\n",
    "\n",
    "labels = ['Distribution of ages on the Titanic','Distribution of survivor ages on the Titanic',\\\n",
    "          'Distribution of non survivor ages on the Titanic']\n",
    "\n",
    "for i, ax in enumerate([ax1,ax2,ax3]):\n",
    "    ax.set_ylim(0,0.049)\n",
    "    ax.set_xlim(-10,90)\n",
    "    ax.set_xticks(range(0,85,5))\n",
    "    ax.set_xlabel('Age Distribution')\n",
    "    ax1.set_ylabel('Number Of Passengers') \n",
    "    ax.set_title(labels[i])\n",
    "\n",
    "age_data = titanic_data_age['Age'].dropna()\n",
    "\n",
    "\n",
    "print('Passengers with Age data: ',len(age_data))\n",
    "print('Mean Age: ',age_data.mean())\n",
    "print('Youngest Passenger: ',age_data.mean())\n",
    "print('Oldest Passenger: ',age_data.max())\n",
    "print('Most Recurent Ages: ',age_data.mode())"
   ]
  },
  {
   "cell_type": "code",
   "execution_count": 631,
   "metadata": {},
   "outputs": [
    {
     "name": "stdout",
     "output_type": "stream",
     "text": [
      "                                        ¦            \n",
      "Survivors                               ¦ Non-Survivors\n",
      "                                        ¦            \n",
      "Total Survivors with Age data:  290     ¦ Total Non-Survivors with Age data:  424\n",
      "Mean Age:  28.343689655172415           ¦ Mean Age:  30.62617924528302\n",
      "Youngest Survivor:  0.42                ¦ Youngest Non-Survivor:  1.0\n",
      "Oldest Survivor:  80.0                  ¦ Oldest Non-Survivor:  74.0\n",
      "Most Common Survivors Ages:  0    21.0\n",
      "dtype: float64                          ¦ Most Common Non-Survivors Ages:  0    24.0\n",
      "dtype: float64\n",
      "                                        ¦            \n",
      "                                        ¦            \n"
     ]
    }
   ],
   "source": [
    "non_surv_age = non_survivor_ages['Age'].dropna()\n",
    "surv_age = survivor_ages['Age'].dropna()\n",
    "\n",
    "print('                                        ¦            ')\n",
    "print('Survivors                               ¦ Non-Survivors')\n",
    "print('                                        ¦            ')\n",
    "print('Total Survivors with Age data: ',len(surv_age),'    ¦ Total Non-Survivors with Age data: ',len(non_surv_age))\n",
    "print('Mean Age: ',surv_age.mean(),             '          ¦ Mean Age: ',non_surv_age.mean())\n",
    "print('Youngest Survivor: ',surv_age.min(),'               ¦ Youngest Non-Survivor: ',non_surv_age.min())\n",
    "print('Oldest Survivor: ',surv_age.max(),'                 ¦ Oldest Non-Survivor: ',non_surv_age.max());\n",
    "print('Most Common Survivors Ages: ',non_surv_age.mode(), '\\\n",
    "                         ¦ Most Common Non-Survivors Ages: ',(surv_age.mode()));\n",
    "print('                                        ¦            ')\n",
    "print('                                        ¦            ')"
   ]
  },
  {
   "cell_type": "markdown",
   "metadata": {},
   "source": [
    "### NOTES"
   ]
  },
  {
   "cell_type": "markdown",
   "metadata": {},
   "source": [
    "About 290 people survived the sinking of the titanic with 424 people dead.\n",
    "\n",
    "- The ages of survivors on the Titanic seems to be relatively younger.\n",
    "\n",
    "- The largest number of survivors seemed to be between ages 20 and 25.\n",
    "\n",
    "\n",
    "For non-survivors however:\n",
    "- The largest number of non-survivors (is between ages between 28 and 30) seemed to peak on the side of early twenties while survivors peaked on the other side. \n",
    "\n",
    "- Of particular note is infant mortality and that of the elderly with about a third of infants(0-1) being saved, same as those of adults. \n",
    "\n",
    "Of note is the survival of children between ages 0 - 5 which is particularly high from what we can see.\n",
    "\n",
    "While the above has given some interesting insights into age data, it has yet to fully answer our question. Perhaps we then we would look at all ages and compare the survivors. We should get pretty much the same data but without bins."
   ]
  },
  {
   "cell_type": "code",
   "execution_count": 632,
   "metadata": {},
   "outputs": [],
   "source": [
    "def conv_to_int(age):\n",
    "    if age>= 0:\n",
    "        return int(age)\n",
    "    elif age =='NaN' or age==None:\n",
    "        return age\n",
    "    elif age<0:\n",
    "        return (age)"
   ]
  },
  {
   "cell_type": "code",
   "execution_count": 633,
   "metadata": {},
   "outputs": [
    {
     "data": {
      "image/png": "[encoded data removed]",
      "text/plain": [
       "<matplotlib.figure.Figure at 0x2364ad96ba8>"
      ]
     },
     "metadata": {},
     "output_type": "display_data"
    }
   ],
   "source": [
    "sns.set(style='whitegrid')\n",
    "import matplotlib.ticker as ticker\n",
    "\n",
    "#titanic_data_age['Age'] = titanic_data_age['Age'].apply(conv_to_int)\n",
    "#survivor_ages['Age'] = survivor_ages['Age'].apply(conv_to_int)\n",
    "\n",
    "fig,axes = plt.subplots(figsize=(26,5),nrows=1,ncols=1)\n",
    "\n",
    "ax1 = sns.countplot(x=\"Age\",data=titanic_data_age.dropna(), ax= axes, color='#FC2847', label='Non-Survivors')\n",
    "ax2 = sns.countplot(x='Age',data=survivor_ages.dropna(), ax=axes, color='black', label='Survivors')\n",
    "\n",
    "ax1.set_xlabel('Age', fontsize=20)\n",
    "ax1.set_ylabel('Age Totals', fontsize=18)\n",
    "ax1.tick_params(direction='out', length=6, width=2)\n",
    " \n",
    "plt.legend(fontsize = 15, loc=(0.76,0.82),ncol=2, frameon=True, handlelength=1.2);\n",
    "plt.savefig('Age Totals.png', dpi=400)"
   ]
  },
  {
   "cell_type": "markdown",
   "metadata": {},
   "source": [
    "2) Exploring the Relationships between factors that might affect survivability:\n",
    "   - Sex and survivability.  \n",
    "   - Ticket Class and survivability     (Ticket class is divided into 1st, 2nd and 3rd Class)\n",
    "   - Passenger Fare and survivability   \n",
    "   - Port of Embarkation and survivability  (Ports of Embarkation are C = Cherbourg, Q = Queenstown, S = Southampton)\n",
    "     \n",
    "3) Also searching through these possible relationships might be interesting:\n",
    "      \n",
    "   - Fare and Ticket Class and survivability on size\n",
    "   - Attempting investigating data for Families on the titanic.\n",
    "   - Age, Ticket Fare and no of siblings reported\n",
    "\n",
    "4) What price of ticket determines what class one is put into. If class affected survivability, could we therefore say that ones fate was sealed as soon as one paid for tickets?"
   ]
  },
  {
   "cell_type": "markdown",
   "metadata": {
    "collapsed": true
   },
   "source": [
    "## Question 2"
   ]
  },
  {
   "cell_type": "markdown",
   "metadata": {},
   "source": [
    "##### Sex and Survivability: How did the female fare sex compared to males?"
   ]
  },
  {
   "cell_type": "code",
   "execution_count": 634,
   "metadata": {},
   "outputs": [],
   "source": [
    "female = titanic_data[titanic_data['Sex']=='female']\n",
    "male = titanic_data[titanic_data['Sex']=='male']"
   ]
  },
  {
   "cell_type": "code",
   "execution_count": 636,
   "metadata": {},
   "outputs": [
    {
     "data": {
      "image/png": "[encoded data removed]",
      "text/plain": [
       "<matplotlib.figure.Figure at 0x2361f86f048>"
      ]
     },
     "metadata": {},
     "output_type": "display_data"
    }
   ],
   "source": [
    "sns.set(style='whitegrid')\n",
    "\n",
    "fig,axes = plt.subplots(nrows=1, ncols=1,figsize=(8,5))\n",
    "\n",
    "a0 = sns.countplot(x=\"Sex\", hue=\"Survived\", ax=axes, data=titanic_data)\n",
    "a0.set_title('Passenger Count by Sex')\n",
    "a0.set_ylabel('Passenger Count')\n",
    "a0.set_yticks(range(0,500,50));"
   ]
  },
  {
   "cell_type": "markdown",
   "metadata": {
    "collapsed": true
   },
   "source": [
    "## Question 3"
   ]
  },
  {
   "cell_type": "markdown",
   "metadata": {},
   "source": [
    "##### Fare and Survivability"
   ]
  },
  {
   "cell_type": "code",
   "execution_count": 533,
   "metadata": {},
   "outputs": [
    {
     "data": {
      "text/plain": [
       "3.0"
      ]
     },
     "execution_count": 533,
     "metadata": {},
     "output_type": "execute_result"
    }
   ],
   "source": [
    "#class_and_sex = titanic_data.groupby(['Pclass', 'Sex', 'Survived']).count().astype('float')\n",
    "\n",
    "\n",
    "class_and_sex = titanic_data.groupby(['Pclass', 'Sex', 'Survived']).size().astype('float')\n",
    "\n",
    "\n",
    "class_and_sex[1,'female',0]"
   ]
  },
  {
   "cell_type": "markdown",
   "metadata": {
    "collapsed": true
   },
   "source": [
    "## Question 4"
   ]
  },
  {
   "cell_type": "markdown",
   "metadata": {},
   "source": [
    "##### Passenger Fare, Ports Of Embarkation and Survivability"
   ]
  },
  {
   "cell_type": "markdown",
   "metadata": {},
   "source": [
    "A simple bit of visualization could solve this question. A boxplot is great because it singles out the outliers, those who might have paid extremely higher for fares and plots them."
   ]
  },
  {
   "cell_type": "code",
   "execution_count": 118,
   "metadata": {},
   "outputs": [
    {
     "data": {
      "text/plain": [
       "<matplotlib.text.Text at 0x2361c657da0>"
      ]
     },
     "execution_count": 118,
     "metadata": {},
     "output_type": "execute_result"
    },
    {
     "data": {
      "image/png": "[encoded data removed]",
      "text/plain": [
       "<matplotlib.figure.Figure at 0x2361c71fcf8>"
      ]
     },
     "metadata": {},
     "output_type": "display_data"
    }
   ],
   "source": [
    "#nsns.boxplot(x=\"Embarked\", y=\"Fare\", hue=\"Survived\",data=titanic_data, fliersize=8)\n",
    "sns.countplot(x=\"Embarked\", hue=\"Survived\",data=titanic_data)\n",
    "plt.title('Passenger Fare And Survivability by Port Of Embarkation')"
   ]
  },
  {
   "cell_type": "code",
   "execution_count": 102,
   "metadata": {},
   "outputs": [
    {
     "data": {
      "text/plain": [
       "<matplotlib.text.Text at 0x2361bc3d860>"
      ]
     },
     "execution_count": 102,
     "metadata": {},
     "output_type": "execute_result"
    },
    {
     "data": {
      "image/png": "[encoded data removed]",
      "text/plain": [
       "<matplotlib.figure.Figure at 0x2361a5a7160>"
      ]
     },
     "metadata": {},
     "output_type": "display_data"
    }
   ],
   "source": [
    "sns.boxplot(x=\"Pclass\", y=\"Fare\", hue=\"Survived\",data=titanic_data, fliersize=5);\n",
    "plt.title('Passenger Fare And Survivability by Port Of Embarkation')"
   ]
  },
  {
   "cell_type": "code",
   "execution_count": 99,
   "metadata": {},
   "outputs": [
    {
     "data": {
      "image/png": "[encoded data removed]",
      "text/plain": [
       "<matplotlib.figure.Figure at 0x2361a559ef0>"
      ]
     },
     "metadata": {},
     "output_type": "display_data"
    }
   ],
   "source": [
    "sns.set(style='whitegrid',font_scale=1.0)\n",
    "sns.boxplot(x=\"Embarked\", y=\"Fare\", hue=\"Pclass\",data=titanic_data)\n",
    "plt.title('Passenger Fare And Class by Port Of Embarkation')\n",
    "plt.show()"
   ]
  },
  {
   "cell_type": "markdown",
   "metadata": {},
   "source": [
    "We can see that considering the data by points of Embarkation, people in First Class generally paid higher for ticket prices.\n",
    "\n",
    "Also, we can conclude in a rather rounabout manner that if the class affected survivability and ticket price majorly determines such, then ticket price did affect survivability in some manner."
   ]
  },
  {
   "cell_type": "code",
   "execution_count": 20,
   "metadata": {},
   "outputs": [
    {
     "data": {
      "text/plain": [
       "<matplotlib.axes._subplots.AxesSubplot at 0x224eef96c50>"
      ]
     },
     "execution_count": 20,
     "metadata": {},
     "output_type": "execute_result"
    },
    {
     "data": {
      "image/png": "[encoded data removed]",
      "text/plain": [
       "<matplotlib.figure.Figure at 0x224eef56898>"
      ]
     },
     "metadata": {},
     "output_type": "display_data"
    }
   ],
   "source": [
    "sns.swarmplot(x=\"Survived\", y=\"Fare\", data=titanic_data)"
   ]
  },
  {
   "cell_type": "markdown",
   "metadata": {},
   "source": [
    "If we use a swarmplot, we may even get better insights on ticket data."
   ]
  },
  {
   "cell_type": "code",
   "execution_count": 31,
   "metadata": {},
   "outputs": [
    {
     "ename": "NameError",
     "evalue": "name 'survivor_data' is not defined",
     "output_type": "error",
     "traceback": [
      "\u001b[1;31m---------------------------------------------------------------------------\u001b[0m",
      "\u001b[1;31mNameError\u001b[0m                                 Traceback (most recent call last)",
      "\u001b[1;32m<ipython-input-31-ad64ff2dd861>\u001b[0m in \u001b[0;36m<module>\u001b[1;34m()\u001b[0m\n\u001b[0;32m      3\u001b[0m \u001b[0mmale_survivors\u001b[0m \u001b[1;33m=\u001b[0m \u001b[1;33m[\u001b[0m\u001b[1;33m]\u001b[0m\u001b[1;33m\u001b[0m\u001b[0m\n\u001b[0;32m      4\u001b[0m \u001b[0mfemale_survivors\u001b[0m \u001b[1;33m=\u001b[0m \u001b[1;33m[\u001b[0m\u001b[1;33m]\u001b[0m\u001b[1;33m\u001b[0m\u001b[0m\n\u001b[1;32m----> 5\u001b[1;33m \u001b[1;32mfor\u001b[0m \u001b[0mpassenger\u001b[0m \u001b[1;32min\u001b[0m \u001b[0msurvivor_data\u001b[0m\u001b[1;33m:\u001b[0m\u001b[1;33m\u001b[0m\u001b[0m\n\u001b[0m\u001b[0;32m      6\u001b[0m     \u001b[1;32mif\u001b[0m \u001b[0mpassenger\u001b[0m\u001b[1;33m[\u001b[0m\u001b[1;34m'Sex'\u001b[0m\u001b[1;33m]\u001b[0m \u001b[1;33m==\u001b[0m \u001b[1;34m'male'\u001b[0m\u001b[1;33m:\u001b[0m\u001b[1;33m\u001b[0m\u001b[0m\n\u001b[0;32m      7\u001b[0m         \u001b[0mmale_survivors\u001b[0m\u001b[1;33m.\u001b[0m\u001b[0mappend\u001b[0m\u001b[1;33m(\u001b[0m\u001b[0mpassenger\u001b[0m\u001b[1;33m)\u001b[0m\u001b[1;33m\u001b[0m\u001b[0m\n",
      "\u001b[1;31mNameError\u001b[0m: name 'survivor_data' is not defined"
     ]
    }
   ],
   "source": [
    "### Separating survivors by sex\n",
    "\n",
    "male_survivors = []\n",
    "female_survivors = []\n",
    "for passenger in survivor_data:\n",
    "    if passenger['Sex'] == 'male':\n",
    "        male_survivors.append(passenger)\n",
    "    elif passenger['Sex'] == 'female':\n",
    "        female_survivors.append(passenger)\n",
    "\n",
    "describe_data(list_data(female_survivors, 'Age'),20, 'hist')\n",
    "plt.show()\n"
   ]
  },
  {
   "cell_type": "code",
   "execution_count": 32,
   "metadata": {},
   "outputs": [
    {
     "ename": "NameError",
     "evalue": "name 'survivor_data' is not defined",
     "output_type": "error",
     "traceback": [
      "\u001b[1;31m---------------------------------------------------------------------------\u001b[0m",
      "\u001b[1;31mNameError\u001b[0m                                 Traceback (most recent call last)",
      "\u001b[1;32m<ipython-input-32-e048114abc14>\u001b[0m in \u001b[0;36m<module>\u001b[1;34m()\u001b[0m\n\u001b[0;32m      3\u001b[0m \u001b[0mmale_survivors\u001b[0m \u001b[1;33m=\u001b[0m \u001b[1;33m[\u001b[0m\u001b[1;33m]\u001b[0m\u001b[1;33m\u001b[0m\u001b[0m\n\u001b[0;32m      4\u001b[0m \u001b[0mfemale_survivors\u001b[0m \u001b[1;33m=\u001b[0m \u001b[1;33m[\u001b[0m\u001b[1;33m]\u001b[0m\u001b[1;33m\u001b[0m\u001b[0m\n\u001b[1;32m----> 5\u001b[1;33m \u001b[1;32mfor\u001b[0m \u001b[0mpassenger\u001b[0m \u001b[1;32min\u001b[0m \u001b[0msurvivor_data\u001b[0m\u001b[1;33m:\u001b[0m\u001b[1;33m\u001b[0m\u001b[0m\n\u001b[0m\u001b[0;32m      6\u001b[0m     \u001b[1;32mif\u001b[0m \u001b[0mpassenger\u001b[0m\u001b[1;33m[\u001b[0m\u001b[1;34m'Sex'\u001b[0m\u001b[1;33m]\u001b[0m \u001b[1;33m==\u001b[0m \u001b[1;34m'male'\u001b[0m\u001b[1;33m:\u001b[0m\u001b[1;33m\u001b[0m\u001b[0m\n\u001b[0;32m      7\u001b[0m         \u001b[0mmale_survivors\u001b[0m\u001b[1;33m.\u001b[0m\u001b[0mappend\u001b[0m\u001b[1;33m(\u001b[0m\u001b[0mpassenger\u001b[0m\u001b[1;33m)\u001b[0m\u001b[1;33m\u001b[0m\u001b[0m\n",
      "\u001b[1;31mNameError\u001b[0m: name 'survivor_data' is not defined"
     ]
    }
   ],
   "source": [
    "### Separating survivors by sex\n",
    "\n",
    "male_survivors = []\n",
    "female_survivors = []\n",
    "for passenger in survivor_data:\n",
    "    if passenger['Sex'] == 'male':\n",
    "        male_survivors.append(passenger)\n",
    "    elif passenger['Sex'] == 'female':\n",
    "        female_survivors.append(passenger)\n",
    "\n",
    "describe_data(list_data(female_survivors, 'Age'),28, 'hist')\n",
    "plt.show()"
   ]
  },
  {
   "cell_type": "code",
   "execution_count": 33,
   "metadata": {},
   "outputs": [
    {
     "ename": "NameError",
     "evalue": "name 'list_data' is not defined",
     "output_type": "error",
     "traceback": [
      "\u001b[1;31m---------------------------------------------------------------------------\u001b[0m",
      "\u001b[1;31mNameError\u001b[0m                                 Traceback (most recent call last)",
      "\u001b[1;32m<ipython-input-33-1bd7cb082198>\u001b[0m in \u001b[0;36m<module>\u001b[1;34m()\u001b[0m\n\u001b[0;32m      3\u001b[0m \u001b[0msns\u001b[0m\u001b[1;33m.\u001b[0m\u001b[0mset\u001b[0m\u001b[1;33m(\u001b[0m\u001b[0mstyle\u001b[0m\u001b[1;33m=\u001b[0m\u001b[1;34m'darkgrid'\u001b[0m\u001b[1;33m,\u001b[0m\u001b[0mfont\u001b[0m\u001b[1;33m=\u001b[0m\u001b[1;34m'sans-serif'\u001b[0m\u001b[1;33m,\u001b[0m\u001b[0mfont_scale\u001b[0m\u001b[1;33m=\u001b[0m\u001b[1;36m1.2\u001b[0m\u001b[1;33m)\u001b[0m\u001b[1;33m\u001b[0m\u001b[0m\n\u001b[0;32m      4\u001b[0m \u001b[0mplt\u001b[0m\u001b[1;33m.\u001b[0m\u001b[0mxlabel\u001b[0m\u001b[1;33m(\u001b[0m\u001b[1;34m'Age of Non_survivors on the Titanic'\u001b[0m\u001b[1;33m)\u001b[0m\u001b[1;33m\u001b[0m\u001b[0m\n\u001b[1;32m----> 5\u001b[1;33m \u001b[0mnon_survivor_age_list\u001b[0m \u001b[1;33m=\u001b[0m \u001b[0mlist_data\u001b[0m\u001b[1;33m(\u001b[0m\u001b[0mnon_survivor_data\u001b[0m\u001b[1;33m,\u001b[0m\u001b[1;34m'Age'\u001b[0m\u001b[1;33m)\u001b[0m\u001b[1;33m\u001b[0m\u001b[0m\n\u001b[0m\u001b[0;32m      6\u001b[0m \u001b[0mdescribe_data\u001b[0m\u001b[1;33m(\u001b[0m\u001b[0mnon_survivor_age_list\u001b[0m\u001b[1;33m,\u001b[0m \u001b[1;36m28\u001b[0m\u001b[1;33m,\u001b[0m \u001b[1;34m'hist'\u001b[0m\u001b[1;33m)\u001b[0m\u001b[1;33m\u001b[0m\u001b[0m\n",
      "\u001b[1;31mNameError\u001b[0m: name 'list_data' is not defined"
     ]
    },
    {
     "data": {
      "image/png": "[encoded data removed]",
      "text/plain": [
       "<matplotlib.figure.Figure at 0x224ed502f28>"
      ]
     },
     "metadata": {},
     "output_type": "display_data"
    }
   ],
   "source": [
    "##NON_SURVIVOR DATA BY AGE\n",
    "\n",
    "sns.set(style='darkgrid',font='sans-serif',font_scale=1.2)\n",
    "plt.xlabel('Age of Non_survivors on the Titanic')\n",
    "non_survivor_age_list = list_data(non_survivor_data,'Age')\n",
    "describe_data(non_survivor_age_list, 28, 'hist')"
   ]
  },
  {
   "cell_type": "markdown",
   "metadata": {},
   "source": [
    "There are 93 male passengers compared to 197 female passengers"
   ]
  },
  {
   "cell_type": "code",
   "execution_count": 19,
   "metadata": {},
   "outputs": [
    {
     "name": "stdout",
     "output_type": "stream",
     "text": [
      "Size:  93\n",
      "Mean:  27.2760215054\n",
      "Standard Deviation:  16.4158276718\n",
      "Median:  28.0\n",
      "Minimum:  0.42\n",
      "Maximum:  80.0\n"
     ]
    },
    {
     "data": {
      "image/png": "[encoded data removed]",
      "text/plain": [
       "<matplotlib.figure.Figure at 0x1576302c208>"
      ]
     },
     "metadata": {},
     "output_type": "display_data"
    }
   ],
   "source": [
    "##DESCRPTION OF MALE SURVIVORS\n",
    "\n",
    "describe_data(list_data(male_survivors, 'Age'),28,'hist')"
   ]
  },
  {
   "cell_type": "code",
   "execution_count": 20,
   "metadata": {},
   "outputs": [
    {
     "data": {
      "text/plain": [
       "<Container object of 8 artists>"
      ]
     },
     "execution_count": 20,
     "metadata": {},
     "output_type": "execute_result"
    },
    {
     "data": {
      "image/png": "[encoded data removed]",
      "text/plain": [
       "<matplotlib.figure.Figure at 0x157631567f0>"
      ]
     },
     "metadata": {},
     "output_type": "display_data"
    }
   ],
   "source": [
    "y = [3, 10, 7, 5, 3, 4.5, 6, 8.1]\n",
    "N = len(y)\n",
    "x = range(N)\n",
    "width = 0.25\n",
    "plt.bar(x, y, width, color=\"blue\")"
   ]
  },
  {
   "cell_type": "markdown",
   "metadata": {
    "collapsed": true
   },
   "source": [
    "## Exploring other relationships that affect Survivability"
   ]
  },
  {
   "cell_type": "markdown",
   "metadata": {
    "collapsed": true
   },
   "source": [
    "### Categorizing Data Into Groups"
   ]
  },
  {
   "cell_type": "markdown",
   "metadata": {},
   "source": [
    "AGE AND FARE BY SEX"
   ]
  },
  {
   "cell_type": "code",
   "execution_count": 24,
   "metadata": {},
   "outputs": [
    {
     "ename": "NameError",
     "evalue": "name 'object_list' is not defined",
     "output_type": "error",
     "traceback": [
      "\u001b[1;31m---------------------------------------------------------------------------\u001b[0m",
      "\u001b[1;31mNameError\u001b[0m                                 Traceback (most recent call last)",
      "\u001b[1;32m<ipython-input-24-c894279e1824>\u001b[0m in \u001b[0;36m<module>\u001b[1;34m()\u001b[0m\n\u001b[0;32m      1\u001b[0m \u001b[1;31m##RELATIONSHIP BETWEEN FARE AND AGE IN SURVIVORS\u001b[0m\u001b[1;33m\u001b[0m\u001b[1;33m\u001b[0m\u001b[0m\n\u001b[0;32m      2\u001b[0m \u001b[1;33m\u001b[0m\u001b[0m\n\u001b[1;32m----> 3\u001b[1;33m \u001b[0msurvivor_fare\u001b[0m \u001b[1;33m=\u001b[0m \u001b[0mobject_list\u001b[0m\u001b[1;33m(\u001b[0m\u001b[0msurvivor_data\u001b[0m\u001b[1;33m,\u001b[0m \u001b[1;34m'Age'\u001b[0m\u001b[1;33m,\u001b[0m \u001b[1;34m'Fare'\u001b[0m\u001b[1;33m,\u001b[0m \u001b[1;32mNone\u001b[0m\u001b[1;33m)\u001b[0m\u001b[1;33m\u001b[0m\u001b[0m\n\u001b[0m\u001b[0;32m      4\u001b[0m \u001b[0msurvivor_siblings\u001b[0m \u001b[1;33m=\u001b[0m \u001b[0mobject_list\u001b[0m\u001b[1;33m(\u001b[0m\u001b[0msurvivor_data\u001b[0m\u001b[1;33m,\u001b[0m \u001b[1;34m'Age'\u001b[0m\u001b[1;33m,\u001b[0m \u001b[1;34m'SibSp'\u001b[0m\u001b[1;33m,\u001b[0m \u001b[1;32mNone\u001b[0m\u001b[1;33m)\u001b[0m\u001b[1;33m\u001b[0m\u001b[0m\n\u001b[0;32m      5\u001b[0m \u001b[1;33m\u001b[0m\u001b[0m\n",
      "\u001b[1;31mNameError\u001b[0m: name 'object_list' is not defined"
     ]
    }
   ],
   "source": [
    "##RELATIONSHIP BETWEEN FARE AND AGE IN SURVIVORS\n",
    "\n",
    "survivor_fare = object_list(survivor_data, 'Age', 'Fare', None)\n",
    "survivor_siblings = object_list(survivor_data, 'Age', 'SibSp', None)\n",
    "\n",
    "scaled_sibling = scale_by_factor(survivor_siblings, 50)\n",
    "    \n",
    "scatter(survivor_age_list,survivor_fare, s= scaled_sibling)"
   ]
  },
  {
   "cell_type": "code",
   "execution_count": 25,
   "metadata": {},
   "outputs": [
    {
     "name": "stdout",
     "output_type": "stream",
     "text": [
      "Size:  342\n",
      "Mean:  48.3954076023\n",
      "Standard Deviation:  66.4995628092\n",
      "Median:  26.0\n",
      "Minimum:  0.0\n",
      "Maximum:  512.3292\n"
     ]
    },
    {
     "data": {
      "image/png": "[encoded data removed]",
      "text/plain": [
       "<matplotlib.figure.Figure at 0x15763145f98>"
      ]
     },
     "metadata": {},
     "output_type": "display_data"
    }
   ],
   "source": [
    "survivor_fare_list = list_data(survivor_data,'Fare')\n",
    "describe_data(survivor_fare_list, 28,'hist')"
   ]
  },
  {
   "cell_type": "code",
   "execution_count": 66,
   "metadata": {},
   "outputs": [
    {
     "data": {
      "image/png": "[encoded data removed]",
      "text/plain": [
       "<matplotlib.figure.Figure at 0x15762e6e780>"
      ]
     },
     "metadata": {},
     "output_type": "display_data"
    }
   ],
   "source": [
    "##RELATIONSHIP BETWEEN FARE AND AGE IN WOMEN\n",
    "\n",
    "\n",
    "female_survivor_fare = object_list(female_survivors, 'Age', 'Fare', None)\n",
    "scatter(list_data(female_survivors, 'Age'),female_survivor_fare)\n",
    "plt.show()"
   ]
  },
  {
   "cell_type": "code",
   "execution_count": 63,
   "metadata": {},
   "outputs": [
    {
     "ename": "SyntaxError",
     "evalue": "invalid syntax (<ipython-input-63-a74386e37563>, line 16)",
     "output_type": "error",
     "traceback": [
      "\u001b[1;36m  File \u001b[1;32m\"<ipython-input-63-a74386e37563>\"\u001b[1;36m, line \u001b[1;32m16\u001b[0m\n\u001b[1;33m    Men and women are rated as above 21.\u001b[0m\n\u001b[1;37m                    ^\u001b[0m\n\u001b[1;31mSyntaxError\u001b[0m\u001b[1;31m:\u001b[0m invalid syntax\n"
     ]
    }
   ],
   "source": [
    "for passenger in data:\n",
    "    if passenger['Sex'] == 'male':\n",
    "        males.append(passenger)\n",
    "        if passenger['Age'] > 21 and passenger['Age'] < 50:\n",
    "            man.append(passenger)\n",
    "        else:\n",
    "        females.append(passenger)\n",
    "            if passenger['Age'] > 21 and passenger['Age'] < 50:\n",
    "            woman.append(passenger)\n",
    "    if passenger['Age'] <= 12:\n",
    "        child.append(passenger)\n",
    "    elif passenger['Age'] >= 13 and passenger['Age'] < 21:\n",
    "        adolescent.append(passenger)\n",
    "    elif passenger['Age'] >= 21 and passenger['Age'] < 60:\n",
    "        adolescent.append(passenger)\n",
    " \n",
    "len(list(survivor_data))\n",
    "len(list(non_survivor_data))\n",
    "len(list_data(female_survivors))\n",
    "len(list_data(male_survivors))\n",
    "\n",
    "help(sns.plot)"
   ]
  },
  {
   "cell_type": "code",
   "execution_count": 74,
   "metadata": {
    "collapsed": true
   },
   "outputs": [],
   "source": [
    "titanic_names = titanic_data\n",
    "titanic_by_name = defaultdict(list)\n",
    "family = defaultdict(list)\n",
    "for passenger in titanic_names:\n",
    "    passenger['First Name'] = (passenger['Name']).split(',')[0] \n",
    "    key = passenger['SibSp']\n",
    "    key2 = passenger['Ticket']  \n",
    "    key3 = passenger['First Name'] + ' ' + str(key + 1) + ' ' + key2\n",
    "    for i in range(1,9):\n",
    "        if key == i:\n",
    "            titanic_by_name[key3].append(passenger)"
   ]
  },
  {
   "cell_type": "code",
   "execution_count": 86,
   "metadata": {},
   "outputs": [
    {
     "data": {
      "text/plain": [
       "[OrderedDict([('PassengerId', '160'),\n",
       "              ('Survived', '0'),\n",
       "              ('Pclass', '3'),\n",
       "              ('Name', 'Sage, Master. Thomas Henry'),\n",
       "              ('Sex', 'male'),\n",
       "              ('Age', None),\n",
       "              ('SibSp', 8),\n",
       "              ('Parch', 2),\n",
       "              ('Ticket', 'CA. 2343'),\n",
       "              ('Fare', 69.55),\n",
       "              ('Cabin', None),\n",
       "              ('Embarked', 'S'),\n",
       "              ('Sur', 69.55),\n",
       "              ('First Name', 'Sage')]),\n",
       " OrderedDict([('PassengerId', '181'),\n",
       "              ('Survived', '0'),\n",
       "              ('Pclass', '3'),\n",
       "              ('Name', 'Sage, Miss. Constance Gladys'),\n",
       "              ('Sex', 'female'),\n",
       "              ('Age', None),\n",
       "              ('SibSp', 8),\n",
       "              ('Parch', 2),\n",
       "              ('Ticket', 'CA. 2343'),\n",
       "              ('Fare', 69.55),\n",
       "              ('Cabin', None),\n",
       "              ('Embarked', 'S'),\n",
       "              ('Sur', 69.55),\n",
       "              ('First Name', 'Sage')]),\n",
       " OrderedDict([('PassengerId', '202'),\n",
       "              ('Survived', '0'),\n",
       "              ('Pclass', '3'),\n",
       "              ('Name', 'Sage, Mr. Frederick'),\n",
       "              ('Sex', 'male'),\n",
       "              ('Age', None),\n",
       "              ('SibSp', 8),\n",
       "              ('Parch', 2),\n",
       "              ('Ticket', 'CA. 2343'),\n",
       "              ('Fare', 69.55),\n",
       "              ('Cabin', None),\n",
       "              ('Embarked', 'S'),\n",
       "              ('Sur', 69.55),\n",
       "              ('First Name', 'Sage')]),\n",
       " OrderedDict([('PassengerId', '325'),\n",
       "              ('Survived', '0'),\n",
       "              ('Pclass', '3'),\n",
       "              ('Name', 'Sage, Mr. George John Jr'),\n",
       "              ('Sex', 'male'),\n",
       "              ('Age', None),\n",
       "              ('SibSp', 8),\n",
       "              ('Parch', 2),\n",
       "              ('Ticket', 'CA. 2343'),\n",
       "              ('Fare', 69.55),\n",
       "              ('Cabin', None),\n",
       "              ('Embarked', 'S'),\n",
       "              ('Sur', 69.55),\n",
       "              ('First Name', 'Sage')]),\n",
       " OrderedDict([('PassengerId', '793'),\n",
       "              ('Survived', '0'),\n",
       "              ('Pclass', '3'),\n",
       "              ('Name', 'Sage, Miss. Stella Anna'),\n",
       "              ('Sex', 'female'),\n",
       "              ('Age', None),\n",
       "              ('SibSp', 8),\n",
       "              ('Parch', 2),\n",
       "              ('Ticket', 'CA. 2343'),\n",
       "              ('Fare', 69.55),\n",
       "              ('Cabin', None),\n",
       "              ('Embarked', 'S'),\n",
       "              ('Sur', 69.55),\n",
       "              ('First Name', 'Sage')]),\n",
       " OrderedDict([('PassengerId', '847'),\n",
       "              ('Survived', '0'),\n",
       "              ('Pclass', '3'),\n",
       "              ('Name', 'Sage, Mr. Douglas Bullen'),\n",
       "              ('Sex', 'male'),\n",
       "              ('Age', None),\n",
       "              ('SibSp', 8),\n",
       "              ('Parch', 2),\n",
       "              ('Ticket', 'CA. 2343'),\n",
       "              ('Fare', 69.55),\n",
       "              ('Cabin', None),\n",
       "              ('Embarked', 'S'),\n",
       "              ('Sur', 69.55),\n",
       "              ('First Name', 'Sage')]),\n",
       " OrderedDict([('PassengerId', '864'),\n",
       "              ('Survived', '0'),\n",
       "              ('Pclass', '3'),\n",
       "              ('Name', 'Sage, Miss. Dorothy Edith \"Dolly\"'),\n",
       "              ('Sex', 'female'),\n",
       "              ('Age', None),\n",
       "              ('SibSp', 8),\n",
       "              ('Parch', 2),\n",
       "              ('Ticket', 'CA. 2343'),\n",
       "              ('Fare', 69.55),\n",
       "              ('Cabin', None),\n",
       "              ('Embarked', 'S'),\n",
       "              ('Sur', 69.55),\n",
       "              ('First Name', 'Sage')])]"
      ]
     },
     "execution_count": 86,
     "metadata": {},
     "output_type": "execute_result"
    }
   ],
   "source": [
    "titanic_by_ticket = defaultdict(list)\n",
    "for passenger in titanic_names:\n",
    "    if passenger['Embarked'] == 'S':\n",
    "        key = passenger['Ticket']\n",
    "        titanic_by_ticket[key].append(passenger)\n",
    "    \n",
    "titanic_by_ticket['CA. 2343']"
   ]
  },
  {
   "cell_type": "code",
   "execution_count": 90,
   "metadata": {},
   "outputs": [
    {
     "data": {
      "text/plain": [
       "{'110152': 3,\n",
       " '110413': 3,\n",
       " '110465': 2,\n",
       " '110564': 1,\n",
       " '111240': 1,\n",
       " '111320': 1,\n",
       " '111427': 1,\n",
       " '111428': 1,\n",
       " '112050': 1,\n",
       " '112052': 1,\n",
       " '112053': 1,\n",
       " '112058': 1,\n",
       " '112059': 1,\n",
       " '113028': 1,\n",
       " '113043': 1,\n",
       " '113050': 1,\n",
       " '113055': 1,\n",
       " '113056': 1,\n",
       " '113059': 1,\n",
       " '113501': 1,\n",
       " '113505': 2,\n",
       " '113510': 1,\n",
       " '113514': 1,\n",
       " '113760': 4,\n",
       " '113767': 1,\n",
       " '113773': 1,\n",
       " '113776': 2,\n",
       " '113781': 4,\n",
       " '113783': 1,\n",
       " '113784': 1,\n",
       " '113786': 1,\n",
       " '113787': 1,\n",
       " '113788': 1,\n",
       " '113789': 2,\n",
       " '113792': 1,\n",
       " '113794': 1,\n",
       " '113796': 1,\n",
       " '113798': 1,\n",
       " '113800': 1,\n",
       " '113803': 2,\n",
       " '113804': 1,\n",
       " '113806': 2,\n",
       " '113807': 1,\n",
       " '11668': 2,\n",
       " '11751': 2,\n",
       " '11752': 1,\n",
       " '11753': 1,\n",
       " '11769': 1,\n",
       " '12233': 1,\n",
       " '12749': 2,\n",
       " '13502': 3,\n",
       " '13507': 2,\n",
       " '13509': 1,\n",
       " '14973': 1,\n",
       " '1601': 7,\n",
       " '16988': 1,\n",
       " '17463': 1,\n",
       " '17464': 1,\n",
       " '17465': 1,\n",
       " '17466': 1,\n",
       " '17474': 2,\n",
       " '19877': 2,\n",
       " '19943': 2,\n",
       " '19947': 1,\n",
       " '19950': 4,\n",
       " '19952': 1,\n",
       " '19972': 1,\n",
       " '19988': 1,\n",
       " '19996': 2,\n",
       " '2003': 1,\n",
       " '211536': 1,\n",
       " '21440': 1,\n",
       " '218629': 1,\n",
       " '220367': 1,\n",
       " '220845': 2,\n",
       " '2223': 1,\n",
       " '223596': 1,\n",
       " '226875': 1,\n",
       " '228414': 1,\n",
       " '229236': 1,\n",
       " '230080': 3,\n",
       " '230136': 2,\n",
       " '230433': 2,\n",
       " '230434': 1,\n",
       " '231919': 2,\n",
       " '231945': 1,\n",
       " '233639': 1,\n",
       " '233866': 1,\n",
       " '234360': 1,\n",
       " '234604': 1,\n",
       " '234686': 1,\n",
       " '236171': 1,\n",
       " '236852': 1,\n",
       " '236853': 1,\n",
       " '237442': 1,\n",
       " '237565': 1,\n",
       " '237668': 1,\n",
       " '237671': 1,\n",
       " '237789': 1,\n",
       " '237798': 1,\n",
       " '239853': 3,\n",
       " '239854': 1,\n",
       " '239855': 1,\n",
       " '239856': 1,\n",
       " '239865': 2,\n",
       " '240929': 1,\n",
       " '24160': 3,\n",
       " '243847': 2,\n",
       " '243880': 1,\n",
       " '244252': 2,\n",
       " '244270': 1,\n",
       " '244278': 1,\n",
       " '244310': 1,\n",
       " '244358': 1,\n",
       " '244361': 1,\n",
       " '244367': 2,\n",
       " '244373': 1,\n",
       " '248698': 1,\n",
       " '248706': 1,\n",
       " '248723': 1,\n",
       " '248727': 3,\n",
       " '248731': 1,\n",
       " '248733': 1,\n",
       " '248738': 2,\n",
       " '248740': 1,\n",
       " '248747': 1,\n",
       " '250643': 1,\n",
       " '250644': 2,\n",
       " '250646': 1,\n",
       " '250647': 2,\n",
       " '250648': 1,\n",
       " '250649': 2,\n",
       " '250651': 1,\n",
       " '250652': 1,\n",
       " '250653': 1,\n",
       " '250655': 2,\n",
       " '26360': 2,\n",
       " '26707': 1,\n",
       " '27042': 1,\n",
       " '27267': 1,\n",
       " '27849': 1,\n",
       " '28134': 1,\n",
       " '28206': 1,\n",
       " '28213': 1,\n",
       " '28220': 1,\n",
       " '28228': 1,\n",
       " '28403': 2,\n",
       " '28424': 1,\n",
       " '28425': 1,\n",
       " '28551': 1,\n",
       " '28664': 1,\n",
       " '28665': 1,\n",
       " '29011': 1,\n",
       " '2908': 2,\n",
       " '29103': 1,\n",
       " '29104': 1,\n",
       " '29105': 1,\n",
       " '29106': 3,\n",
       " '29108': 1,\n",
       " '2926': 1,\n",
       " '29750': 2,\n",
       " '29751': 1,\n",
       " '3101264': 1,\n",
       " '3101265': 1,\n",
       " '3101267': 1,\n",
       " '3101276': 1,\n",
       " '3101277': 1,\n",
       " '3101278': 2,\n",
       " '3101281': 1,\n",
       " '3101295': 6,\n",
       " '3101296': 1,\n",
       " '3101298': 1,\n",
       " '31027': 2,\n",
       " '31028': 1,\n",
       " '312991': 1,\n",
       " '312992': 1,\n",
       " '312993': 1,\n",
       " '31418': 1,\n",
       " '315037': 1,\n",
       " '315082': 1,\n",
       " '315084': 1,\n",
       " '315086': 1,\n",
       " '315088': 1,\n",
       " '315089': 1,\n",
       " '315090': 1,\n",
       " '315093': 1,\n",
       " '315094': 1,\n",
       " '315096': 1,\n",
       " '315097': 1,\n",
       " '315098': 1,\n",
       " '315151': 1,\n",
       " '315153': 1,\n",
       " '323592': 1,\n",
       " '323951': 1,\n",
       " '324669': 1,\n",
       " '33638': 1,\n",
       " '341826': 1,\n",
       " '34218': 1,\n",
       " '342826': 1,\n",
       " '343095': 1,\n",
       " '343120': 1,\n",
       " '343275': 1,\n",
       " '343276': 1,\n",
       " '345364': 1,\n",
       " '345572': 1,\n",
       " '345763': 1,\n",
       " '345764': 2,\n",
       " '345765': 1,\n",
       " '345767': 1,\n",
       " '345769': 1,\n",
       " '345770': 1,\n",
       " '345773': 3,\n",
       " '345774': 1,\n",
       " '345777': 1,\n",
       " '345778': 1,\n",
       " '345779': 1,\n",
       " '345780': 1,\n",
       " '345781': 1,\n",
       " '345783': 1,\n",
       " '3460': 1,\n",
       " '347054': 2,\n",
       " '347060': 1,\n",
       " '347061': 1,\n",
       " '347062': 1,\n",
       " '347063': 1,\n",
       " '347064': 1,\n",
       " '347067': 1,\n",
       " '347068': 1,\n",
       " '347069': 1,\n",
       " '347071': 1,\n",
       " '347073': 1,\n",
       " '347074': 1,\n",
       " '347076': 1,\n",
       " '347077': 4,\n",
       " '347078': 1,\n",
       " '347080': 2,\n",
       " '347081': 1,\n",
       " '347082': 7,\n",
       " '347083': 1,\n",
       " '347085': 1,\n",
       " '347087': 1,\n",
       " '347088': 6,\n",
       " '347089': 1,\n",
       " '3474': 1,\n",
       " '347464': 1,\n",
       " '347466': 1,\n",
       " '347468': 1,\n",
       " '347470': 1,\n",
       " '347742': 3,\n",
       " '347743': 1,\n",
       " '348121': 1,\n",
       " '348123': 1,\n",
       " '348124': 1,\n",
       " '349201': 1,\n",
       " '349203': 1,\n",
       " '349204': 1,\n",
       " '349205': 1,\n",
       " '349206': 1,\n",
       " '349207': 1,\n",
       " '349208': 1,\n",
       " '349209': 1,\n",
       " '349210': 1,\n",
       " '349212': 1,\n",
       " '349214': 1,\n",
       " '349215': 1,\n",
       " '349216': 1,\n",
       " '349217': 1,\n",
       " '349218': 1,\n",
       " '349219': 1,\n",
       " '349221': 1,\n",
       " '349222': 1,\n",
       " '349223': 1,\n",
       " '349224': 1,\n",
       " '349225': 1,\n",
       " '349227': 1,\n",
       " '349228': 1,\n",
       " '349231': 1,\n",
       " '349233': 1,\n",
       " '349234': 1,\n",
       " '349236': 1,\n",
       " '349237': 2,\n",
       " '349242': 1,\n",
       " '349243': 1,\n",
       " '349244': 1,\n",
       " '349245': 1,\n",
       " '349246': 1,\n",
       " '349247': 1,\n",
       " '349248': 1,\n",
       " '349249': 1,\n",
       " '349251': 1,\n",
       " '349252': 1,\n",
       " '349257': 1,\n",
       " '349909': 4,\n",
       " '349910': 1,\n",
       " '349912': 1,\n",
       " '350025': 1,\n",
       " '350026': 1,\n",
       " '350029': 1,\n",
       " '350034': 1,\n",
       " '350035': 1,\n",
       " '350036': 1,\n",
       " '350042': 1,\n",
       " '350043': 1,\n",
       " '350046': 1,\n",
       " '350047': 1,\n",
       " '350048': 1,\n",
       " '350050': 1,\n",
       " '350052': 1,\n",
       " '350060': 1,\n",
       " '350404': 1,\n",
       " '350406': 1,\n",
       " '350407': 1,\n",
       " '350417': 1,\n",
       " '35281': 2,\n",
       " '358585': 2,\n",
       " '362316': 1,\n",
       " '363291': 3,\n",
       " '363294': 1,\n",
       " '363592': 1,\n",
       " '364498': 1,\n",
       " '364499': 1,\n",
       " '364500': 1,\n",
       " '364506': 1,\n",
       " '364511': 1,\n",
       " '364512': 1,\n",
       " '364516': 2,\n",
       " '36928': 2,\n",
       " '36963': 1,\n",
       " '36967': 1,\n",
       " '36973': 2,\n",
       " '370129': 2,\n",
       " '371362': 1,\n",
       " '373450': 1,\n",
       " '374746': 1,\n",
       " '374887': 1,\n",
       " '374910': 1,\n",
       " '376564': 2,\n",
       " '376566': 1,\n",
       " '386525': 1,\n",
       " '392091': 1,\n",
       " '392092': 1,\n",
       " '392096': 2,\n",
       " '4133': 4,\n",
       " '4134': 1,\n",
       " '4135': 1,\n",
       " '4136': 1,\n",
       " '4137': 1,\n",
       " '4138': 1,\n",
       " '4579': 1,\n",
       " '54636': 2,\n",
       " '5727': 1,\n",
       " '65303': 1,\n",
       " '65304': 1,\n",
       " '65306': 1,\n",
       " '6563': 1,\n",
       " '693': 1,\n",
       " '695': 1,\n",
       " '7267': 1,\n",
       " '7534': 2,\n",
       " '7540': 1,\n",
       " '7545': 1,\n",
       " '7546': 1,\n",
       " '7552': 1,\n",
       " '7553': 1,\n",
       " '7598': 1,\n",
       " '8471': 1,\n",
       " '8475': 1,\n",
       " 'A./5. 2152': 1,\n",
       " 'A./5. 3235': 1,\n",
       " 'A.5. 11206': 1,\n",
       " 'A.5. 18509': 1,\n",
       " 'A/4 45380': 1,\n",
       " 'A/4 48871': 2,\n",
       " 'A/4. 20589': 1,\n",
       " 'A/4. 34244': 1,\n",
       " 'A/4. 39886': 1,\n",
       " 'A/5 21171': 1,\n",
       " 'A/5 21172': 1,\n",
       " 'A/5 21173': 1,\n",
       " 'A/5 21174': 1,\n",
       " 'A/5 2466': 1,\n",
       " 'A/5 2817': 1,\n",
       " 'A/5 3536': 1,\n",
       " 'A/5 3540': 1,\n",
       " 'A/5 3594': 1,\n",
       " 'A/5 3902': 1,\n",
       " 'A/5. 10482': 1,\n",
       " 'A/5. 2151': 1,\n",
       " 'A/5. 3336': 2,\n",
       " 'A/5. 3337': 1,\n",
       " 'A/5. 851': 1,\n",
       " 'A/S 2816': 1,\n",
       " 'A4. 54510': 1,\n",
       " 'C 17369': 1,\n",
       " 'C 4001': 1,\n",
       " 'C 7075': 1,\n",
       " 'C 7076': 1,\n",
       " 'C 7077': 1,\n",
       " 'C.A. 17248': 1,\n",
       " 'C.A. 18723': 1,\n",
       " 'C.A. 2315': 2,\n",
       " 'C.A. 24579': 1,\n",
       " 'C.A. 24580': 1,\n",
       " 'C.A. 2673': 2,\n",
       " 'C.A. 29178': 1,\n",
       " 'C.A. 29395': 1,\n",
       " 'C.A. 29566': 1,\n",
       " 'C.A. 31026': 1,\n",
       " 'C.A. 31921': 3,\n",
       " 'C.A. 33111': 1,\n",
       " 'C.A. 33112': 2,\n",
       " 'C.A. 33595': 1,\n",
       " 'C.A. 34260': 1,\n",
       " 'C.A. 34651': 3,\n",
       " 'C.A. 37671': 2,\n",
       " 'C.A. 5547': 1,\n",
       " 'C.A. 6212': 1,\n",
       " 'C.A./SOTON 34068': 1,\n",
       " 'CA 2144': 6,\n",
       " 'CA. 2314': 1,\n",
       " 'CA. 2343': 7,\n",
       " 'F.C. 12750': 1,\n",
       " 'F.C.C. 13528': 1,\n",
       " 'F.C.C. 13529': 3,\n",
       " 'F.C.C. 13531': 1,\n",
       " 'Fa 265302': 1,\n",
       " 'LINE': 4,\n",
       " 'PC 17318': 1,\n",
       " 'PC 17473': 1,\n",
       " 'PC 17474': 1,\n",
       " 'PC 17475': 1,\n",
       " 'PC 17476': 1,\n",
       " 'PC 17483': 1,\n",
       " 'PC 17582': 3,\n",
       " 'PC 17590': 1,\n",
       " 'PC 17592': 1,\n",
       " 'PC 17611': 2,\n",
       " 'PC 17760': 1,\n",
       " 'PP 4348': 1,\n",
       " 'PP 9549': 2,\n",
       " 'S.C./A.4. 23567': 1,\n",
       " 'S.O./P.P. 3': 2,\n",
       " 'S.O./P.P. 751': 1,\n",
       " 'S.O.C. 14879': 5,\n",
       " 'S.O.P. 1166': 1,\n",
       " 'S.P. 3464': 1,\n",
       " 'S.W./PP 752': 1,\n",
       " 'SC/AH 29037': 1,\n",
       " 'SC/AH 3085': 1,\n",
       " 'SCO/W 1585': 1,\n",
       " 'SO/C 14885': 1,\n",
       " 'SOTON/O.Q. 3101305': 1,\n",
       " 'SOTON/O.Q. 3101306': 1,\n",
       " 'SOTON/O.Q. 3101307': 1,\n",
       " 'SOTON/O.Q. 3101310': 1,\n",
       " 'SOTON/O.Q. 3101311': 1,\n",
       " 'SOTON/O.Q. 3101312': 1,\n",
       " 'SOTON/O.Q. 392078': 1,\n",
       " 'SOTON/O.Q. 392087': 1,\n",
       " 'SOTON/O2 3101272': 1,\n",
       " 'SOTON/O2 3101287': 1,\n",
       " 'SOTON/OQ 3101316': 1,\n",
       " 'SOTON/OQ 3101317': 1,\n",
       " 'SOTON/OQ 392076': 1,\n",
       " 'SOTON/OQ 392082': 1,\n",
       " 'SOTON/OQ 392086': 1,\n",
       " 'SOTON/OQ 392089': 1,\n",
       " 'SOTON/OQ 392090': 1,\n",
       " 'STON/O 2. 3101269': 1,\n",
       " 'STON/O 2. 3101273': 1,\n",
       " 'STON/O 2. 3101274': 1,\n",
       " 'STON/O 2. 3101275': 1,\n",
       " 'STON/O 2. 3101280': 1,\n",
       " 'STON/O 2. 3101285': 1,\n",
       " 'STON/O 2. 3101286': 1,\n",
       " 'STON/O 2. 3101288': 1,\n",
       " 'STON/O 2. 3101289': 1,\n",
       " 'STON/O 2. 3101292': 1,\n",
       " 'STON/O 2. 3101293': 1,\n",
       " 'STON/O 2. 3101294': 1,\n",
       " 'STON/O2. 3101271': 1,\n",
       " 'STON/O2. 3101279': 2,\n",
       " 'STON/O2. 3101282': 1,\n",
       " 'STON/O2. 3101283': 1,\n",
       " 'STON/O2. 3101290': 1,\n",
       " 'SW/PP 751': 1,\n",
       " 'W./C. 14258': 1,\n",
       " 'W./C. 14263': 1,\n",
       " 'W./C. 6607': 2,\n",
       " 'W./C. 6608': 4,\n",
       " 'W./C. 6609': 1,\n",
       " 'W.E.P. 5734': 1,\n",
       " 'W/C 14208': 1,\n",
       " 'WE/P 5735': 2}"
      ]
     },
     "execution_count": 90,
     "metadata": {},
     "output_type": "execute_result"
    }
   ],
   "source": [
    "sum_grouped_items(titanic_by_name)\n",
    "sum_grouped_items(titanic_by_ticket)"
   ]
  },
  {
   "cell_type": "code",
   "execution_count": 43,
   "metadata": {},
   "outputs": [
    {
     "name": "stdout",
     "output_type": "stream",
     "text": [
      "OrderedDict([('PassengerId', '32'), ('Survived', '1'), ('Pclass', '1'), ('Name', 'Spencer, Mrs. William Augustus (Marie Eugenie)'), ('Sex', 'female'), ('Age', None), ('SibSp', 1), ('Parch', 0), ('Ticket', 'PC 17569'), ('Fare', 146.5208), ('Cabin', 'B78'), ('Embarked', 'C'), ('Sur', 146.5208), ('First Name', 'Spencer')])\n"
     ]
    }
   ],
   "source": [
    "married = []\n",
    "for person in titanic_data:\n",
    "    if person['Cabin'] == 'B78':\n",
    "        print(person)"
   ]
  },
  {
   "cell_type": "code",
   "execution_count": 32,
   "metadata": {
    "collapsed": true
   },
   "outputs": [],
   "source": [
    "married = []\n",
    "for person in titanic_data:\n",
    "    if person['Sex'] == 'female':\n",
    "        if 'Mrs' in person['Name']:\n",
    "            married.append(person)\n",
    "            \n",
    "married"
   ]
  },
  {
   "cell_type": "code",
   "execution_count": 60,
   "metadata": {},
   "outputs": [
    {
     "ename": "ModuleNotFoundError",
     "evalue": "No module named 'plotly'",
     "output_type": "error",
     "traceback": [
      "\u001b[1;31m---------------------------------------------------------------------------\u001b[0m",
      "\u001b[1;31mModuleNotFoundError\u001b[0m                       Traceback (most recent call last)",
      "\u001b[1;32m<ipython-input-60-263d89bc10a5>\u001b[0m in \u001b[0;36m<module>\u001b[1;34m()\u001b[0m\n\u001b[1;32m----> 1\u001b[1;33m \u001b[1;32mimport\u001b[0m \u001b[0mplotly\u001b[0m\u001b[1;33m.\u001b[0m\u001b[0mplotly\u001b[0m \u001b[1;32mas\u001b[0m \u001b[0mpy\u001b[0m\u001b[1;33m\u001b[0m\u001b[0m\n\u001b[0m\u001b[0;32m      2\u001b[0m \u001b[1;32mimport\u001b[0m \u001b[0mplotly\u001b[0m\u001b[1;33m.\u001b[0m\u001b[0mtools\u001b[0m \u001b[1;32mas\u001b[0m \u001b[0mtls\u001b[0m\u001b[1;33m\u001b[0m\u001b[0m\n\u001b[0;32m      3\u001b[0m \u001b[1;31m# Learn about API authentication here: https://plot.ly/python/getting-started\u001b[0m\u001b[1;33m\u001b[0m\u001b[1;33m\u001b[0m\u001b[0m\n\u001b[0;32m      4\u001b[0m \u001b[1;31m# Find your api_key here: https://plot.ly/settings/api\u001b[0m\u001b[1;33m\u001b[0m\u001b[1;33m\u001b[0m\u001b[0m\n\u001b[0;32m      5\u001b[0m \u001b[1;33m\u001b[0m\u001b[0m\n",
      "\u001b[1;31mModuleNotFoundError\u001b[0m: No module named 'plotly'"
     ]
    }
   ],
   "source": []
  },
  {
   "cell_type": "code",
   "execution_count": 13,
   "metadata": {},
   "outputs": [
    {
     "data": {
      "text/plain": [
       "<matplotlib.axes._subplots.AxesSubplot at 0x224eed283c8>"
      ]
     },
     "execution_count": 13,
     "metadata": {},
     "output_type": "execute_result"
    },
    {
     "data": {
      "image/png": "[encoded data removed]",
      "text/plain": [
       "<matplotlib.figure.Figure at 0x224ee952c18>"
      ]
     },
     "metadata": {},
     "output_type": "display_data"
    }
   ],
   "source": [
    "sns.boxplot(x=\"Survived\", y=\"Fare\", data=titanic_data)"
   ]
  },
  {
   "cell_type": "code",
   "execution_count": 19,
   "metadata": {},
   "outputs": [
    {
     "data": {
      "text/plain": [
       "<matplotlib.axes._subplots.AxesSubplot at 0x224eefe4ef0>"
      ]
     },
     "execution_count": 19,
     "metadata": {},
     "output_type": "execute_result"
    },
    {
     "data": {
      "image/png": "[encoded data removed]",
      "text/plain": [
       "<matplotlib.figure.Figure at 0x224eeec4be0>"
      ]
     },
     "metadata": {},
     "output_type": "display_data"
    }
   ],
   "source": [
    "sns.barplot(x=\"Survived\", y=\"Sex\", data=titanic_data)"
   ]
  },
  {
   "cell_type": "markdown",
   "metadata": {},
   "source": [
    "##### The cozy thing to note here is that those that paid fairly outragous amounts on Fares seemed to have survived the sinking of the titanic"
   ]
  },
  {
   "cell_type": "markdown",
   "metadata": {},
   "source": [
    "# Some Observations"
   ]
  },
  {
   "cell_type": "markdown",
   "metadata": {},
   "source": [
    "### The Tragedy Of The Titanic\n",
    "\n",
    "While investigating survivability against the number of Sibling Spouses('SibSp'), I ran into a peculair phenomenon.\n",
    "\n",
    "It seemed that people with SibSp=8 seemed to fair terrribly badly. \n",
    "\n",
    "\n",
    "What's even more peculiar is that these people were missing also missing all Age data and Cabin Data which might have made them candidates for Data removal in some analysis. \n",
    "\n",
    "Further investigation led to the conclusion that these individuals were actually one family. It turns out that they share the same first name (as well as family name). 'Sage' \n",
    "\n",
    "More effort to discover more about this family and their circumstances however was limited by the amount of data."
   ]
  },
  {
   "cell_type": "code",
   "execution_count": 40,
   "metadata": {},
   "outputs": [
    {
     "data": {
      "image/png": "[encoded data removed]",
      "text/plain": [
       "<matplotlib.figure.Figure at 0x224ee956ac8>"
      ]
     },
     "metadata": {},
     "output_type": "display_data"
    }
   ],
   "source": [
    "sns.boxplot(x=\"Embarked\", y=\"Fare\", hue=\"Survived\",data=titanic_data);"
   ]
  },
  {
   "cell_type": "code",
   "execution_count": 41,
   "metadata": {},
   "outputs": [
    {
     "data": {
      "text/html": [
       "<div>\n",
       "<style>\n",
       "    .dataframe thead tr:only-child th {\n",
       "        text-align: right;\n",
       "    }\n",
       "\n",
       "    .dataframe thead th {\n",
       "        text-align: left;\n",
       "    }\n",
       "\n",
       "    .dataframe tbody tr th {\n",
       "        vertical-align: top;\n",
       "    }\n",
       "</style>\n",
       "<table border=\"1\" class=\"dataframe\">\n",
       "  <thead>\n",
       "    <tr style=\"text-align: right;\">\n",
       "      <th></th>\n",
       "      <th>PassengerId</th>\n",
       "      <th>Survived</th>\n",
       "      <th>Pclass</th>\n",
       "      <th>Name</th>\n",
       "      <th>Sex</th>\n",
       "      <th>Age</th>\n",
       "      <th>SibSp</th>\n",
       "      <th>Parch</th>\n",
       "      <th>Ticket</th>\n",
       "      <th>Fare</th>\n",
       "      <th>Cabin</th>\n",
       "      <th>Embarked</th>\n",
       "      <th>Family Name</th>\n",
       "      <th>Family Key</th>\n",
       "    </tr>\n",
       "  </thead>\n",
       "  <tbody>\n",
       "    <tr>\n",
       "      <th>159</th>\n",
       "      <td>160</td>\n",
       "      <td>0</td>\n",
       "      <td>3</td>\n",
       "      <td>Sage, Master. Thomas Henry</td>\n",
       "      <td>male</td>\n",
       "      <td>NaN</td>\n",
       "      <td>8</td>\n",
       "      <td>2</td>\n",
       "      <td>CA. 2343</td>\n",
       "      <td>69.55</td>\n",
       "      <td>NaN</td>\n",
       "      <td>S</td>\n",
       "      <td>Sage</td>\n",
       "      <td>SageCA. 2343</td>\n",
       "    </tr>\n",
       "    <tr>\n",
       "      <th>180</th>\n",
       "      <td>181</td>\n",
       "      <td>0</td>\n",
       "      <td>3</td>\n",
       "      <td>Sage, Miss. Constance Gladys</td>\n",
       "      <td>female</td>\n",
       "      <td>NaN</td>\n",
       "      <td>8</td>\n",
       "      <td>2</td>\n",
       "      <td>CA. 2343</td>\n",
       "      <td>69.55</td>\n",
       "      <td>NaN</td>\n",
       "      <td>S</td>\n",
       "      <td>Sage</td>\n",
       "      <td>SageCA. 2343</td>\n",
       "    </tr>\n",
       "    <tr>\n",
       "      <th>201</th>\n",
       "      <td>202</td>\n",
       "      <td>0</td>\n",
       "      <td>3</td>\n",
       "      <td>Sage, Mr. Frederick</td>\n",
       "      <td>male</td>\n",
       "      <td>NaN</td>\n",
       "      <td>8</td>\n",
       "      <td>2</td>\n",
       "      <td>CA. 2343</td>\n",
       "      <td>69.55</td>\n",
       "      <td>NaN</td>\n",
       "      <td>S</td>\n",
       "      <td>Sage</td>\n",
       "      <td>SageCA. 2343</td>\n",
       "    </tr>\n",
       "    <tr>\n",
       "      <th>324</th>\n",
       "      <td>325</td>\n",
       "      <td>0</td>\n",
       "      <td>3</td>\n",
       "      <td>Sage, Mr. George John Jr</td>\n",
       "      <td>male</td>\n",
       "      <td>NaN</td>\n",
       "      <td>8</td>\n",
       "      <td>2</td>\n",
       "      <td>CA. 2343</td>\n",
       "      <td>69.55</td>\n",
       "      <td>NaN</td>\n",
       "      <td>S</td>\n",
       "      <td>Sage</td>\n",
       "      <td>SageCA. 2343</td>\n",
       "    </tr>\n",
       "    <tr>\n",
       "      <th>792</th>\n",
       "      <td>793</td>\n",
       "      <td>0</td>\n",
       "      <td>3</td>\n",
       "      <td>Sage, Miss. Stella Anna</td>\n",
       "      <td>female</td>\n",
       "      <td>NaN</td>\n",
       "      <td>8</td>\n",
       "      <td>2</td>\n",
       "      <td>CA. 2343</td>\n",
       "      <td>69.55</td>\n",
       "      <td>NaN</td>\n",
       "      <td>S</td>\n",
       "      <td>Sage</td>\n",
       "      <td>SageCA. 2343</td>\n",
       "    </tr>\n",
       "    <tr>\n",
       "      <th>846</th>\n",
       "      <td>847</td>\n",
       "      <td>0</td>\n",
       "      <td>3</td>\n",
       "      <td>Sage, Mr. Douglas Bullen</td>\n",
       "      <td>male</td>\n",
       "      <td>NaN</td>\n",
       "      <td>8</td>\n",
       "      <td>2</td>\n",
       "      <td>CA. 2343</td>\n",
       "      <td>69.55</td>\n",
       "      <td>NaN</td>\n",
       "      <td>S</td>\n",
       "      <td>Sage</td>\n",
       "      <td>SageCA. 2343</td>\n",
       "    </tr>\n",
       "    <tr>\n",
       "      <th>863</th>\n",
       "      <td>864</td>\n",
       "      <td>0</td>\n",
       "      <td>3</td>\n",
       "      <td>Sage, Miss. Dorothy Edith \"Dolly\"</td>\n",
       "      <td>female</td>\n",
       "      <td>NaN</td>\n",
       "      <td>8</td>\n",
       "      <td>2</td>\n",
       "      <td>CA. 2343</td>\n",
       "      <td>69.55</td>\n",
       "      <td>NaN</td>\n",
       "      <td>S</td>\n",
       "      <td>Sage</td>\n",
       "      <td>SageCA. 2343</td>\n",
       "    </tr>\n",
       "  </tbody>\n",
       "</table>\n",
       "</div>"
      ],
      "text/plain": [
       "     PassengerId  Survived  Pclass                               Name     Sex  \\\n",
       "159          160         0       3         Sage, Master. Thomas Henry    male   \n",
       "180          181         0       3       Sage, Miss. Constance Gladys  female   \n",
       "201          202         0       3                Sage, Mr. Frederick    male   \n",
       "324          325         0       3           Sage, Mr. George John Jr    male   \n",
       "792          793         0       3            Sage, Miss. Stella Anna  female   \n",
       "846          847         0       3           Sage, Mr. Douglas Bullen    male   \n",
       "863          864         0       3  Sage, Miss. Dorothy Edith \"Dolly\"  female   \n",
       "\n",
       "     Age  SibSp  Parch    Ticket   Fare Cabin Embarked Family Name  \\\n",
       "159  NaN      8      2  CA. 2343  69.55   NaN        S        Sage   \n",
       "180  NaN      8      2  CA. 2343  69.55   NaN        S        Sage   \n",
       "201  NaN      8      2  CA. 2343  69.55   NaN        S        Sage   \n",
       "324  NaN      8      2  CA. 2343  69.55   NaN        S        Sage   \n",
       "792  NaN      8      2  CA. 2343  69.55   NaN        S        Sage   \n",
       "846  NaN      8      2  CA. 2343  69.55   NaN        S        Sage   \n",
       "863  NaN      8      2  CA. 2343  69.55   NaN        S        Sage   \n",
       "\n",
       "       Family Key  \n",
       "159  SageCA. 2343  \n",
       "180  SageCA. 2343  \n",
       "201  SageCA. 2343  \n",
       "324  SageCA. 2343  \n",
       "792  SageCA. 2343  \n",
       "846  SageCA. 2343  \n",
       "863  SageCA. 2343  "
      ]
     },
     "execution_count": 41,
     "metadata": {},
     "output_type": "execute_result"
    }
   ],
   "source": [
    "titanic_df[titanic_df['Family Name'] == 'Sage']"
   ]
  },
  {
   "cell_type": "code",
   "execution_count": 370,
   "metadata": {},
   "outputs": [
    {
     "data": {
      "text/html": [
       "<div>\n",
       "<style>\n",
       "    .dataframe thead tr:only-child th {\n",
       "        text-align: right;\n",
       "    }\n",
       "\n",
       "    .dataframe thead th {\n",
       "        text-align: left;\n",
       "    }\n",
       "\n",
       "    .dataframe tbody tr th {\n",
       "        vertical-align: top;\n",
       "    }\n",
       "</style>\n",
       "<table border=\"1\" class=\"dataframe\">\n",
       "  <thead>\n",
       "    <tr style=\"text-align: right;\">\n",
       "      <th></th>\n",
       "      <th>PassengerId</th>\n",
       "      <th>Survived</th>\n",
       "      <th>Pclass</th>\n",
       "      <th>Name</th>\n",
       "      <th>Sex</th>\n",
       "      <th>Age</th>\n",
       "      <th>SibSp</th>\n",
       "      <th>Parch</th>\n",
       "      <th>Ticket</th>\n",
       "      <th>Fare</th>\n",
       "      <th>Cabin</th>\n",
       "      <th>Embarked</th>\n",
       "      <th>Family Name</th>\n",
       "      <th>Family Key</th>\n",
       "    </tr>\n",
       "  </thead>\n",
       "  <tbody>\n",
       "    <tr>\n",
       "      <th>8</th>\n",
       "      <td>9</td>\n",
       "      <td>1</td>\n",
       "      <td>3</td>\n",
       "      <td>Johnson, Mrs. Oscar W (Elisabeth Vilhelmina Berg)</td>\n",
       "      <td>female</td>\n",
       "      <td>27.0</td>\n",
       "      <td>0</td>\n",
       "      <td>2</td>\n",
       "      <td>347742</td>\n",
       "      <td>11.1333</td>\n",
       "      <td>NaN</td>\n",
       "      <td>S</td>\n",
       "      <td>Johnson</td>\n",
       "      <td>Johnson347742</td>\n",
       "    </tr>\n",
       "    <tr>\n",
       "      <th>68</th>\n",
       "      <td>69</td>\n",
       "      <td>1</td>\n",
       "      <td>3</td>\n",
       "      <td>Andersson, Miss. Erna Alexandra</td>\n",
       "      <td>female</td>\n",
       "      <td>17.0</td>\n",
       "      <td>4</td>\n",
       "      <td>2</td>\n",
       "      <td>3101281</td>\n",
       "      <td>7.9250</td>\n",
       "      <td>NaN</td>\n",
       "      <td>S</td>\n",
       "      <td>Andersson</td>\n",
       "      <td>Andersson3101281</td>\n",
       "    </tr>\n",
       "    <tr>\n",
       "      <th>71</th>\n",
       "      <td>72</td>\n",
       "      <td>0</td>\n",
       "      <td>3</td>\n",
       "      <td>Goodwin, Miss. Lillian Amy</td>\n",
       "      <td>female</td>\n",
       "      <td>16.0</td>\n",
       "      <td>5</td>\n",
       "      <td>2</td>\n",
       "      <td>CA 2144</td>\n",
       "      <td>46.9000</td>\n",
       "      <td>NaN</td>\n",
       "      <td>S</td>\n",
       "      <td>Goodwin</td>\n",
       "      <td>GoodwinCA 2144</td>\n",
       "    </tr>\n",
       "    <tr>\n",
       "      <th>119</th>\n",
       "      <td>120</td>\n",
       "      <td>0</td>\n",
       "      <td>3</td>\n",
       "      <td>Andersson, Miss. Ellis Anna Maria</td>\n",
       "      <td>female</td>\n",
       "      <td>2.0</td>\n",
       "      <td>4</td>\n",
       "      <td>2</td>\n",
       "      <td>347082</td>\n",
       "      <td>31.2750</td>\n",
       "      <td>NaN</td>\n",
       "      <td>S</td>\n",
       "      <td>Andersson</td>\n",
       "      <td>Andersson347082</td>\n",
       "    </tr>\n",
       "    <tr>\n",
       "      <th>147</th>\n",
       "      <td>148</td>\n",
       "      <td>0</td>\n",
       "      <td>3</td>\n",
       "      <td>Ford, Miss. Robina Maggie \"Ruby\"</td>\n",
       "      <td>female</td>\n",
       "      <td>9.0</td>\n",
       "      <td>2</td>\n",
       "      <td>2</td>\n",
       "      <td>W./C. 6608</td>\n",
       "      <td>34.3750</td>\n",
       "      <td>NaN</td>\n",
       "      <td>S</td>\n",
       "      <td>Ford</td>\n",
       "      <td>FordW./C. 6608</td>\n",
       "    </tr>\n",
       "    <tr>\n",
       "      <th>180</th>\n",
       "      <td>181</td>\n",
       "      <td>0</td>\n",
       "      <td>3</td>\n",
       "      <td>Sage, Miss. Constance Gladys</td>\n",
       "      <td>female</td>\n",
       "      <td>NaN</td>\n",
       "      <td>8</td>\n",
       "      <td>2</td>\n",
       "      <td>CA. 2343</td>\n",
       "      <td>69.5500</td>\n",
       "      <td>NaN</td>\n",
       "      <td>S</td>\n",
       "      <td>Sage</td>\n",
       "      <td>SageCA. 2343</td>\n",
       "    </tr>\n",
       "    <tr>\n",
       "      <th>184</th>\n",
       "      <td>185</td>\n",
       "      <td>1</td>\n",
       "      <td>3</td>\n",
       "      <td>Kink-Heilmann, Miss. Luise Gretchen</td>\n",
       "      <td>female</td>\n",
       "      <td>4.0</td>\n",
       "      <td>0</td>\n",
       "      <td>2</td>\n",
       "      <td>315153</td>\n",
       "      <td>22.0250</td>\n",
       "      <td>NaN</td>\n",
       "      <td>S</td>\n",
       "      <td>Kink-Heilmann</td>\n",
       "      <td>Kink-Heilmann315153</td>\n",
       "    </tr>\n",
       "    <tr>\n",
       "      <th>233</th>\n",
       "      <td>234</td>\n",
       "      <td>1</td>\n",
       "      <td>3</td>\n",
       "      <td>Asplund, Miss. Lillian Gertrud</td>\n",
       "      <td>female</td>\n",
       "      <td>5.0</td>\n",
       "      <td>4</td>\n",
       "      <td>2</td>\n",
       "      <td>347077</td>\n",
       "      <td>31.3875</td>\n",
       "      <td>NaN</td>\n",
       "      <td>S</td>\n",
       "      <td>Asplund</td>\n",
       "      <td>Asplund347077</td>\n",
       "    </tr>\n",
       "    <tr>\n",
       "      <th>254</th>\n",
       "      <td>255</td>\n",
       "      <td>0</td>\n",
       "      <td>3</td>\n",
       "      <td>Rosblom, Mrs. Viktor (Helena Wilhelmina)</td>\n",
       "      <td>female</td>\n",
       "      <td>41.0</td>\n",
       "      <td>0</td>\n",
       "      <td>2</td>\n",
       "      <td>370129</td>\n",
       "      <td>20.2125</td>\n",
       "      <td>NaN</td>\n",
       "      <td>S</td>\n",
       "      <td>Rosblom</td>\n",
       "      <td>Rosblom370129</td>\n",
       "    </tr>\n",
       "    <tr>\n",
       "      <th>394</th>\n",
       "      <td>395</td>\n",
       "      <td>1</td>\n",
       "      <td>3</td>\n",
       "      <td>Sandstrom, Mrs. Hjalmar (Agnes Charlotta Bengt...</td>\n",
       "      <td>female</td>\n",
       "      <td>24.0</td>\n",
       "      <td>0</td>\n",
       "      <td>2</td>\n",
       "      <td>PP 9549</td>\n",
       "      <td>16.7000</td>\n",
       "      <td>G6</td>\n",
       "      <td>S</td>\n",
       "      <td>Sandstrom</td>\n",
       "      <td>SandstromPP 9549</td>\n",
       "    </tr>\n",
       "    <tr>\n",
       "      <th>419</th>\n",
       "      <td>420</td>\n",
       "      <td>0</td>\n",
       "      <td>3</td>\n",
       "      <td>Van Impe, Miss. Catharina</td>\n",
       "      <td>female</td>\n",
       "      <td>10.0</td>\n",
       "      <td>0</td>\n",
       "      <td>2</td>\n",
       "      <td>345773</td>\n",
       "      <td>24.1500</td>\n",
       "      <td>NaN</td>\n",
       "      <td>S</td>\n",
       "      <td>Van Impe</td>\n",
       "      <td>Van Impe345773</td>\n",
       "    </tr>\n",
       "    <tr>\n",
       "      <th>436</th>\n",
       "      <td>437</td>\n",
       "      <td>0</td>\n",
       "      <td>3</td>\n",
       "      <td>Ford, Miss. Doolina Margaret \"Daisy\"</td>\n",
       "      <td>female</td>\n",
       "      <td>21.0</td>\n",
       "      <td>2</td>\n",
       "      <td>2</td>\n",
       "      <td>W./C. 6608</td>\n",
       "      <td>34.3750</td>\n",
       "      <td>NaN</td>\n",
       "      <td>S</td>\n",
       "      <td>Ford</td>\n",
       "      <td>FordW./C. 6608</td>\n",
       "    </tr>\n",
       "    <tr>\n",
       "      <th>541</th>\n",
       "      <td>542</td>\n",
       "      <td>0</td>\n",
       "      <td>3</td>\n",
       "      <td>Andersson, Miss. Ingeborg Constanzia</td>\n",
       "      <td>female</td>\n",
       "      <td>9.0</td>\n",
       "      <td>4</td>\n",
       "      <td>2</td>\n",
       "      <td>347082</td>\n",
       "      <td>31.2750</td>\n",
       "      <td>NaN</td>\n",
       "      <td>S</td>\n",
       "      <td>Andersson</td>\n",
       "      <td>Andersson347082</td>\n",
       "    </tr>\n",
       "    <tr>\n",
       "      <th>542</th>\n",
       "      <td>543</td>\n",
       "      <td>0</td>\n",
       "      <td>3</td>\n",
       "      <td>Andersson, Miss. Sigrid Elisabeth</td>\n",
       "      <td>female</td>\n",
       "      <td>11.0</td>\n",
       "      <td>4</td>\n",
       "      <td>2</td>\n",
       "      <td>347082</td>\n",
       "      <td>31.2750</td>\n",
       "      <td>NaN</td>\n",
       "      <td>S</td>\n",
       "      <td>Andersson</td>\n",
       "      <td>Andersson347082</td>\n",
       "    </tr>\n",
       "    <tr>\n",
       "      <th>634</th>\n",
       "      <td>635</td>\n",
       "      <td>0</td>\n",
       "      <td>3</td>\n",
       "      <td>Skoog, Miss. Mabel</td>\n",
       "      <td>female</td>\n",
       "      <td>9.0</td>\n",
       "      <td>3</td>\n",
       "      <td>2</td>\n",
       "      <td>347088</td>\n",
       "      <td>27.9000</td>\n",
       "      <td>NaN</td>\n",
       "      <td>S</td>\n",
       "      <td>Skoog</td>\n",
       "      <td>Skoog347088</td>\n",
       "    </tr>\n",
       "    <tr>\n",
       "      <th>642</th>\n",
       "      <td>643</td>\n",
       "      <td>0</td>\n",
       "      <td>3</td>\n",
       "      <td>Skoog, Miss. Margit Elizabeth</td>\n",
       "      <td>female</td>\n",
       "      <td>2.0</td>\n",
       "      <td>3</td>\n",
       "      <td>2</td>\n",
       "      <td>347088</td>\n",
       "      <td>27.9000</td>\n",
       "      <td>NaN</td>\n",
       "      <td>S</td>\n",
       "      <td>Skoog</td>\n",
       "      <td>Skoog347088</td>\n",
       "    </tr>\n",
       "    <tr>\n",
       "      <th>792</th>\n",
       "      <td>793</td>\n",
       "      <td>0</td>\n",
       "      <td>3</td>\n",
       "      <td>Sage, Miss. Stella Anna</td>\n",
       "      <td>female</td>\n",
       "      <td>NaN</td>\n",
       "      <td>8</td>\n",
       "      <td>2</td>\n",
       "      <td>CA. 2343</td>\n",
       "      <td>69.5500</td>\n",
       "      <td>NaN</td>\n",
       "      <td>S</td>\n",
       "      <td>Sage</td>\n",
       "      <td>SageCA. 2343</td>\n",
       "    </tr>\n",
       "    <tr>\n",
       "      <th>813</th>\n",
       "      <td>814</td>\n",
       "      <td>0</td>\n",
       "      <td>3</td>\n",
       "      <td>Andersson, Miss. Ebba Iris Alfrida</td>\n",
       "      <td>female</td>\n",
       "      <td>6.0</td>\n",
       "      <td>4</td>\n",
       "      <td>2</td>\n",
       "      <td>347082</td>\n",
       "      <td>31.2750</td>\n",
       "      <td>NaN</td>\n",
       "      <td>S</td>\n",
       "      <td>Andersson</td>\n",
       "      <td>Andersson347082</td>\n",
       "    </tr>\n",
       "    <tr>\n",
       "      <th>863</th>\n",
       "      <td>864</td>\n",
       "      <td>0</td>\n",
       "      <td>3</td>\n",
       "      <td>Sage, Miss. Dorothy Edith \"Dolly\"</td>\n",
       "      <td>female</td>\n",
       "      <td>NaN</td>\n",
       "      <td>8</td>\n",
       "      <td>2</td>\n",
       "      <td>CA. 2343</td>\n",
       "      <td>69.5500</td>\n",
       "      <td>NaN</td>\n",
       "      <td>S</td>\n",
       "      <td>Sage</td>\n",
       "      <td>SageCA. 2343</td>\n",
       "    </tr>\n",
       "    <tr>\n",
       "      <th>888</th>\n",
       "      <td>889</td>\n",
       "      <td>0</td>\n",
       "      <td>3</td>\n",
       "      <td>Johnston, Miss. Catherine Helen \"Carrie\"</td>\n",
       "      <td>female</td>\n",
       "      <td>NaN</td>\n",
       "      <td>1</td>\n",
       "      <td>2</td>\n",
       "      <td>W./C. 6607</td>\n",
       "      <td>23.4500</td>\n",
       "      <td>NaN</td>\n",
       "      <td>S</td>\n",
       "      <td>Johnston</td>\n",
       "      <td>JohnstonW./C. 6607</td>\n",
       "    </tr>\n",
       "  </tbody>\n",
       "</table>\n",
       "</div>"
      ],
      "text/plain": [
       "     PassengerId  Survived  Pclass  \\\n",
       "8              9         1       3   \n",
       "68            69         1       3   \n",
       "71            72         0       3   \n",
       "119          120         0       3   \n",
       "147          148         0       3   \n",
       "180          181         0       3   \n",
       "184          185         1       3   \n",
       "233          234         1       3   \n",
       "254          255         0       3   \n",
       "394          395         1       3   \n",
       "419          420         0       3   \n",
       "436          437         0       3   \n",
       "541          542         0       3   \n",
       "542          543         0       3   \n",
       "634          635         0       3   \n",
       "642          643         0       3   \n",
       "792          793         0       3   \n",
       "813          814         0       3   \n",
       "863          864         0       3   \n",
       "888          889         0       3   \n",
       "\n",
       "                                                  Name     Sex   Age  SibSp  \\\n",
       "8    Johnson, Mrs. Oscar W (Elisabeth Vilhelmina Berg)  female  27.0      0   \n",
       "68                     Andersson, Miss. Erna Alexandra  female  17.0      4   \n",
       "71                          Goodwin, Miss. Lillian Amy  female  16.0      5   \n",
       "119                  Andersson, Miss. Ellis Anna Maria  female   2.0      4   \n",
       "147                   Ford, Miss. Robina Maggie \"Ruby\"  female   9.0      2   \n",
       "180                       Sage, Miss. Constance Gladys  female   NaN      8   \n",
       "184                Kink-Heilmann, Miss. Luise Gretchen  female   4.0      0   \n",
       "233                     Asplund, Miss. Lillian Gertrud  female   5.0      4   \n",
       "254           Rosblom, Mrs. Viktor (Helena Wilhelmina)  female  41.0      0   \n",
       "394  Sandstrom, Mrs. Hjalmar (Agnes Charlotta Bengt...  female  24.0      0   \n",
       "419                          Van Impe, Miss. Catharina  female  10.0      0   \n",
       "436               Ford, Miss. Doolina Margaret \"Daisy\"  female  21.0      2   \n",
       "541               Andersson, Miss. Ingeborg Constanzia  female   9.0      4   \n",
       "542                  Andersson, Miss. Sigrid Elisabeth  female  11.0      4   \n",
       "634                                 Skoog, Miss. Mabel  female   9.0      3   \n",
       "642                      Skoog, Miss. Margit Elizabeth  female   2.0      3   \n",
       "792                            Sage, Miss. Stella Anna  female   NaN      8   \n",
       "813                 Andersson, Miss. Ebba Iris Alfrida  female   6.0      4   \n",
       "863                  Sage, Miss. Dorothy Edith \"Dolly\"  female   NaN      8   \n",
       "888           Johnston, Miss. Catherine Helen \"Carrie\"  female   NaN      1   \n",
       "\n",
       "     Parch      Ticket     Fare Cabin Embarked    Family Name  \\\n",
       "8        2      347742  11.1333   NaN        S        Johnson   \n",
       "68       2     3101281   7.9250   NaN        S      Andersson   \n",
       "71       2     CA 2144  46.9000   NaN        S        Goodwin   \n",
       "119      2      347082  31.2750   NaN        S      Andersson   \n",
       "147      2  W./C. 6608  34.3750   NaN        S           Ford   \n",
       "180      2    CA. 2343  69.5500   NaN        S           Sage   \n",
       "184      2      315153  22.0250   NaN        S  Kink-Heilmann   \n",
       "233      2      347077  31.3875   NaN        S        Asplund   \n",
       "254      2      370129  20.2125   NaN        S        Rosblom   \n",
       "394      2     PP 9549  16.7000    G6        S      Sandstrom   \n",
       "419      2      345773  24.1500   NaN        S       Van Impe   \n",
       "436      2  W./C. 6608  34.3750   NaN        S           Ford   \n",
       "541      2      347082  31.2750   NaN        S      Andersson   \n",
       "542      2      347082  31.2750   NaN        S      Andersson   \n",
       "634      2      347088  27.9000   NaN        S          Skoog   \n",
       "642      2      347088  27.9000   NaN        S          Skoog   \n",
       "792      2    CA. 2343  69.5500   NaN        S           Sage   \n",
       "813      2      347082  31.2750   NaN        S      Andersson   \n",
       "863      2    CA. 2343  69.5500   NaN        S           Sage   \n",
       "888      2  W./C. 6607  23.4500   NaN        S       Johnston   \n",
       "\n",
       "              Family Key  \n",
       "8          Johnson347742  \n",
       "68      Andersson3101281  \n",
       "71        GoodwinCA 2144  \n",
       "119      Andersson347082  \n",
       "147       FordW./C. 6608  \n",
       "180         SageCA. 2343  \n",
       "184  Kink-Heilmann315153  \n",
       "233        Asplund347077  \n",
       "254        Rosblom370129  \n",
       "394     SandstromPP 9549  \n",
       "419       Van Impe345773  \n",
       "436       FordW./C. 6608  \n",
       "541      Andersson347082  \n",
       "542      Andersson347082  \n",
       "634          Skoog347088  \n",
       "642          Skoog347088  \n",
       "792         SageCA. 2343  \n",
       "813      Andersson347082  \n",
       "863         SageCA. 2343  \n",
       "888   JohnstonW./C. 6607  "
      ]
     },
     "execution_count": 370,
     "metadata": {},
     "output_type": "execute_result"
    }
   ],
   "source": [
    "#titanic_df[titanic_df['Family Name'] == 'Sage']\n",
    "\n",
    "class_s = titanic_df[titanic_df['Embarked'] == 'S']\n",
    "class_s_3 = class_s[class_s['Pclass'] == 3]\n",
    "\n",
    "\n",
    "#titanic_df[titanic_df['Ticket'] == 'CA. 2343']\n",
    "\n",
    "mother = class_s_3[class_s_3['Parch'] == 2]\n",
    "\n",
    "mother[mother['Sex']=='female']"
   ]
  }
 ],
 "metadata": {
  "kernelspec": {
   "display_name": "Python 3",
   "language": "python",
   "name": "python3"
  },
  "language_info": {
   "codemirror_mode": {
    "name": "ipython",
    "version": 3
   },
   "file_extension": ".py",
   "mimetype": "text/x-python",
   "name": "python",
   "nbconvert_exporter": "python",
   "pygments_lexer": "ipython3",
   "version": "3.6.1"
  }
 },
 "nbformat": 4,
 "nbformat_minor": 2
}
