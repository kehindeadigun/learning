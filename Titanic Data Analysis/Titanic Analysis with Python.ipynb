{
 "cells": [
  {
   "cell_type": "markdown",
   "metadata": {
    "collapsed": true
   },
   "source": [
    "# Titanic Analysis With Python "
   ]
  },
  {
   "cell_type": "markdown",
   "metadata": {},
   "source": [
    "The aim of this project is using python to analyse a data set containing information on the Titanic and then communicating \n",
    "\n",
    "findings as well as I can using only Python and Matplotlib without the NumPy and Pandas libraries."
   ]
  },
  {
   "cell_type": "markdown",
   "metadata": {
    "collapsed": true
   },
   "source": [
    "# Importing The DataSet "
   ]
  },
  {
   "cell_type": "code",
   "execution_count": 30,
   "metadata": {
    "collapsed": true
   },
   "outputs": [],
   "source": [
    "##Importing the csv file from location on storage into a python list\n",
    "\n",
    "import unicodecsv\n",
    "\n",
    "with open ('titanic_data.csv','rb') as f:   #Open the csv file as a readable binary attached to the variable f\n",
    "    reader = unicodecsv.DictReader(f)       #Using the UNICODECSV library, read the file into a One time reader\n",
    "    titanic_data = list(reader)             #Read the info from the reader as a list into the variable 'titanic_data'"
   ]
  },
  {
   "cell_type": "code",
   "execution_count": 31,
   "metadata": {},
   "outputs": [
    {
     "data": {
      "text/plain": [
       "[OrderedDict([('PassengerId', '1'),\n",
       "              ('Survived', '0'),\n",
       "              ('Pclass', '3'),\n",
       "              ('Name', 'Braund, Mr. Owen Harris'),\n",
       "              ('Sex', 'male'),\n",
       "              ('Age', '22'),\n",
       "              ('SibSp', '1'),\n",
       "              ('Parch', '0'),\n",
       "              ('Ticket', 'A/5 21171'),\n",
       "              ('Fare', '7.25'),\n",
       "              ('Cabin', ''),\n",
       "              ('Embarked', 'S')]),\n",
       " OrderedDict([('PassengerId', '2'),\n",
       "              ('Survived', '1'),\n",
       "              ('Pclass', '1'),\n",
       "              ('Name', 'Cumings, Mrs. John Bradley (Florence Briggs Thayer)'),\n",
       "              ('Sex', 'female'),\n",
       "              ('Age', '38'),\n",
       "              ('SibSp', '1'),\n",
       "              ('Parch', '0'),\n",
       "              ('Ticket', 'PC 17599'),\n",
       "              ('Fare', '71.2833'),\n",
       "              ('Cabin', 'C85'),\n",
       "              ('Embarked', 'C')])]"
      ]
     },
     "execution_count": 31,
     "metadata": {},
     "output_type": "execute_result"
    }
   ],
   "source": [
    "titanic_data[0:2]           ##Checking on a slice of the data in the list "
   ]
  },
  {
   "cell_type": "markdown",
   "metadata": {},
   "source": [
    "# QUESTIONS, EXPECTATIONS AND PROPOSED ANALYSIS"
   ]
  },
  {
   "cell_type": "markdown",
   "metadata": {},
   "source": [
    "Inspecting the data on Excel Spreadsheets, I have come up with quite a few intriguing questions I propose to answer.\n",
    "\n",
    "These questions are:\n",
    "\n",
    "A: Spotting survivability rates by age and sex\n",
    "\n",
    "1) I'm interested in seeing how survival varied by age. I am also interested in calculating these totals by categories. Categories are within the age ranges of:\n",
    "      - A child is rated as 12 years and below.\n",
    "      - Men and women are rated as above 21.\n",
    "      - Adolescents are between 12 and 21.\n",
    "      - Elderly is an age class above years of age.\n",
    "\n",
    "2) The survivors data totalled for the above categories as well as:\n",
    "      - Total number of survivors         ----\n",
    "      - Total number of male survivors       ----\n",
    "      - Total number of female survivors       ----\n",
    "\n",
    "3) The ages and the means for those same categories.\n",
    "      - Mean age of passengers       ----\n",
    "      - Mean age of survivors       ----\n",
    "      - Mean age of male passengers        ----\n",
    "      - Mean age of male survivors       ----\n",
    "      - Mean age of female survivors       ----\n",
    "      - Mean age of female passengers        ---- \n",
    "      - Mean age of female survivors       ----\n",
    "      - Mean number of child and adolescents passengers \n",
    "      - Mean number of child and adolescents survivors \n",
    "\n",
    "---->Noted: I think a histogram/stacked bar plot/bar plot might be best for displaying the above data (1-3).\n",
    "\n",
    "B: Searching other factors that affecting survivability\n",
    "\n",
    "4) Exploring the Relationships between factors that affect survivability:\n",
    "\n",
    "      - Sex and survivability              (Sex is designated as M, F by the data)\n",
    "      - Ticket Class and survivability     (Ticket class is divided into 1st, 2nd and 3rd Class)\n",
    "      - Passenger Fare and survivability   \n",
    "      - Age and survivability\n",
    "      - Cabin number and survivability\n",
    "      - Port of Embarkation and survivability  (Ports of Embarkation are C = Cherbourg, Q = Queenstown, S = Southampton)\n",
    "     \n",
    "---->Noted: I think a scatter plot might be best for examining the above data.\n",
    "\n",
    "5) Also searching through these possible relationships might be interesting:\n",
    "      \n",
    "      Fare and Ticket Class and survivability on size\n",
    "      Attempting investigating data for Families on the titanic.\n",
    "      Age, Ticket Fare and no of siblings reported\n",
    "\n",
    "---->Noted: I think a bubble plot might be best for examining the above data.\n",
    "\n",
    "6) What price of ticket determines what class one is put into."
   ]
  },
  {
   "cell_type": "markdown",
   "metadata": {},
   "source": [
    "# CLEANING THE DATA"
   ]
  },
  {
   "cell_type": "code",
   "execution_count": 32,
   "metadata": {},
   "outputs": [
    {
     "name": "stdout",
     "output_type": "stream",
     "text": [
      "Total Passengers present:  891\n",
      "PassengerId missing fields:  0\n",
      "Survived missing fields:  0\n",
      "Pclass missing fields:  0\n",
      "Name missing fields:  0\n",
      "Sex missing fields:  0\n",
      "Age missing fields:  177\n",
      "SibSp missing fields:  0\n",
      "Parch missing fields:  0\n",
      "Ticket missing fields:  0\n",
      "Fare missing fields:  0\n",
      "Cabin missing fields:  687\n",
      "Embarked missing fields:  2\n"
     ]
    }
   ],
   "source": [
    "## Writing a function to check for columns with missing data in the function\n",
    "\n",
    "def has_missing_data(data, field):\n",
    "    empty = set()               \n",
    "    for passenger in data:      ##Iterates through passenger data and checks for the fields to spot if empty\n",
    "        check = passenger[field] \n",
    "        if check == '':\n",
    "            empty.add(passenger['PassengerId']) #Returns a list of Passenger ID's with the missing fields\n",
    "    return empty\n",
    "\n",
    "print('Total Passengers present: ', len(titanic_data))\n",
    "print('PassengerId missing fields: ', len(has_missing_data(titanic_data, 'PassengerId')))\n",
    "print('Survived missing fields: ', len(has_missing_data(titanic_data, 'Survived')))\n",
    "print('Pclass missing fields: ', len(has_missing_data(titanic_data, 'Pclass')))\n",
    "print('Name missing fields: ', len(has_missing_data(titanic_data, 'Name')))\n",
    "print('Sex missing fields: ', len(has_missing_data(titanic_data, 'Sex')))\n",
    "print('Age missing fields: ', len(has_missing_data(titanic_data, 'Age')))\n",
    "print('SibSp missing fields: ', len(has_missing_data(titanic_data, 'SibSp')))\n",
    "print('Parch missing fields: ', len(has_missing_data(titanic_data, 'Parch')))\n",
    "print('Ticket missing fields: ', len(has_missing_data(titanic_data, 'Ticket')))\n",
    "print('Fare missing fields: ', len(has_missing_data(titanic_data, 'Fare')))\n",
    "print('Cabin missing fields: ', len(has_missing_data(titanic_data, 'Cabin')))\n",
    "print('Embarked missing fields: ', len(has_missing_data(titanic_data, 'Embarked')))"
   ]
  },
  {
   "cell_type": "markdown",
   "metadata": {},
   "source": [
    "###### From the results: \n",
    "177 passengers are missing age information, 687 passengers are missing Cabin data and 2 passengers are missing Embarked Data"
   ]
  },
  {
   "cell_type": "code",
   "execution_count": 33,
   "metadata": {
    "collapsed": true
   },
   "outputs": [],
   "source": [
    "#Cleaning Data on the dataset of empty values from Age, Cabin and Embarked\n",
    "##Write functions to convert data types\n",
    "\n",
    "\n",
    "def parse_element(element):       ##Checks for empty strings and fills with none          \n",
    "    if element == '':\n",
    "        return None\n",
    "    else:\n",
    "        return element\n",
    "    \n",
    "def parse_age(age):       ##Checks for empty strings and fills with none          \n",
    "    if age == '':\n",
    "        return None \n",
    "    else:\n",
    "        return float(age)     ##convert age to integers\n",
    "\n",
    "        \n",
    "for passenger in titanic_data:      #Converting data rows to convenient types and sorting empty data \n",
    "    passenger['Age'] = (parse_age(passenger['Age']))#Decision to use float over int was due to fractional ages in the dataset\n",
    "    passenger['Cabin'] = (parse_element(passenger['Cabin']))\n",
    "    passenger['Embarked'] = (parse_element(passenger['Embarked']))\n",
    "    passenger['SibSp'] = int(passenger['SibSp'])   \n",
    "    passenger['Parch'] = int(passenger['Parch'])\n",
    "    passenger['Fare'] = float(passenger['Fare'])\n",
    "    passenger['Sur'] = float(passenger['Fare'])\n"
   ]
  },
  {
   "cell_type": "code",
   "execution_count": 34,
   "metadata": {
    "collapsed": true
   },
   "outputs": [],
   "source": [
    "missing_embarked = has_missing_data(titanic_data, 'Embarked')\n",
    "for passenger in titanic_data:\n",
    "    if passenger['PassengerId'] in missing_embarked:\n",
    "        print (passenger)"
   ]
  },
  {
   "cell_type": "markdown",
   "metadata": {
    "collapsed": true
   },
   "source": [
    "# Investigating The Data"
   ]
  },
  {
   "cell_type": "markdown",
   "metadata": {
    "collapsed": true
   },
   "source": [
    "### Investigating the First two Questions "
   ]
  },
  {
   "cell_type": "code",
   "execution_count": 38,
   "metadata": {},
   "outputs": [
    {
     "name": "stdout",
     "output_type": "stream",
     "text": [
      "Populating the interactive namespace from numpy and matplotlib\n"
     ]
    }
   ],
   "source": [
    "##GROUPING THE DATA BY ACCOUNT KEYS\n",
    "%pylab inline\n",
    "\n",
    "import matplotlib.pyplot as plt\n",
    "\n",
    "import numpy as np\n",
    "\n",
    "import seaborn as sns\n",
    "\n",
    "from collections import defaultdict\n",
    "\n",
    "##WRITING A FUNCTION TO GROUP DATA BY INPUT\n",
    "\n",
    "def group_data(data, field):               #Takes in data and a field name with which to group the data\n",
    "    grouped_data = defaultdict(list)    #Makes a default dictionary that outputs a list when \n",
    "    for passenger in data:\n",
    "        key = passenger[field]          #sets the field as the dictionary key\n",
    "        grouped_data[key].append(passenger) \n",
    "    return grouped_data\n",
    "\n",
    "\n",
    "##WRITING A FUNCTION TO SUM UP GROUPED DATA\n",
    "\n",
    "def sum_group_items_by_element(grouped_data, field):    ##Gives the total of a particlar element in a category in a group\n",
    "    summed_data = {}\n",
    "    for key, data_points in grouped_data.items():\n",
    "        total = 0.0\n",
    "        for data_point in data_points:\n",
    "            if data_point[field] != None:\n",
    "                total += data_point[field]\n",
    "                summed_data[key] = total         ##returns a dictionary\n",
    "    return summed_data\n",
    "\n",
    "\n",
    "def sum_grouped_items(grouped_data):    ##Gives the total of items by category in a group\n",
    "    summed_data = {}\n",
    "    for key, data_points in grouped_data.items():\n",
    "        total = 0\n",
    "        for data_point in data_points: \n",
    "            summed_data[key] = len(data_points)\n",
    "    return summed_data                          ##Returns as a dictionary\n",
    "\n",
    "##WRITING A FUNCTION TO ARRANGE A FIELD OF DATA INTO A LIST FROM UNGROUPED DATA\n",
    "\n",
    "def list_data(data, field):            ##Lists the items from a particular field in a dataset\n",
    "    listed = []\n",
    "    for passenger in data:\n",
    "        if passenger[field] != None:\n",
    "            listed.append(passenger[field])\n",
    "    return listed                          ##returns a list\n",
    "\n",
    "\n",
    "def describe_data(data, bin_y_data, plot):\n",
    "    print ('Size: ', len(data))\n",
    "    print ('Mean: ',np.mean(data))\n",
    "    print ('Standard Deviation: ',np.std(data))\n",
    "    print ('Median: ',np.median(data))\n",
    "    print ('Minimum: ',np.min(data))\n",
    "    print ('Maximum: ',np.max(data))\n",
    "    if plot == 'hist':\n",
    "        plt.hist(data, bins=bin_y_data)\n",
    "    elif plot == 'bar':\n",
    "        plt.bar(data, bin_y_data)\n",
    "    \n",
    "def object_list(data, field1, field2, check):\n",
    "    list_ = []\n",
    "    for woman in data:\n",
    "        if woman[field1] != check:\n",
    "            list_.append(woman[field2])\n",
    "    return list_    \n",
    "      \n",
    "##Writing FUNCTIONS TO SCALE THE OBJECT\n",
    "\n",
    "def scale_by_factor(data, factor):                  ##Scale a data set by a certain factor\n",
    "    scaled=[]\n",
    "    for survivor in data:\n",
    "        scaled.append(survivor * factor)\n",
    "    return scaled"
   ]
  },
  {
   "cell_type": "code",
   "execution_count": 39,
   "metadata": {},
   "outputs": [
    {
     "data": {
      "text/plain": [
       "[OrderedDict([('PassengerId', '1'),\n",
       "              ('Survived', '0'),\n",
       "              ('Pclass', '3'),\n",
       "              ('Name', 'Braund, Mr. Owen Harris'),\n",
       "              ('Sex', 'male'),\n",
       "              ('Age', 22.0),\n",
       "              ('SibSp', 1),\n",
       "              ('Parch', 0),\n",
       "              ('Ticket', 'A/5 21171'),\n",
       "              ('Fare', 7.25),\n",
       "              ('Cabin', None),\n",
       "              ('Embarked', 'S'),\n",
       "              ('Sur', 7.25)])]"
      ]
     },
     "execution_count": 39,
     "metadata": {},
     "output_type": "execute_result"
    }
   ],
   "source": [
    "##Grouping the passengers by ID\n",
    "\n",
    "passengers_by_id = group_data(titanic_data, 'PassengerId')\n",
    "passengers_by_id['1']"
   ]
  },
  {
   "cell_type": "code",
   "execution_count": 40,
   "metadata": {},
   "outputs": [
    {
     "name": "stdout",
     "output_type": "stream",
     "text": [
      "Size:  714\n",
      "Mean:  29.6991176471\n",
      "Standard Deviation:  14.5163211508\n",
      "Median:  28.0\n",
      "Minimum:  0.42\n",
      "Maximum:  80.0\n"
     ]
    },
    {
     "data": {
      "image/png": "[encoded data removed]",
      "text/plain": [
       "<matplotlib.figure.Figure at 0x1fcaede56a0>"
      ]
     },
     "metadata": {},
     "output_type": "display_data"
    }
   ],
   "source": [
    "##TAKING THE AGES FROM THE TITANIC DATA BY AGE AND PLOTTING A HISTOGRAM\n",
    "\n",
    "ages = list_data(titanic_data, 'Age')\n",
    "        \n",
    "sns.set(style='darkgrid',font='sans-serif',font_scale=1.2)\n",
    "plt.xlabel('Distribution of ages on the Titanic')\n",
    "describe_data(ages,28,'hist')"
   ]
  },
  {
   "cell_type": "markdown",
   "metadata": {},
   "source": [
    "The average age seemed to be about 29 with most passengers between 20 and 25.\n",
    "\n",
    "The mean and median seem to be fairly positioned around the same area with a higher mean.\n",
    "\n",
    "The oldest passenger was 80 and the youngest is 5 months old."
   ]
  },
  {
   "cell_type": "markdown",
   "metadata": {
    "collapsed": true
   },
   "source": [
    "## Investigating Survivor Data vs Non Survivor Data"
   ]
  },
  {
   "cell_type": "markdown",
   "metadata": {
    "collapsed": true
   },
   "source": [
    "### One Dimensional Data"
   ]
  },
  {
   "cell_type": "code",
   "execution_count": 41,
   "metadata": {
    "collapsed": true
   },
   "outputs": [],
   "source": [
    "#Splitting off the data for survivors and non_survivors from the titanic dataset\n",
    "\n",
    "passengers_by_survivorship = group_data(titanic_data, 'Survived')\n",
    "survivor_data = passengers_by_survivorship['1']\n",
    "non_survivor_data = passengers_by_survivorship['0']"
   ]
  },
  {
   "cell_type": "code",
   "execution_count": 42,
   "metadata": {},
   "outputs": [
    {
     "name": "stdout",
     "output_type": "stream",
     "text": [
      "Size:  290\n",
      "Mean:  28.3436896552\n",
      "Standard Deviation:  14.9251522203\n",
      "Median:  28.0\n",
      "Minimum:  0.42\n",
      "Maximum:  80.0\n"
     ]
    },
    {
     "data": {
      "image/png": "[encoded data removed]",
      "text/plain": [
       "<matplotlib.figure.Figure at 0x1fca9c52860>"
      ]
     },
     "metadata": {},
     "output_type": "display_data"
    }
   ],
   "source": [
    "##SURVIVOR DATA BY AGE\n",
    "\n",
    "sns.set(style='darkgrid',font='sans-serif',font_scale=1.2)\n",
    "plt.xlabel('Age of Survivors on the Titanic')\n",
    "survivor_age_list = list_data(survivor_data,'Age')\n",
    "describe_data(survivor_age_list, 28, 'hist')"
   ]
  },
  {
   "cell_type": "markdown",
   "metadata": {},
   "source": [
    "We can easily see the data on survivors:\n",
    "\n",
    "About 290 people survived the sinking of the titanic with 424 people dead.\n",
    "\n",
    "We can see that the ages of survivors on the Titanic seems to be relatively younger.\n",
    "\n",
    "The average age of survivors seemed to be about 28 with most passengers between 30 and 35.\n",
    "For non-survivors however, the mean age seemed to be about 30.\n",
    "\n",
    "While survivors and non-survivors seemed to have the most daeths and surviors between 20 and 30, non-survivors seemed to peak on the side of early twenties while survivors peaked on the othe side. Of particular note is infant mortality and that of the elderly with about a third of infants between  0 to 1 being saved, same as thoose of adults. \n",
    "\n",
    "The oldest passenger was 80 and the youngest is 5 months old."
   ]
  },
  {
   "cell_type": "code",
   "execution_count": 43,
   "metadata": {},
   "outputs": [
    {
     "name": "stdout",
     "output_type": "stream",
     "text": [
      "Size:  197\n",
      "Mean:  28.847715736\n",
      "Standard Deviation:  14.1390495865\n",
      "Median:  28.0\n",
      "Minimum:  0.75\n",
      "Maximum:  63.0\n"
     ]
    },
    {
     "data": {
      "image/png": "[encoded data removed]",
      "text/plain": [
       "<matplotlib.figure.Figure at 0x1fca9ca7d30>"
      ]
     },
     "metadata": {},
     "output_type": "display_data"
    }
   ],
   "source": [
    "### Separating survivors by sex\n",
    "\n",
    "male_survivors = []\n",
    "female_survivors = []\n",
    "for passenger in survivor_data:\n",
    "    if passenger['Sex'] == 'male':\n",
    "        male_survivors.append(passenger)\n",
    "    elif passenger['Sex'] == 'female':\n",
    "        female_survivors.append(passenger)\n",
    "\n",
    "describe_data(list_data(female_survivors, 'Age'),20, 'hist')\n",
    "plt.show()\n"
   ]
  },
  {
   "cell_type": "code",
   "execution_count": 44,
   "metadata": {},
   "outputs": [
    {
     "name": "stdout",
     "output_type": "stream",
     "text": [
      "Size:  197\n",
      "Mean:  28.847715736\n",
      "Standard Deviation:  14.1390495865\n",
      "Median:  28.0\n",
      "Minimum:  0.75\n",
      "Maximum:  63.0\n"
     ]
    },
    {
     "data": {
      "image/png": "[encoded data removed]",
      "text/plain": [
       "<matplotlib.figure.Figure at 0x1fcaede5be0>"
      ]
     },
     "metadata": {},
     "output_type": "display_data"
    }
   ],
   "source": [
    "### Separating survivors by sex\n",
    "\n",
    "male_survivors = []\n",
    "female_survivors = []\n",
    "for passenger in survivor_data:\n",
    "    if passenger['Sex'] == 'male':\n",
    "        male_survivors.append(passenger)\n",
    "    elif passenger['Sex'] == 'female':\n",
    "        female_survivors.append(passenger)\n",
    "\n",
    "describe_data(list_data(female_survivors, 'Age'),28, 'hist')\n",
    "plt.show()"
   ]
  },
  {
   "cell_type": "code",
   "execution_count": 45,
   "metadata": {},
   "outputs": [
    {
     "name": "stdout",
     "output_type": "stream",
     "text": [
      "Size:  424\n",
      "Mean:  30.6261792453\n",
      "Standard Deviation:  14.1553876178\n",
      "Median:  28.0\n",
      "Minimum:  1.0\n",
      "Maximum:  74.0\n"
     ]
    },
    {
     "data": {
      "image/png": "[encoded data removed]",
      "text/plain": [
       "<matplotlib.figure.Figure at 0x1fcaecdd7f0>"
      ]
     },
     "metadata": {},
     "output_type": "display_data"
    }
   ],
   "source": [
    "##NON_SURVIVOR DATA BY AGE\n",
    "\n",
    "sns.set(style='darkgrid',font='sans-serif',font_scale=1.2)\n",
    "plt.xlabel('Age of Non_survivors on the Titanic')\n",
    "non_survivor_age_list = list_data(non_survivor_data,'Age')\n",
    "describe_data(non_survivor_age_list, 28, 'hist')"
   ]
  },
  {
   "cell_type": "code",
   "execution_count": 46,
   "metadata": {},
   "outputs": [
    {
     "name": "stdout",
     "output_type": "stream",
     "text": [
      "Size:  197\n",
      "Mean:  28.847715736\n",
      "Standard Deviation:  14.1390495865\n",
      "Median:  28.0\n",
      "Minimum:  0.75\n",
      "Maximum:  63.0\n"
     ]
    },
    {
     "data": {
      "image/png": "[encoded data removed]",
      "text/plain": [
       "<matplotlib.figure.Figure at 0x1fcaefab1d0>"
      ]
     },
     "metadata": {},
     "output_type": "display_data"
    }
   ],
   "source": [
    "##DESCRPTION OF FEMALE SURVIVORS\n",
    "\n",
    "describe_data(list_data(female_survivors, 'Age'),28, 'hist')"
   ]
  },
  {
   "cell_type": "markdown",
   "metadata": {},
   "source": [
    "There are 93 male passengers compared to 197 female passengers"
   ]
  },
  {
   "cell_type": "code",
   "execution_count": 47,
   "metadata": {},
   "outputs": [
    {
     "name": "stdout",
     "output_type": "stream",
     "text": [
      "Size:  93\n",
      "Mean:  27.2760215054\n",
      "Standard Deviation:  16.4158276718\n",
      "Median:  28.0\n",
      "Minimum:  0.42\n",
      "Maximum:  80.0\n"
     ]
    },
    {
     "data": {
      "image/png": "[encoded data removed]",
      "text/plain": [
       "<matplotlib.figure.Figure at 0x1fcaf3769e8>"
      ]
     },
     "metadata": {},
     "output_type": "display_data"
    }
   ],
   "source": [
    "##DESCRPTION OF MALE SURVIVORS\n",
    "\n",
    "describe_data(list_data(male_survivors, 'Age'),28,'hist')"
   ]
  },
  {
   "cell_type": "code",
   "execution_count": 48,
   "metadata": {},
   "outputs": [
    {
     "data": {
      "text/plain": [
       "<Container object of 8 artists>"
      ]
     },
     "execution_count": 48,
     "metadata": {},
     "output_type": "execute_result"
    },
    {
     "data": {
      "image/png": "[encoded data removed]",
      "text/plain": [
       "<matplotlib.figure.Figure at 0x1fcaf4ae518>"
      ]
     },
     "metadata": {},
     "output_type": "display_data"
    }
   ],
   "source": [
    "y = [3, 10, 7, 5, 3, 4.5, 6, 8.1]\n",
    "N = len(y)\n",
    "x = range(N)\n",
    "width = 0.25\n",
    "plt.bar(x, y, width, color=\"blue\")"
   ]
  },
  {
   "cell_type": "markdown",
   "metadata": {
    "collapsed": true
   },
   "source": [
    "## Exploring other relationships that affect Survivability"
   ]
  },
  {
   "cell_type": "markdown",
   "metadata": {
    "collapsed": true
   },
   "source": [
    "### Categorizing Data Into Groups"
   ]
  },
  {
   "cell_type": "markdown",
   "metadata": {},
   "source": [
    "AGE AND FARE BY SEX"
   ]
  },
  {
   "cell_type": "code",
   "execution_count": 49,
   "metadata": {},
   "outputs": [
    {
     "data": {
      "text/plain": [
       "<matplotlib.collections.PathCollection at 0x1fcaef51940>"
      ]
     },
     "execution_count": 49,
     "metadata": {},
     "output_type": "execute_result"
    },
    {
     "data": {
      "image/png": "[encoded data removed]",
      "text/plain": [
       "<matplotlib.figure.Figure at 0x1fcaf32c9e8>"
      ]
     },
     "metadata": {},
     "output_type": "display_data"
    }
   ],
   "source": [
    "##RELATIONSHIP BETWEEN FARE AND AGE IN SURVIVORS\n",
    "\n",
    "survivor_fare = object_list(survivor_data, 'Age', 'Fare', None)\n",
    "survivor_siblings = object_list(survivor_data, 'Age', 'SibSp', None)\n",
    "\n",
    "scaled_sibling = scale_by_factor(survivor_siblings, 50)\n",
    "    \n",
    "scatter(survivor_age_list,survivor_fare, s= scaled_sibling)"
   ]
  },
  {
   "cell_type": "code",
   "execution_count": 50,
   "metadata": {},
   "outputs": [
    {
     "name": "stdout",
     "output_type": "stream",
     "text": [
      "Size:  342\n",
      "Mean:  48.3954076023\n",
      "Standard Deviation:  66.4995628092\n",
      "Median:  26.0\n",
      "Minimum:  0.0\n",
      "Maximum:  512.3292\n"
     ]
    },
    {
     "data": {
      "image/png": "[encoded data removed]",
      "text/plain": [
       "<matplotlib.figure.Figure at 0x1fcaed246d8>"
      ]
     },
     "metadata": {},
     "output_type": "display_data"
    }
   ],
   "source": [
    "survivor_fare_list = list_data(survivor_data,'Fare')\n",
    "describe_data(survivor_fare_list, 28,'hist')"
   ]
  },
  {
   "cell_type": "code",
   "execution_count": 51,
   "metadata": {},
   "outputs": [
    {
     "data": {
      "image/png": "[encoded data removed]",
      "text/plain": [
       "<matplotlib.figure.Figure at 0x1fcadc2ae80>"
      ]
     },
     "metadata": {},
     "output_type": "display_data"
    }
   ],
   "source": [
    "##RELATIONSHIP BETWEEN FARE AND AGE IN WOMEN\n",
    "\n",
    "\n",
    "female_survivor_fare = object_list(female_survivors, 'Age', 'Fare', None)\n",
    "scatter(list_data(female_survivors, 'Age'),female_survivor_fare)\n",
    "plt.show()"
   ]
  },
  {
   "cell_type": "code",
   "execution_count": 52,
   "metadata": {},
   "outputs": [
    {
     "ename": "IndentationError",
     "evalue": "expected an indented block (<ipython-input-52-49b4b18618a6>, line 7)",
     "output_type": "error",
     "traceback": [
      "\u001b[1;36m  File \u001b[1;32m\"<ipython-input-52-49b4b18618a6>\"\u001b[1;36m, line \u001b[1;32m7\u001b[0m\n\u001b[1;33m    females.append(passenger)\u001b[0m\n\u001b[1;37m          ^\u001b[0m\n\u001b[1;31mIndentationError\u001b[0m\u001b[1;31m:\u001b[0m expected an indented block\n"
     ]
    }
   ],
   "source": [
    "for passenger in data:\n",
    "    if passenger['Sex'] == 'male':\n",
    "        males.append(passenger)\n",
    "        if passenger['Age'] > 21 and passenger['Age'] < 50:\n",
    "            man.append(passenger)\n",
    "        else:\n",
    "        females.append(passenger)\n",
    "            if passenger['Age'] > 21 and passenger['Age'] < 50:\n",
    "            woman.append(passenger)\n",
    "    if passenger['Age'] <= 12:\n",
    "        child.append(passenger)\n",
    "    elif passenger['Age'] >= 13 and passenger['Age'] < 21:\n",
    "        adolescent.append(passenger)\n",
    "    elif passenger['Age'] >= 21 and passenger['Age'] < 60:\n",
    "        adolescent.append(passenger)\n",
    " \n",
    "len(list(survivor_data))\n",
    "len(list(non_survivor_data))\n",
    "len(list_data(female_survivors))\n",
    "len(list_data(male_survivors))\n",
    "\n",
    "help(sns.plot)"
   ]
  },
  {
   "cell_type": "code",
   "execution_count": 53,
   "metadata": {
    "collapsed": true
   },
   "outputs": [],
   "source": [
    "\n",
    "titanic_names = titanic_data\n",
    "titanic_by_name = defaultdict(list)\n",
    "family = defaultdict(list)\n",
    "for passenger in titanic_names:\n",
    "    passenger['First Name'] = (passenger['Name']).split(',')[0] \n",
    "    key = passenger['SibSp']\n",
    "    key2 = passenger['Ticket']  \n",
    "    key3 = passenger['First Name'] + ' ' + str(key + 1) + ' ' + key2\n",
    "    for i in range(1,9):\n",
    "        if key == i:\n",
    "            titanic_by_name[key3].append(passenger)"
   ]
  },
  {
   "cell_type": "code",
   "execution_count": 54,
   "metadata": {},
   "outputs": [
    {
     "data": {
      "text/plain": [
       "[OrderedDict([('PassengerId', '160'),\n",
       "              ('Survived', '0'),\n",
       "              ('Pclass', '3'),\n",
       "              ('Name', 'Sage, Master. Thomas Henry'),\n",
       "              ('Sex', 'male'),\n",
       "              ('Age', None),\n",
       "              ('SibSp', 8),\n",
       "              ('Parch', 2),\n",
       "              ('Ticket', 'CA. 2343'),\n",
       "              ('Fare', 69.55),\n",
       "              ('Cabin', None),\n",
       "              ('Embarked', 'S'),\n",
       "              ('Sur', 69.55),\n",
       "              ('First Name', 'Sage')]),\n",
       " OrderedDict([('PassengerId', '181'),\n",
       "              ('Survived', '0'),\n",
       "              ('Pclass', '3'),\n",
       "              ('Name', 'Sage, Miss. Constance Gladys'),\n",
       "              ('Sex', 'female'),\n",
       "              ('Age', None),\n",
       "              ('SibSp', 8),\n",
       "              ('Parch', 2),\n",
       "              ('Ticket', 'CA. 2343'),\n",
       "              ('Fare', 69.55),\n",
       "              ('Cabin', None),\n",
       "              ('Embarked', 'S'),\n",
       "              ('Sur', 69.55),\n",
       "              ('First Name', 'Sage')]),\n",
       " OrderedDict([('PassengerId', '202'),\n",
       "              ('Survived', '0'),\n",
       "              ('Pclass', '3'),\n",
       "              ('Name', 'Sage, Mr. Frederick'),\n",
       "              ('Sex', 'male'),\n",
       "              ('Age', None),\n",
       "              ('SibSp', 8),\n",
       "              ('Parch', 2),\n",
       "              ('Ticket', 'CA. 2343'),\n",
       "              ('Fare', 69.55),\n",
       "              ('Cabin', None),\n",
       "              ('Embarked', 'S'),\n",
       "              ('Sur', 69.55),\n",
       "              ('First Name', 'Sage')]),\n",
       " OrderedDict([('PassengerId', '325'),\n",
       "              ('Survived', '0'),\n",
       "              ('Pclass', '3'),\n",
       "              ('Name', 'Sage, Mr. George John Jr'),\n",
       "              ('Sex', 'male'),\n",
       "              ('Age', None),\n",
       "              ('SibSp', 8),\n",
       "              ('Parch', 2),\n",
       "              ('Ticket', 'CA. 2343'),\n",
       "              ('Fare', 69.55),\n",
       "              ('Cabin', None),\n",
       "              ('Embarked', 'S'),\n",
       "              ('Sur', 69.55),\n",
       "              ('First Name', 'Sage')]),\n",
       " OrderedDict([('PassengerId', '793'),\n",
       "              ('Survived', '0'),\n",
       "              ('Pclass', '3'),\n",
       "              ('Name', 'Sage, Miss. Stella Anna'),\n",
       "              ('Sex', 'female'),\n",
       "              ('Age', None),\n",
       "              ('SibSp', 8),\n",
       "              ('Parch', 2),\n",
       "              ('Ticket', 'CA. 2343'),\n",
       "              ('Fare', 69.55),\n",
       "              ('Cabin', None),\n",
       "              ('Embarked', 'S'),\n",
       "              ('Sur', 69.55),\n",
       "              ('First Name', 'Sage')]),\n",
       " OrderedDict([('PassengerId', '847'),\n",
       "              ('Survived', '0'),\n",
       "              ('Pclass', '3'),\n",
       "              ('Name', 'Sage, Mr. Douglas Bullen'),\n",
       "              ('Sex', 'male'),\n",
       "              ('Age', None),\n",
       "              ('SibSp', 8),\n",
       "              ('Parch', 2),\n",
       "              ('Ticket', 'CA. 2343'),\n",
       "              ('Fare', 69.55),\n",
       "              ('Cabin', None),\n",
       "              ('Embarked', 'S'),\n",
       "              ('Sur', 69.55),\n",
       "              ('First Name', 'Sage')]),\n",
       " OrderedDict([('PassengerId', '864'),\n",
       "              ('Survived', '0'),\n",
       "              ('Pclass', '3'),\n",
       "              ('Name', 'Sage, Miss. Dorothy Edith \"Dolly\"'),\n",
       "              ('Sex', 'female'),\n",
       "              ('Age', None),\n",
       "              ('SibSp', 8),\n",
       "              ('Parch', 2),\n",
       "              ('Ticket', 'CA. 2343'),\n",
       "              ('Fare', 69.55),\n",
       "              ('Cabin', None),\n",
       "              ('Embarked', 'S'),\n",
       "              ('Sur', 69.55),\n",
       "              ('First Name', 'Sage')])]"
      ]
     },
     "execution_count": 54,
     "metadata": {},
     "output_type": "execute_result"
    }
   ],
   "source": [
    "titanic_by_ticket = defaultdict(list)\n",
    "for passenger in titanic_names:\n",
    "    if passenger['Embarked'] == 'S':\n",
    "        key = passenger['Ticket']\n",
    "        titanic_by_ticket[key].append(passenger)\n",
    "    \n",
    "titanic_by_ticket['CA. 2343']"
   ]
  },
  {
   "cell_type": "code",
   "execution_count": 90,
   "metadata": {},
   "outputs": [
    {
     "data": {
      "text/plain": [
       "{'110152': 3,\n",
       " '110413': 3,\n",
       " '110465': 2,\n",
       " '110564': 1,\n",
       " '111240': 1,\n",
       " '111320': 1,\n",
       " '111427': 1,\n",
       " '111428': 1,\n",
       " '112050': 1,\n",
       " '112052': 1,\n",
       " '112053': 1,\n",
       " '112058': 1,\n",
       " '112059': 1,\n",
       " '113028': 1,\n",
       " '113043': 1,\n",
       " '113050': 1,\n",
       " '113055': 1,\n",
       " '113056': 1,\n",
       " '113059': 1,\n",
       " '113501': 1,\n",
       " '113505': 2,\n",
       " '113510': 1,\n",
       " '113514': 1,\n",
       " '113760': 4,\n",
       " '113767': 1,\n",
       " '113773': 1,\n",
       " '113776': 2,\n",
       " '113781': 4,\n",
       " '113783': 1,\n",
       " '113784': 1,\n",
       " '113786': 1,\n",
       " '113787': 1,\n",
       " '113788': 1,\n",
       " '113789': 2,\n",
       " '113792': 1,\n",
       " '113794': 1,\n",
       " '113796': 1,\n",
       " '113798': 1,\n",
       " '113800': 1,\n",
       " '113803': 2,\n",
       " '113804': 1,\n",
       " '113806': 2,\n",
       " '113807': 1,\n",
       " '11668': 2,\n",
       " '11751': 2,\n",
       " '11752': 1,\n",
       " '11753': 1,\n",
       " '11769': 1,\n",
       " '12233': 1,\n",
       " '12749': 2,\n",
       " '13502': 3,\n",
       " '13507': 2,\n",
       " '13509': 1,\n",
       " '14973': 1,\n",
       " '1601': 7,\n",
       " '16988': 1,\n",
       " '17463': 1,\n",
       " '17464': 1,\n",
       " '17465': 1,\n",
       " '17466': 1,\n",
       " '17474': 2,\n",
       " '19877': 2,\n",
       " '19943': 2,\n",
       " '19947': 1,\n",
       " '19950': 4,\n",
       " '19952': 1,\n",
       " '19972': 1,\n",
       " '19988': 1,\n",
       " '19996': 2,\n",
       " '2003': 1,\n",
       " '211536': 1,\n",
       " '21440': 1,\n",
       " '218629': 1,\n",
       " '220367': 1,\n",
       " '220845': 2,\n",
       " '2223': 1,\n",
       " '223596': 1,\n",
       " '226875': 1,\n",
       " '228414': 1,\n",
       " '229236': 1,\n",
       " '230080': 3,\n",
       " '230136': 2,\n",
       " '230433': 2,\n",
       " '230434': 1,\n",
       " '231919': 2,\n",
       " '231945': 1,\n",
       " '233639': 1,\n",
       " '233866': 1,\n",
       " '234360': 1,\n",
       " '234604': 1,\n",
       " '234686': 1,\n",
       " '236171': 1,\n",
       " '236852': 1,\n",
       " '236853': 1,\n",
       " '237442': 1,\n",
       " '237565': 1,\n",
       " '237668': 1,\n",
       " '237671': 1,\n",
       " '237789': 1,\n",
       " '237798': 1,\n",
       " '239853': 3,\n",
       " '239854': 1,\n",
       " '239855': 1,\n",
       " '239856': 1,\n",
       " '239865': 2,\n",
       " '240929': 1,\n",
       " '24160': 3,\n",
       " '243847': 2,\n",
       " '243880': 1,\n",
       " '244252': 2,\n",
       " '244270': 1,\n",
       " '244278': 1,\n",
       " '244310': 1,\n",
       " '244358': 1,\n",
       " '244361': 1,\n",
       " '244367': 2,\n",
       " '244373': 1,\n",
       " '248698': 1,\n",
       " '248706': 1,\n",
       " '248723': 1,\n",
       " '248727': 3,\n",
       " '248731': 1,\n",
       " '248733': 1,\n",
       " '248738': 2,\n",
       " '248740': 1,\n",
       " '248747': 1,\n",
       " '250643': 1,\n",
       " '250644': 2,\n",
       " '250646': 1,\n",
       " '250647': 2,\n",
       " '250648': 1,\n",
       " '250649': 2,\n",
       " '250651': 1,\n",
       " '250652': 1,\n",
       " '250653': 1,\n",
       " '250655': 2,\n",
       " '26360': 2,\n",
       " '26707': 1,\n",
       " '27042': 1,\n",
       " '27267': 1,\n",
       " '27849': 1,\n",
       " '28134': 1,\n",
       " '28206': 1,\n",
       " '28213': 1,\n",
       " '28220': 1,\n",
       " '28228': 1,\n",
       " '28403': 2,\n",
       " '28424': 1,\n",
       " '28425': 1,\n",
       " '28551': 1,\n",
       " '28664': 1,\n",
       " '28665': 1,\n",
       " '29011': 1,\n",
       " '2908': 2,\n",
       " '29103': 1,\n",
       " '29104': 1,\n",
       " '29105': 1,\n",
       " '29106': 3,\n",
       " '29108': 1,\n",
       " '2926': 1,\n",
       " '29750': 2,\n",
       " '29751': 1,\n",
       " '3101264': 1,\n",
       " '3101265': 1,\n",
       " '3101267': 1,\n",
       " '3101276': 1,\n",
       " '3101277': 1,\n",
       " '3101278': 2,\n",
       " '3101281': 1,\n",
       " '3101295': 6,\n",
       " '3101296': 1,\n",
       " '3101298': 1,\n",
       " '31027': 2,\n",
       " '31028': 1,\n",
       " '312991': 1,\n",
       " '312992': 1,\n",
       " '312993': 1,\n",
       " '31418': 1,\n",
       " '315037': 1,\n",
       " '315082': 1,\n",
       " '315084': 1,\n",
       " '315086': 1,\n",
       " '315088': 1,\n",
       " '315089': 1,\n",
       " '315090': 1,\n",
       " '315093': 1,\n",
       " '315094': 1,\n",
       " '315096': 1,\n",
       " '315097': 1,\n",
       " '315098': 1,\n",
       " '315151': 1,\n",
       " '315153': 1,\n",
       " '323592': 1,\n",
       " '323951': 1,\n",
       " '324669': 1,\n",
       " '33638': 1,\n",
       " '341826': 1,\n",
       " '34218': 1,\n",
       " '342826': 1,\n",
       " '343095': 1,\n",
       " '343120': 1,\n",
       " '343275': 1,\n",
       " '343276': 1,\n",
       " '345364': 1,\n",
       " '345572': 1,\n",
       " '345763': 1,\n",
       " '345764': 2,\n",
       " '345765': 1,\n",
       " '345767': 1,\n",
       " '345769': 1,\n",
       " '345770': 1,\n",
       " '345773': 3,\n",
       " '345774': 1,\n",
       " '345777': 1,\n",
       " '345778': 1,\n",
       " '345779': 1,\n",
       " '345780': 1,\n",
       " '345781': 1,\n",
       " '345783': 1,\n",
       " '3460': 1,\n",
       " '347054': 2,\n",
       " '347060': 1,\n",
       " '347061': 1,\n",
       " '347062': 1,\n",
       " '347063': 1,\n",
       " '347064': 1,\n",
       " '347067': 1,\n",
       " '347068': 1,\n",
       " '347069': 1,\n",
       " '347071': 1,\n",
       " '347073': 1,\n",
       " '347074': 1,\n",
       " '347076': 1,\n",
       " '347077': 4,\n",
       " '347078': 1,\n",
       " '347080': 2,\n",
       " '347081': 1,\n",
       " '347082': 7,\n",
       " '347083': 1,\n",
       " '347085': 1,\n",
       " '347087': 1,\n",
       " '347088': 6,\n",
       " '347089': 1,\n",
       " '3474': 1,\n",
       " '347464': 1,\n",
       " '347466': 1,\n",
       " '347468': 1,\n",
       " '347470': 1,\n",
       " '347742': 3,\n",
       " '347743': 1,\n",
       " '348121': 1,\n",
       " '348123': 1,\n",
       " '348124': 1,\n",
       " '349201': 1,\n",
       " '349203': 1,\n",
       " '349204': 1,\n",
       " '349205': 1,\n",
       " '349206': 1,\n",
       " '349207': 1,\n",
       " '349208': 1,\n",
       " '349209': 1,\n",
       " '349210': 1,\n",
       " '349212': 1,\n",
       " '349214': 1,\n",
       " '349215': 1,\n",
       " '349216': 1,\n",
       " '349217': 1,\n",
       " '349218': 1,\n",
       " '349219': 1,\n",
       " '349221': 1,\n",
       " '349222': 1,\n",
       " '349223': 1,\n",
       " '349224': 1,\n",
       " '349225': 1,\n",
       " '349227': 1,\n",
       " '349228': 1,\n",
       " '349231': 1,\n",
       " '349233': 1,\n",
       " '349234': 1,\n",
       " '349236': 1,\n",
       " '349237': 2,\n",
       " '349242': 1,\n",
       " '349243': 1,\n",
       " '349244': 1,\n",
       " '349245': 1,\n",
       " '349246': 1,\n",
       " '349247': 1,\n",
       " '349248': 1,\n",
       " '349249': 1,\n",
       " '349251': 1,\n",
       " '349252': 1,\n",
       " '349257': 1,\n",
       " '349909': 4,\n",
       " '349910': 1,\n",
       " '349912': 1,\n",
       " '350025': 1,\n",
       " '350026': 1,\n",
       " '350029': 1,\n",
       " '350034': 1,\n",
       " '350035': 1,\n",
       " '350036': 1,\n",
       " '350042': 1,\n",
       " '350043': 1,\n",
       " '350046': 1,\n",
       " '350047': 1,\n",
       " '350048': 1,\n",
       " '350050': 1,\n",
       " '350052': 1,\n",
       " '350060': 1,\n",
       " '350404': 1,\n",
       " '350406': 1,\n",
       " '350407': 1,\n",
       " '350417': 1,\n",
       " '35281': 2,\n",
       " '358585': 2,\n",
       " '362316': 1,\n",
       " '363291': 3,\n",
       " '363294': 1,\n",
       " '363592': 1,\n",
       " '364498': 1,\n",
       " '364499': 1,\n",
       " '364500': 1,\n",
       " '364506': 1,\n",
       " '364511': 1,\n",
       " '364512': 1,\n",
       " '364516': 2,\n",
       " '36928': 2,\n",
       " '36963': 1,\n",
       " '36967': 1,\n",
       " '36973': 2,\n",
       " '370129': 2,\n",
       " '371362': 1,\n",
       " '373450': 1,\n",
       " '374746': 1,\n",
       " '374887': 1,\n",
       " '374910': 1,\n",
       " '376564': 2,\n",
       " '376566': 1,\n",
       " '386525': 1,\n",
       " '392091': 1,\n",
       " '392092': 1,\n",
       " '392096': 2,\n",
       " '4133': 4,\n",
       " '4134': 1,\n",
       " '4135': 1,\n",
       " '4136': 1,\n",
       " '4137': 1,\n",
       " '4138': 1,\n",
       " '4579': 1,\n",
       " '54636': 2,\n",
       " '5727': 1,\n",
       " '65303': 1,\n",
       " '65304': 1,\n",
       " '65306': 1,\n",
       " '6563': 1,\n",
       " '693': 1,\n",
       " '695': 1,\n",
       " '7267': 1,\n",
       " '7534': 2,\n",
       " '7540': 1,\n",
       " '7545': 1,\n",
       " '7546': 1,\n",
       " '7552': 1,\n",
       " '7553': 1,\n",
       " '7598': 1,\n",
       " '8471': 1,\n",
       " '8475': 1,\n",
       " 'A./5. 2152': 1,\n",
       " 'A./5. 3235': 1,\n",
       " 'A.5. 11206': 1,\n",
       " 'A.5. 18509': 1,\n",
       " 'A/4 45380': 1,\n",
       " 'A/4 48871': 2,\n",
       " 'A/4. 20589': 1,\n",
       " 'A/4. 34244': 1,\n",
       " 'A/4. 39886': 1,\n",
       " 'A/5 21171': 1,\n",
       " 'A/5 21172': 1,\n",
       " 'A/5 21173': 1,\n",
       " 'A/5 21174': 1,\n",
       " 'A/5 2466': 1,\n",
       " 'A/5 2817': 1,\n",
       " 'A/5 3536': 1,\n",
       " 'A/5 3540': 1,\n",
       " 'A/5 3594': 1,\n",
       " 'A/5 3902': 1,\n",
       " 'A/5. 10482': 1,\n",
       " 'A/5. 2151': 1,\n",
       " 'A/5. 3336': 2,\n",
       " 'A/5. 3337': 1,\n",
       " 'A/5. 851': 1,\n",
       " 'A/S 2816': 1,\n",
       " 'A4. 54510': 1,\n",
       " 'C 17369': 1,\n",
       " 'C 4001': 1,\n",
       " 'C 7075': 1,\n",
       " 'C 7076': 1,\n",
       " 'C 7077': 1,\n",
       " 'C.A. 17248': 1,\n",
       " 'C.A. 18723': 1,\n",
       " 'C.A. 2315': 2,\n",
       " 'C.A. 24579': 1,\n",
       " 'C.A. 24580': 1,\n",
       " 'C.A. 2673': 2,\n",
       " 'C.A. 29178': 1,\n",
       " 'C.A. 29395': 1,\n",
       " 'C.A. 29566': 1,\n",
       " 'C.A. 31026': 1,\n",
       " 'C.A. 31921': 3,\n",
       " 'C.A. 33111': 1,\n",
       " 'C.A. 33112': 2,\n",
       " 'C.A. 33595': 1,\n",
       " 'C.A. 34260': 1,\n",
       " 'C.A. 34651': 3,\n",
       " 'C.A. 37671': 2,\n",
       " 'C.A. 5547': 1,\n",
       " 'C.A. 6212': 1,\n",
       " 'C.A./SOTON 34068': 1,\n",
       " 'CA 2144': 6,\n",
       " 'CA. 2314': 1,\n",
       " 'CA. 2343': 7,\n",
       " 'F.C. 12750': 1,\n",
       " 'F.C.C. 13528': 1,\n",
       " 'F.C.C. 13529': 3,\n",
       " 'F.C.C. 13531': 1,\n",
       " 'Fa 265302': 1,\n",
       " 'LINE': 4,\n",
       " 'PC 17318': 1,\n",
       " 'PC 17473': 1,\n",
       " 'PC 17474': 1,\n",
       " 'PC 17475': 1,\n",
       " 'PC 17476': 1,\n",
       " 'PC 17483': 1,\n",
       " 'PC 17582': 3,\n",
       " 'PC 17590': 1,\n",
       " 'PC 17592': 1,\n",
       " 'PC 17611': 2,\n",
       " 'PC 17760': 1,\n",
       " 'PP 4348': 1,\n",
       " 'PP 9549': 2,\n",
       " 'S.C./A.4. 23567': 1,\n",
       " 'S.O./P.P. 3': 2,\n",
       " 'S.O./P.P. 751': 1,\n",
       " 'S.O.C. 14879': 5,\n",
       " 'S.O.P. 1166': 1,\n",
       " 'S.P. 3464': 1,\n",
       " 'S.W./PP 752': 1,\n",
       " 'SC/AH 29037': 1,\n",
       " 'SC/AH 3085': 1,\n",
       " 'SCO/W 1585': 1,\n",
       " 'SO/C 14885': 1,\n",
       " 'SOTON/O.Q. 3101305': 1,\n",
       " 'SOTON/O.Q. 3101306': 1,\n",
       " 'SOTON/O.Q. 3101307': 1,\n",
       " 'SOTON/O.Q. 3101310': 1,\n",
       " 'SOTON/O.Q. 3101311': 1,\n",
       " 'SOTON/O.Q. 3101312': 1,\n",
       " 'SOTON/O.Q. 392078': 1,\n",
       " 'SOTON/O.Q. 392087': 1,\n",
       " 'SOTON/O2 3101272': 1,\n",
       " 'SOTON/O2 3101287': 1,\n",
       " 'SOTON/OQ 3101316': 1,\n",
       " 'SOTON/OQ 3101317': 1,\n",
       " 'SOTON/OQ 392076': 1,\n",
       " 'SOTON/OQ 392082': 1,\n",
       " 'SOTON/OQ 392086': 1,\n",
       " 'SOTON/OQ 392089': 1,\n",
       " 'SOTON/OQ 392090': 1,\n",
       " 'STON/O 2. 3101269': 1,\n",
       " 'STON/O 2. 3101273': 1,\n",
       " 'STON/O 2. 3101274': 1,\n",
       " 'STON/O 2. 3101275': 1,\n",
       " 'STON/O 2. 3101280': 1,\n",
       " 'STON/O 2. 3101285': 1,\n",
       " 'STON/O 2. 3101286': 1,\n",
       " 'STON/O 2. 3101288': 1,\n",
       " 'STON/O 2. 3101289': 1,\n",
       " 'STON/O 2. 3101292': 1,\n",
       " 'STON/O 2. 3101293': 1,\n",
       " 'STON/O 2. 3101294': 1,\n",
       " 'STON/O2. 3101271': 1,\n",
       " 'STON/O2. 3101279': 2,\n",
       " 'STON/O2. 3101282': 1,\n",
       " 'STON/O2. 3101283': 1,\n",
       " 'STON/O2. 3101290': 1,\n",
       " 'SW/PP 751': 1,\n",
       " 'W./C. 14258': 1,\n",
       " 'W./C. 14263': 1,\n",
       " 'W./C. 6607': 2,\n",
       " 'W./C. 6608': 4,\n",
       " 'W./C. 6609': 1,\n",
       " 'W.E.P. 5734': 1,\n",
       " 'W/C 14208': 1,\n",
       " 'WE/P 5735': 2}"
      ]
     },
     "execution_count": 90,
     "metadata": {},
     "output_type": "execute_result"
    }
   ],
   "source": [
    "sum_grouped_items(titanic_by_name)\n",
    "sum_grouped_items(titanic_by_ticket)"
   ]
  },
  {
   "cell_type": "code",
   "execution_count": 43,
   "metadata": {},
   "outputs": [
    {
     "name": "stdout",
     "output_type": "stream",
     "text": [
      "OrderedDict([('PassengerId', '32'), ('Survived', '1'), ('Pclass', '1'), ('Name', 'Spencer, Mrs. William Augustus (Marie Eugenie)'), ('Sex', 'female'), ('Age', None), ('SibSp', 1), ('Parch', 0), ('Ticket', 'PC 17569'), ('Fare', 146.5208), ('Cabin', 'B78'), ('Embarked', 'C'), ('Sur', 146.5208), ('First Name', 'Spencer')])\n"
     ]
    }
   ],
   "source": [
    "married = []\n",
    "for person in titanic_data:\n",
    "    if person['Cabin'] == 'B78':\n",
    "        print(person)"
   ]
  },
  {
   "cell_type": "code",
   "execution_count": 32,
   "metadata": {
    "collapsed": true
   },
   "outputs": [],
   "source": [
    "married = []\n",
    "for person in titanic_data:\n",
    "    if person['Sex'] == 'female':\n",
    "        if 'Mrs' in person['Name']:\n",
    "            married.append(person)\n",
    "            \n",
    "married"
   ]
  },
  {
   "cell_type": "code",
   "execution_count": 60,
   "metadata": {},
   "outputs": [
    {
     "ename": "ModuleNotFoundError",
     "evalue": "No module named 'plotly'",
     "output_type": "error",
     "traceback": [
      "\u001b[1;31m---------------------------------------------------------------------------\u001b[0m",
      "\u001b[1;31mModuleNotFoundError\u001b[0m                       Traceback (most recent call last)",
      "\u001b[1;32m<ipython-input-60-263d89bc10a5>\u001b[0m in \u001b[0;36m<module>\u001b[1;34m()\u001b[0m\n\u001b[1;32m----> 1\u001b[1;33m \u001b[1;32mimport\u001b[0m \u001b[0mplotly\u001b[0m\u001b[1;33m.\u001b[0m\u001b[0mplotly\u001b[0m \u001b[1;32mas\u001b[0m \u001b[0mpy\u001b[0m\u001b[1;33m\u001b[0m\u001b[0m\n\u001b[0m\u001b[0;32m      2\u001b[0m \u001b[1;32mimport\u001b[0m \u001b[0mplotly\u001b[0m\u001b[1;33m.\u001b[0m\u001b[0mtools\u001b[0m \u001b[1;32mas\u001b[0m \u001b[0mtls\u001b[0m\u001b[1;33m\u001b[0m\u001b[0m\n\u001b[0;32m      3\u001b[0m \u001b[1;31m# Learn about API authentication here: https://plot.ly/python/getting-started\u001b[0m\u001b[1;33m\u001b[0m\u001b[1;33m\u001b[0m\u001b[0m\n\u001b[0;32m      4\u001b[0m \u001b[1;31m# Find your api_key here: https://plot.ly/settings/api\u001b[0m\u001b[1;33m\u001b[0m\u001b[1;33m\u001b[0m\u001b[0m\n\u001b[0;32m      5\u001b[0m \u001b[1;33m\u001b[0m\u001b[0m\n",
      "\u001b[1;31mModuleNotFoundError\u001b[0m: No module named 'plotly'"
     ]
    }
   ],
   "source": []
  },
  {
   "cell_type": "code",
   "execution_count": null,
   "metadata": {
    "collapsed": true
   },
   "outputs": [],
   "source": []
  }
 ],
 "metadata": {
  "kernelspec": {
   "display_name": "Python 3",
   "language": "python",
   "name": "python3"
  },
  "language_info": {
   "codemirror_mode": {
    "name": "ipython",
    "version": 3
   },
   "file_extension": ".py",
   "mimetype": "text/x-python",
   "name": "python",
   "nbconvert_exporter": "python",
   "pygments_lexer": "ipython3",
   "version": "3.6.1"
  }
 },
 "nbformat": 4,
 "nbformat_minor": 2
}
